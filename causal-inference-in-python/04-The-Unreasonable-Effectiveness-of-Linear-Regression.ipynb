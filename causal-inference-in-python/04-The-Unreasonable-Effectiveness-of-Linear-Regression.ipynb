{
 "cells": [
  {
   "cell_type": "markdown",
   "metadata": {},
   "source": [
    "# 04 - The Unreasonable Effectiveness of Linear Regression\n",
    " \n",
    " \n",
    "## All You Need is Linear Regression\n",
    " \n",
    " \n",
    "### Why We Need Models\n",
    " \n"
   ]
  },
  {
   "cell_type": "code",
   "execution_count": null,
   "metadata": {
    "ExecuteTime": {
     "end_time": "2023-06-25T15:09:47.845199Z",
     "start_time": "2023-06-25T15:09:45.813625Z"
    },
    "tags": [
     "hide-input"
    ]
   },
   "outputs": [],
   "source": [
    "import warnings\n",
    "warnings.filterwarnings('ignore')\n",
    "\n",
    "import pandas as pd\n",
    "import numpy as np\n",
    "import graphviz as gr\n",
    "from matplotlib import style\n",
    "import seaborn as sns\n",
    "from matplotlib import pyplot as plt\n",
    "style.use(\"ggplot\")\n",
    "import statsmodels.formula.api as smf\n",
    "import matplotlib\n",
    "from cycler import cycler\n",
    "\n",
    "default_cycler = (cycler(color=['0.3', '0.5', '0.7', '0.5']))\n",
    "\n",
    "color=['0.3', '0.5', '0.7', '0.9']\n",
    "linestyle=['-', '--', ':', '-.']\n",
    "marker=['o', 'v', 'd', 'p']\n",
    "\n",
    "plt.rc('axes', prop_cycle=default_cycler)\n",
    "\n",
    "gr.set_default_format(\"png\");"
   ]
  },
  {
   "cell_type": "code",
   "execution_count": null,
   "metadata": {
    "ExecuteTime": {
     "end_time": "2023-06-25T15:09:48.081517Z",
     "start_time": "2023-06-25T15:09:47.854728Z"
    },
    "tags": [
     "hide-input"
    ]
   },
   "outputs": [],
   "source": [
    "g_risk = gr.Digraph(graph_attr={\"rankdir\":\"LR\"})\n",
    "\n",
    "g_risk.edge(\"Risk\", \"X\")\n",
    "g_risk.edge(\"X\", \"Credit Limit\")\n",
    "g_risk.edge(\"X\", \"Default\")\n",
    "g_risk.edge(\"Credit Limit\", \"Default\")\n",
    "\n",
    "g_risk"
   ]
  },
  {
   "cell_type": "markdown",
   "metadata": {},
   "source": [
    "### Regression in A/B Tests\n"
   ]
  },
  {
   "cell_type": "code",
   "execution_count": null,
   "metadata": {
    "ExecuteTime": {
     "end_time": "2023-06-25T15:09:48.104171Z",
     "start_time": "2023-06-25T15:09:48.090446Z"
    }
   },
   "outputs": [],
   "source": [
    "import pandas as pd\n",
    "import numpy as np\n",
    "\n",
    "data = pd.read_csv(\"./data/rec_ab_test.csv\")\n",
    "data.head()"
   ]
  },
  {
   "cell_type": "code",
   "execution_count": null,
   "metadata": {
    "ExecuteTime": {
     "end_time": "2023-06-25T15:09:48.135005Z",
     "start_time": "2023-06-25T15:09:48.120084Z"
    }
   },
   "outputs": [],
   "source": [
    "import statsmodels.formula.api as smf\n",
    "\n",
    "result = smf.ols('watch_time ~ C(recommender)', data=data).fit()\n",
    "\n",
    "result.summary().tables[1]"
   ]
  },
  {
   "cell_type": "code",
   "execution_count": null,
   "metadata": {
    "ExecuteTime": {
     "end_time": "2023-06-25T15:09:48.154510Z",
     "start_time": "2023-06-25T15:09:48.149312Z"
    }
   },
   "outputs": [],
   "source": [
    "(data\n",
    " .groupby(\"recommender\")\n",
    " [\"watch_time\"]\n",
    " .mean())"
   ]
  },
  {
   "cell_type": "markdown",
   "metadata": {},
   "source": [
    "### Adjusting with Regression\n"
   ]
  },
  {
   "cell_type": "code",
   "execution_count": null,
   "metadata": {
    "ExecuteTime": {
     "end_time": "2023-06-25T15:09:48.919026Z",
     "start_time": "2023-06-25T15:09:48.871583Z"
    }
   },
   "outputs": [],
   "source": [
    "risk_data = pd.read_csv(\"./data/risk_data.csv\")\n",
    "\n",
    "risk_data.head()"
   ]
  },
  {
   "cell_type": "code",
   "execution_count": null,
   "metadata": {
    "ExecuteTime": {
     "end_time": "2023-06-25T15:09:49.366423Z",
     "start_time": "2023-06-25T15:09:49.322580Z"
    }
   },
   "outputs": [],
   "source": [
    "model = smf.ols('default ~ credit_limit', data=risk_data).fit()\n",
    "model.summary().tables[1]"
   ]
  },
  {
   "cell_type": "code",
   "execution_count": null,
   "metadata": {
    "ExecuteTime": {
     "end_time": "2023-06-25T15:09:50.530208Z",
     "start_time": "2023-06-25T15:09:50.301495Z"
    },
    "tags": [
     "hide-input"
    ]
   },
   "outputs": [],
   "source": [
    "plt_df = (risk_data\n",
    "          .assign(size=1)\n",
    "          .groupby(\"credit_limit\")\n",
    "          .agg({\"default\": \"mean\", \"size\":sum})\n",
    "          .reset_index()\n",
    "          .assign(prediction = lambda d: model.predict(d)))\n",
    "\n",
    "plt.figure(figsize=(10,4))\n",
    "\n",
    "sns.scatterplot(data=plt_df,\n",
    "                x=\"credit_limit\",\n",
    "                y=\"default\",\n",
    "                size=\"size\",\n",
    "                sizes=(1,100))\n",
    "\n",
    "plt.plot(plt_df[\"credit_limit\"], plt_df[\"prediction\"], color=\"C1\")\n",
    "plt.title(\"Default Rate by Credit Limit\")\n"
   ]
  },
  {
   "cell_type": "code",
   "execution_count": null,
   "metadata": {
    "ExecuteTime": {
     "end_time": "2023-06-25T15:10:01.007172Z",
     "start_time": "2023-06-25T15:10:00.986084Z"
    }
   },
   "outputs": [],
   "source": [
    "risk_data.groupby([\"credit_score1\", \"credit_score2\"]).size().head()"
   ]
  },
  {
   "cell_type": "code",
   "execution_count": null,
   "metadata": {
    "ExecuteTime": {
     "end_time": "2023-06-25T15:10:01.442912Z",
     "start_time": "2023-06-25T15:10:01.381953Z"
    }
   },
   "outputs": [],
   "source": [
    "formula = 'default ~ credit_limit + wage+credit_score1+credit_score2'\n",
    "model = smf.ols(formula, data=risk_data).fit()\n",
    "model.summary().tables[1]"
   ]
  },
  {
   "cell_type": "markdown",
   "metadata": {},
   "source": [
    "## Regression Theory\n"
   ]
  },
  {
   "cell_type": "code",
   "execution_count": null,
   "metadata": {
    "ExecuteTime": {
     "end_time": "2023-05-12T11:02:45.659057Z",
     "start_time": "2023-05-12T11:02:45.650525Z"
    }
   },
   "outputs": [],
   "source": [
    "X_cols = [\"credit_limit\", \"wage\", \"credit_score1\", \"credit_score2\"]\n",
    "X = risk_data[X_cols].assign(intercep=1)\n",
    "y = risk_data[\"default\"]\n",
    "\n",
    "def regress(y, X): \n",
    "    return np.linalg.inv(X.T.dot(X)).dot(X.T.dot(y))\n",
    "\n",
    "beta = regress(y, X)\n",
    "beta"
   ]
  },
  {
   "cell_type": "markdown",
   "metadata": {},
   "source": [
    " \n",
    "### Single Variable Linear Regression\n"
   ]
  },
  {
   "cell_type": "markdown",
   "metadata": {},
   "source": [
    "### Multivariate Linear Regression\n"
   ]
  },
  {
   "cell_type": "markdown",
   "metadata": {},
   "source": [
    "## Frisch-Waugh-Lovell Theorem and Orthogonalization\n"
   ]
  },
  {
   "cell_type": "code",
   "execution_count": null,
   "metadata": {
    "ExecuteTime": {
     "end_time": "2023-05-12T11:02:45.707252Z",
     "start_time": "2023-05-12T11:02:45.660874Z"
    }
   },
   "outputs": [],
   "source": [
    "formula = 'default ~ credit_limit + wage+credit_score1+credit_score2'\n",
    "model = smf.ols(formula, data=risk_data).fit()\n",
    "model.summary().tables[1]"
   ]
  },
  {
   "cell_type": "markdown",
   "metadata": {},
   "source": [
    "### Debiasing Step\n"
   ]
  },
  {
   "cell_type": "code",
   "execution_count": null,
   "metadata": {
    "ExecuteTime": {
     "end_time": "2023-05-12T11:02:45.848780Z",
     "start_time": "2023-05-12T11:02:45.709053Z"
    },
    "tags": [
     "hide-input"
    ]
   },
   "outputs": [],
   "source": [
    "plt_df = (risk_data\n",
    "          .assign(size=1)\n",
    "          .groupby(\"credit_limit\")\n",
    "          .agg({\"default\": \"mean\", \"size\":sum})\n",
    "          .reset_index())\n",
    "\n",
    "plt.figure(figsize=(10,4))\n",
    "sns.scatterplot(data=plt_df,\n",
    "                x=\"credit_limit\",\n",
    "                y=\"default\",\n",
    "                size=\"size\",\n",
    "                sizes=(1,100))\n",
    "\n",
    "\n",
    "plt.title(\"Default Rate by Credit Limit\")\n"
   ]
  },
  {
   "cell_type": "code",
   "execution_count": null,
   "metadata": {
    "ExecuteTime": {
     "end_time": "2023-05-12T11:02:45.889451Z",
     "start_time": "2023-05-12T11:02:45.854239Z"
    }
   },
   "outputs": [],
   "source": [
    "debiasing_model = smf.ols(\n",
    "    'credit_limit ~ wage + credit_score1  + credit_score2',\n",
    "    data=risk_data\n",
    ").fit()\n",
    "\n",
    "risk_data_deb = risk_data.assign(\n",
    "    # for visualization, avg(T) is added to the residuals\n",
    "    credit_limit_res=(debiasing_model.resid \n",
    "                      + risk_data[\"credit_limit\"].mean())\n",
    ")"
   ]
  },
  {
   "cell_type": "code",
   "execution_count": null,
   "metadata": {
    "ExecuteTime": {
     "end_time": "2023-05-12T11:02:45.914990Z",
     "start_time": "2023-05-12T11:02:45.890837Z"
    }
   },
   "outputs": [],
   "source": [
    "model_w_deb_data = smf.ols('default ~ credit_limit_res',\n",
    "                           data=risk_data_deb).fit()\n",
    "\n",
    "model_w_deb_data.summary().tables[1]"
   ]
  },
  {
   "cell_type": "code",
   "execution_count": null,
   "metadata": {
    "ExecuteTime": {
     "end_time": "2023-05-12T11:02:46.056997Z",
     "start_time": "2023-05-12T11:02:45.916989Z"
    },
    "tags": [
     "hide-input"
    ]
   },
   "outputs": [],
   "source": [
    "plt_df = (risk_data_deb\n",
    "          .assign(size=1)\n",
    "          .assign(credit_limit_res = lambda d: d[\"credit_limit_res\"].round(-2))\n",
    "          .groupby(\"credit_limit_res\")\n",
    "          .agg({\"default\": \"mean\", \"size\":sum})\n",
    "          .query(\"size>30\")\n",
    "          .reset_index())\n",
    "\n",
    "plt.figure(figsize=(10,4))\n",
    "sns.scatterplot(data=plt_df,\n",
    "                x=\"credit_limit_res\",\n",
    "                y=\"default\",\n",
    "                size=\"size\",\n",
    "                sizes=(1,100))\n",
    "\n",
    "plt.title(\"Default Rate by Debiased Credit Limit\")\n"
   ]
  },
  {
   "cell_type": "markdown",
   "metadata": {},
   "source": [
    "### Denoising Step\n"
   ]
  },
  {
   "cell_type": "code",
   "execution_count": null,
   "metadata": {
    "ExecuteTime": {
     "end_time": "2023-05-12T11:02:46.096204Z",
     "start_time": "2023-05-12T11:02:46.058746Z"
    }
   },
   "outputs": [],
   "source": [
    "denoising_model = smf.ols(\n",
    "    'default ~ wage + credit_score1  + credit_score2',\n",
    "    data=risk_data_deb\n",
    ").fit()\n",
    "\n",
    "risk_data_denoise = risk_data_deb.assign(\n",
    "    default_res=denoising_model.resid + risk_data_deb[\"default\"].mean()\n",
    ")"
   ]
  },
  {
   "cell_type": "markdown",
   "metadata": {},
   "source": [
    "### Standard Error of the Regression Estimator"
   ]
  },
  {
   "cell_type": "code",
   "execution_count": null,
   "metadata": {
    "ExecuteTime": {
     "end_time": "2023-05-12T11:02:46.158157Z",
     "start_time": "2023-05-12T11:02:46.097819Z"
    }
   },
   "outputs": [],
   "source": [
    "model_se = smf.ols(\n",
    "    'default ~ wage + credit_score1  + credit_score2',\n",
    "    data=risk_data\n",
    ").fit()\n",
    "\n",
    "print(\"SE regression:\", model_se.bse[\"wage\"])\n",
    "\n",
    "\n",
    "model_wage_aux = smf.ols(\n",
    "    'wage ~ credit_score1 + credit_score2',\n",
    "    data=risk_data\n",
    ").fit()\n",
    "\n",
    "# subtract the degrees of freedom - 4 model parameters - from N.\n",
    "se_formula = (np.std(model_se.resid)\n",
    "              /(np.std(model_wage_aux.resid)*np.sqrt(len(risk_data)-4)))\n",
    "\n",
    "print(\"SE formula:   \", se_formula)"
   ]
  },
  {
   "cell_type": "markdown",
   "metadata": {},
   "source": [
    "### Final Outcome Model\n"
   ]
  },
  {
   "cell_type": "code",
   "execution_count": null,
   "metadata": {
    "ExecuteTime": {
     "end_time": "2023-05-12T11:02:46.184760Z",
     "start_time": "2023-05-12T11:02:46.159719Z"
    }
   },
   "outputs": [],
   "source": [
    "model_w_orthogonal = smf.ols('default_res ~ credit_limit_res',\n",
    "                             data=risk_data_denoise).fit()\n",
    "\n",
    "model_w_orthogonal.summary().tables[1]"
   ]
  },
  {
   "cell_type": "code",
   "execution_count": null,
   "metadata": {
    "ExecuteTime": {
     "end_time": "2023-05-12T11:02:46.331214Z",
     "start_time": "2023-05-12T11:02:46.186387Z"
    },
    "tags": [
     "hide-input"
    ]
   },
   "outputs": [],
   "source": [
    "plt_df = (risk_data_denoise\n",
    "          .assign(size=1)\n",
    "          .assign(credit_limit_res = lambda d: d[\"credit_limit_res\"].round(-2))\n",
    "          .groupby(\"credit_limit_res\")\n",
    "          .agg({\"default_res\": \"mean\", \"size\":sum})\n",
    "          .query(\"size>30\")\n",
    "          .reset_index()\n",
    "          .assign(prediction = lambda d: model_w_orthogonal.predict(d)))\n",
    "\n",
    "plt.figure(figsize=(10,4))\n",
    "sns.scatterplot(data=plt_df,\n",
    "                x=\"credit_limit_res\",\n",
    "                y=\"default_res\",\n",
    "                size=\"size\",\n",
    "                sizes=(1,100))\n",
    "\n",
    "plt.plot(plt_df[\"credit_limit_res\"], plt_df[\"prediction\"], c=\"C1\")\n",
    "\n",
    "plt.title(\"Denoised Default Rate by Debiased Credit Limit\")\n",
    "\n"
   ]
  },
  {
   "cell_type": "markdown",
   "metadata": {},
   "source": [
    "### FWL Summary\n"
   ]
  },
  {
   "cell_type": "markdown",
   "metadata": {},
   "source": [
    "## Regression as an Outcome Model\n"
   ]
  },
  {
   "cell_type": "markdown",
   "metadata": {},
   "source": [
    "## Positivity and Extrapolation\n"
   ]
  },
  {
   "cell_type": "code",
   "execution_count": null,
   "metadata": {
    "ExecuteTime": {
     "end_time": "2023-05-12T11:02:46.671640Z",
     "start_time": "2023-05-12T11:02:46.333383Z"
    },
    "tags": [
     "hide-input"
    ]
   },
   "outputs": [],
   "source": [
    "np.random.seed(1)\n",
    "\n",
    "n = 1000\n",
    "x = np.random.normal(0, 1, n)\n",
    "t = np.random.normal(x, 0.2, n) > 0\n",
    "\n",
    "y0 = x \n",
    "y1 = 1 + x\n",
    "\n",
    "y = np.random.normal((1-t)*y0 + t*y1, 0.2)\n",
    "\n",
    "df_no_pos = pd.DataFrame(dict(x=x,t=t.astype(int),y=y))\n",
    "\n",
    "fig, (ax1, ax2) = plt.subplots(1, 2, figsize=(12, 6), sharey=True)\n",
    "\n",
    "sns.scatterplot(data=df_no_pos, x=\"x\", y=\"y\", hue=\"t\", ax=ax1)\n",
    "\n",
    "m0 = smf.ols(\"y~x\", data=df_no_pos.query(f\"t==0\")).fit()\n",
    "m1 = smf.ols(\"y~x\", data=df_no_pos.query(f\"t==1\")).fit()\n",
    "\n",
    "sns.lineplot(data=df_no_pos.assign(pred=m0.predict(df_no_pos)), x=\"x\", y=\"pred\", color=f\"C0\", ax=ax1)\n",
    "sns.lineplot(data=df_no_pos.assign(pred=m1.predict(df_no_pos)), x=\"x\", y=\"pred\", color=f\"C1\", ax=ax1);\n",
    "ax1.set_title(\"Dataset 1\")\n",
    "ax1.legend(title=\"Treatment\", labels=[\"Control\", \"Treatment\"])\n",
    "\n",
    "np.random.seed(1)\n",
    "\n",
    "n = 1000\n",
    "x = np.random.normal(0, 1, n)\n",
    "t = np.random.binomial(1, 0.5, size=n)\n",
    "\n",
    "y0 = x * (x<0) + (x>0)*0\n",
    "y1 = 1 + x\n",
    "\n",
    "y = np.random.normal((1-t)*y0 + t*y1, 0.2)\n",
    "\n",
    "df_pos = pd.DataFrame(dict(x=x,t=t.astype(int),y=y))\n",
    "\n",
    "sns.scatterplot(data=df_pos, x=\"x\", hue=\"t\", y=\"y\", ax=ax2)\n",
    "\n",
    "sns.lineplot(data=df_no_pos.assign(pred=m0.predict(df_pos)), x=\"x\", y=\"pred\", color=f\"C0\", ax=ax2)\n",
    "sns.lineplot(data=df_no_pos.assign(pred=m1.predict(df_pos)), x=\"x\", y=\"pred\", color=f\"C1\", ax=ax2)\n",
    "ax2.set_title(\"Dataset 2\")\n",
    "ax2.legend(title=\"Treatment\", labels=[\"Control\", \"Treatment\"])\n",
    "\n"
   ]
  },
  {
   "cell_type": "markdown",
   "metadata": {},
   "source": [
    "## Non-Linearities in Linear Regression\n"
   ]
  },
  {
   "cell_type": "code",
   "execution_count": null,
   "metadata": {
    "ExecuteTime": {
     "end_time": "2023-05-12T11:02:46.700699Z",
     "start_time": "2023-05-12T11:02:46.672696Z"
    }
   },
   "outputs": [],
   "source": [
    "spend_data = pd.read_csv(\"./data/spend_data.csv\")\n",
    "\n",
    "spend_data.head()"
   ]
  },
  {
   "cell_type": "code",
   "execution_count": null,
   "metadata": {
    "ExecuteTime": {
     "end_time": "2023-05-12T11:02:46.929708Z",
     "start_time": "2023-05-12T11:02:46.702166Z"
    },
    "tags": [
     "hide-input"
    ]
   },
   "outputs": [],
   "source": [
    "g_risk = gr.Digraph(graph_attr={\"rankdir\":\"LR\"})\n",
    "\n",
    "g_risk.edge(\"Wage\", \"Credit Limit\")\n",
    "g_risk.edge(\"Wage\", \"Spend\")\n",
    "g_risk.edge(\"Credit Limit\", \"Spend\")\n",
    "\n",
    "g_risk"
   ]
  },
  {
   "cell_type": "code",
   "execution_count": null,
   "metadata": {
    "ExecuteTime": {
     "end_time": "2023-05-12T11:02:47.164910Z",
     "start_time": "2023-05-12T11:02:46.931465Z"
    },
    "tags": [
     "hide-input"
    ]
   },
   "outputs": [],
   "source": [
    "plt_df = (spend_data\n",
    "          .assign(wage_group = lambda d: pd.IntervalIndex(pd.qcut(d[\"wage\"], 5)).mid)\n",
    "          .groupby([\"wage_group\", \"credit_limit\"])\n",
    "          [[\"spend\"]]\n",
    "          .mean()\n",
    "          .reset_index())\n",
    "\n",
    "plt.figure(figsize=(10,4))\n",
    "sns.scatterplot(data=plt_df, \n",
    "                x=\"credit_limit\",\n",
    "                y=\"spend\",\n",
    "                hue=\"wage_group\",\n",
    "                palette=\"gray\")\n"
   ]
  },
  {
   "cell_type": "markdown",
   "metadata": {},
   "source": [
    "![img](./data/img/code-img/04-img8.png)\n",
    "\n",
    "Rather, the treatment response curve seems to have some sort of concavity to it: the higher the credit limit, the lower the slope of this curve. Or, in causal inference language, since slopes and causal effects are intimately related, you can also say that the effect of lines on spend diminishes as you increase lines: going from a line of 1000 to 2000 increases spend more than going from 2000 to 3000. \n",
    " \n",
    "### Linearizing the Treatment\n",
    " \n",
    "To deal with that, you first need to transform the treatment into something that does have a linear relationship with the outcome. For instance, you know that the relationship seems concave, so you can try to apply some concave function to lines. Some good candidates to try out are the Log function, the square root function or any function that takes credit lines to the power of a fraction. \n",
    " \n",
    "In this case, let's try the square root:"
   ]
  },
  {
   "cell_type": "code",
   "execution_count": null,
   "metadata": {
    "ExecuteTime": {
     "end_time": "2023-05-12T11:02:47.389071Z",
     "start_time": "2023-05-12T11:02:47.166140Z"
    },
    "tags": [
     "hide-input"
    ]
   },
   "outputs": [],
   "source": [
    "plt_df = (spend_data\n",
    "          # apply the sqrt function to the treatment\n",
    "          .assign(credit_limit_sqrt = np.sqrt(spend_data[\"credit_limit\"]))\n",
    "          # create 5 wage binds for better vizualization\n",
    "          .assign(wage_group = pd.IntervalIndex(pd.qcut(spend_data[\"wage\"], 5)).mid)\n",
    "          .groupby([\"wage_group\", \"credit_limit_sqrt\"])\n",
    "          [[\"spend\"]]\n",
    "          .mean()\n",
    "          .reset_index())\n",
    "\n",
    "plt.figure(figsize=(10,4))\n",
    "sns.scatterplot(data=plt_df, \n",
    "                x=\"credit_limit_sqrt\",\n",
    "                y=\"spend\",\n",
    "                palette=\"gray\",\n",
    "                hue=\"wage_group\")\n"
   ]
  },
  {
   "cell_type": "code",
   "execution_count": null,
   "metadata": {
    "ExecuteTime": {
     "end_time": "2023-05-12T11:02:47.415659Z",
     "start_time": "2023-05-12T11:02:47.390568Z"
    }
   },
   "outputs": [],
   "source": [
    "model_spend = smf.ols(\n",
    "    'spend ~ np.sqrt(credit_limit)',data=spend_data\n",
    ").fit()\n",
    "\n",
    "model_spend.summary().tables[1]"
   ]
  },
  {
   "cell_type": "code",
   "execution_count": null,
   "metadata": {
    "ExecuteTime": {
     "end_time": "2023-05-12T11:02:47.607362Z",
     "start_time": "2023-05-12T11:02:47.417283Z"
    },
    "tags": [
     "hide-input"
    ]
   },
   "outputs": [],
   "source": [
    "plt_df = (spend_data\n",
    "          .assign(wage_group = lambda d: pd.IntervalIndex(pd.qcut(d[\"wage\"], 5)).mid)\n",
    "          .groupby([\"wage_group\", \"credit_limit\"])\n",
    "          [[\"spend\"]]\n",
    "          .mean()\n",
    "          .reset_index()\n",
    "         )\n",
    "\n",
    "x = np.linspace(plt_df[\"credit_limit\"].min(), plt_df[\"credit_limit\"].max())\n",
    "\n",
    "plt.figure(figsize=(10,4))\n",
    "plt.plot(x, model_spend.params[0] + model_spend.params[1]*np.sqrt(x), color=\"C1\", label=\"prediction\", lw=4)\n",
    "plt.legend()\n",
    "sns.scatterplot(data=plt_df, \n",
    "                x=\"credit_limit\",\n",
    "                y=\"spend\",\n",
    "                palette=\"gray\",\n",
    "                hue=\"wage_group\")\n",
    "\n"
   ]
  },
  {
   "cell_type": "code",
   "execution_count": null,
   "metadata": {
    "ExecuteTime": {
     "end_time": "2023-05-12T11:02:47.640660Z",
     "start_time": "2023-05-12T11:02:47.608683Z"
    }
   },
   "outputs": [],
   "source": [
    "model_spend = smf.ols('spend ~ np.sqrt(credit_limit)+wage',\n",
    "                      data=spend_data).fit()\n",
    "\n",
    "model_spend.summary().tables[1]"
   ]
  },
  {
   "cell_type": "markdown",
   "metadata": {},
   "source": [
    "### Non-Linear FWL and Debiasing\n"
   ]
  },
  {
   "cell_type": "code",
   "execution_count": null,
   "metadata": {
    "ExecuteTime": {
     "end_time": "2023-05-12T11:02:47.701043Z",
     "start_time": "2023-05-12T11:02:47.642293Z"
    }
   },
   "outputs": [],
   "source": [
    "debias_spend_model = smf.ols(f'np.sqrt(credit_limit) ~ wage',\n",
    "                             data=spend_data).fit()\n",
    "denoise_spend_model = smf.ols(f'spend ~ wage', data=spend_data).fit()\n",
    "\n",
    "\n",
    "credit_limit_sqrt_deb = (debias_spend_model.resid \n",
    "                         + np.sqrt(spend_data[\"credit_limit\"]).mean())\n",
    "spend_den = denoise_spend_model.resid + spend_data[\"spend\"].mean()\n",
    "\n",
    "\n",
    "spend_data_deb = (spend_data\n",
    "                  .assign(credit_limit_sqrt_deb = credit_limit_sqrt_deb,\n",
    "                          spend_den = spend_den))\n",
    "\n",
    "final_model = smf.ols(f'spend_den ~ credit_limit_sqrt_deb',\n",
    "                      data=spend_data_deb).fit()\n",
    "\n",
    "final_model.summary().tables[1]"
   ]
  },
  {
   "cell_type": "code",
   "execution_count": null,
   "metadata": {
    "ExecuteTime": {
     "end_time": "2023-05-12T11:02:47.927359Z",
     "start_time": "2023-05-12T11:02:47.703091Z"
    },
    "tags": [
     "hide-input"
    ]
   },
   "outputs": [],
   "source": [
    "plt_df = (spend_data\n",
    "          .assign(wage_group = lambda d: pd.IntervalIndex(pd.qcut(d[\"wage\"], 5)).mid)\n",
    "          .groupby([\"wage_group\", \"credit_limit\"])\n",
    "          [[\"spend\"]]\n",
    "          .mean()\n",
    "          .reset_index())\n",
    "\n",
    "x = np.linspace(plt_df[\"credit_limit\"].min(), plt_df[\"credit_limit\"].max())\n",
    "\n",
    "plt.figure(figsize=(10,4))\n",
    "plt.plot(x, (final_model.params[0] \n",
    "             + final_model.params[1]*np.sqrt(x)),\n",
    "         color=\"C1\", label=\"prediction\", lw=4)\n",
    "\n",
    "plt.legend()\n",
    "\n",
    "sns.scatterplot(data=plt_df, \n",
    "                x=\"credit_limit\",\n",
    "                y=\"spend\",\n",
    "                palette=\"gray\",\n",
    "                hue=\"wage_group\")\n"
   ]
  },
  {
   "cell_type": "markdown",
   "metadata": {},
   "source": [
    "## Regression for Dummies\n",
    " \n",
    "### Conditionally Random Experiments\n"
   ]
  },
  {
   "cell_type": "code",
   "execution_count": null,
   "metadata": {
    "ExecuteTime": {
     "end_time": "2023-05-12T11:02:47.942790Z",
     "start_time": "2023-05-12T11:02:47.928761Z"
    }
   },
   "outputs": [],
   "source": [
    "risk_data_rnd = pd.read_csv(\"./data/risk_data_rnd.csv\")\n",
    "risk_data_rnd.head()"
   ]
  },
  {
   "cell_type": "code",
   "execution_count": null,
   "metadata": {
    "ExecuteTime": {
     "end_time": "2023-05-12T11:02:48.330665Z",
     "start_time": "2023-05-12T11:02:47.944140Z"
    },
    "tags": [
     "hide-input"
    ]
   },
   "outputs": [],
   "source": [
    "plt.figure(figsize=(15,6))\n",
    "sns.histplot(data=risk_data_rnd,\n",
    "             x=\"credit_limit\",\n",
    "             hue=\"credit_score1_buckets\",\n",
    "             kde=True,\n",
    "             palette=\"gray\");\n",
    "plt.title(\"Conditional random experiment\")"
   ]
  },
  {
   "cell_type": "markdown",
   "metadata": {},
   "source": [
    "### Dummy Variables\n",
    " \n"
   ]
  },
  {
   "cell_type": "code",
   "execution_count": null,
   "metadata": {
    "ExecuteTime": {
     "end_time": "2023-05-12T11:02:48.342917Z",
     "start_time": "2023-05-12T11:02:48.331844Z"
    }
   },
   "outputs": [],
   "source": [
    "model = smf.ols(\"default ~ credit_limit\", data=risk_data_rnd).fit()\n",
    "model.summary().tables[1]"
   ]
  },
  {
   "cell_type": "code",
   "execution_count": null,
   "metadata": {
    "ExecuteTime": {
     "end_time": "2023-05-12T11:02:48.346791Z",
     "start_time": "2023-05-12T11:02:48.344650Z"
    },
    "tags": [
     "hide-input"
    ]
   },
   "outputs": [],
   "source": [
    "pd.set_option('display.max_columns', 9)"
   ]
  },
  {
   "cell_type": "code",
   "execution_count": null,
   "metadata": {
    "ExecuteTime": {
     "end_time": "2023-05-12T11:02:48.358062Z",
     "start_time": "2023-05-12T11:02:48.348218Z"
    }
   },
   "outputs": [],
   "source": [
    "risk_data_dummies = (risk_data_rnd\n",
    "                     .join(pd.get_dummies(risk_data_rnd[\"credit_score1_buckets\"],\n",
    "                                          prefix=\"sb\",\n",
    "                                          drop_first=True)))\n",
    "risk_data_dummies.head()"
   ]
  },
  {
   "cell_type": "code",
   "execution_count": null,
   "metadata": {
    "ExecuteTime": {
     "end_time": "2023-05-12T11:02:48.381603Z",
     "start_time": "2023-05-12T11:02:48.359512Z"
    }
   },
   "outputs": [],
   "source": [
    "model = smf.ols(\n",
    "    \"default ~ credit_limit + sb_200+sb_400+sb_600+sb_800+sb_1000\",\n",
    "    data=risk_data_dummies\n",
    ").fit()\n",
    "\n",
    "model.summary().tables[1]"
   ]
  },
  {
   "cell_type": "code",
   "execution_count": null,
   "metadata": {
    "ExecuteTime": {
     "end_time": "2023-05-12T11:02:48.430041Z",
     "start_time": "2023-05-12T11:02:48.383003Z"
    }
   },
   "outputs": [],
   "source": [
    "model = smf.ols(\"default ~ credit_limit + C(credit_score1_buckets)\",\n",
    "                data=risk_data_rnd).fit()\n",
    "\n",
    "model.summary().tables[1]"
   ]
  },
  {
   "cell_type": "code",
   "execution_count": null,
   "metadata": {
    "ExecuteTime": {
     "end_time": "2023-05-12T11:02:48.554890Z",
     "start_time": "2023-05-12T11:02:48.431682Z"
    },
    "tags": [
     "hide-input"
    ]
   },
   "outputs": [],
   "source": [
    "plt_df = (risk_data_rnd\n",
    "          .assign(risk_prediction = model.fittedvalues)\n",
    "          .groupby([\"credit_limit\", \"credit_score1_buckets\"])\n",
    "          [\"risk_prediction\"]\n",
    "          .mean()\n",
    "          .reset_index())\n",
    "\n",
    "plt.figure(figsize=(10,4))\n",
    "sns.lineplot(data=plt_df,\n",
    "             x=\"credit_limit\", y=\"risk_prediction\", hue=\"credit_score1_buckets\", palette = 'gray');\n",
    "plt.title(\"Fitted values by group\")\n",
    "plt.legend(loc='center left', bbox_to_anchor=(1, 0.5))\n"
   ]
  },
  {
   "cell_type": "markdown",
   "metadata": {},
   "source": [
    "### Saturated Regression Model\n"
   ]
  },
  {
   "cell_type": "code",
   "execution_count": null,
   "metadata": {
    "ExecuteTime": {
     "end_time": "2023-05-12T11:02:48.578768Z",
     "start_time": "2023-05-12T11:02:48.556705Z"
    }
   },
   "outputs": [],
   "source": [
    "def regress(df, t, y):\n",
    "    return smf.ols(f\"{y}~{t}\", data=df).fit().params[t]\n",
    "\n",
    "effect_by_group = (risk_data_rnd\n",
    "                   .groupby(\"credit_score1_buckets\")\n",
    "                   .apply(regress, y=\"default\", t=\"credit_limit\"))\n",
    "effect_by_group"
   ]
  },
  {
   "cell_type": "code",
   "execution_count": null,
   "metadata": {
    "ExecuteTime": {
     "end_time": "2023-05-12T11:02:48.584830Z",
     "start_time": "2023-05-12T11:02:48.580087Z"
    }
   },
   "outputs": [],
   "source": [
    "group_size = risk_data_rnd.groupby(\"credit_score1_buckets\").size()\n",
    "ate = (effect_by_group * group_size).sum() / group_size.sum()\n",
    "ate"
   ]
  },
  {
   "cell_type": "code",
   "execution_count": null,
   "metadata": {
    "ExecuteTime": {
     "end_time": "2023-05-12T11:02:48.696265Z",
     "start_time": "2023-05-12T11:02:48.641114Z"
    }
   },
   "outputs": [],
   "source": [
    "model = smf.ols(\"default ~ credit_limit * C(credit_score1_buckets)\",\n",
    "                data=risk_data_rnd).fit()\n",
    "model.summary().tables[1]"
   ]
  },
  {
   "cell_type": "code",
   "execution_count": null,
   "metadata": {
    "ExecuteTime": {
     "end_time": "2023-05-12T11:02:48.702228Z",
     "start_time": "2023-05-12T11:02:48.697590Z"
    }
   },
   "outputs": [],
   "source": [
    "(model.params[model.params.index.str.contains(\"credit_limit:\")]\n",
    " + model.params[\"credit_limit\"]).round(9)"
   ]
  },
  {
   "cell_type": "code",
   "execution_count": null,
   "metadata": {
    "ExecuteTime": {
     "end_time": "2023-05-12T11:02:48.828411Z",
     "start_time": "2023-05-12T11:02:48.703481Z"
    },
    "tags": [
     "hide-input"
    ]
   },
   "outputs": [],
   "source": [
    "plt_df = (risk_data_rnd\n",
    "          .assign(risk_prediction = model.fittedvalues)\n",
    "          .groupby([\"credit_limit\", \"credit_score1_buckets\"])\n",
    "          [\"risk_prediction\"]\n",
    "          .mean()\n",
    "          .reset_index())\n",
    "\n",
    "plt.figure(figsize=(10,4))\n",
    "sns.lineplot(data=plt_df,\n",
    "             x=\"credit_limit\", y=\"risk_prediction\", hue=\"credit_score1_buckets\",  palette=\"gray\");\n",
    "plt.title(\"Fitted values by group\")\n",
    "plt.legend(loc='center left', bbox_to_anchor=(1, 0.5))"
   ]
  },
  {
   "cell_type": "markdown",
   "metadata": {},
   "source": [
    "### Regression as Variance Weighted Average\n"
   ]
  },
  {
   "cell_type": "code",
   "execution_count": null,
   "metadata": {
    "ExecuteTime": {
     "end_time": "2023-05-12T11:02:48.837985Z",
     "start_time": "2023-05-12T11:02:48.830057Z"
    }
   },
   "outputs": [],
   "source": [
    "np.random.seed(123)\n",
    "\n",
    "# std(t)=1\n",
    "t1 = np.random.normal(0, 1, size=1000)\n",
    "df1 = pd.DataFrame(dict(\n",
    "    t=t1,\n",
    "    y=1*t1, # ATE of 1\n",
    "    g=1,\n",
    "))\n",
    "\n",
    "# std(t)=2\n",
    "t2 = np.random.normal(0, 2, size=500)\n",
    "df2 = pd.DataFrame(dict(\n",
    "    t=t2,\n",
    "    y=2*t2, # ATE of 2\n",
    "    g=2,\n",
    "))\n",
    "\n",
    "df = pd.concat([df1, df2])\n",
    "df.head()"
   ]
  },
  {
   "cell_type": "code",
   "execution_count": null,
   "metadata": {
    "ExecuteTime": {
     "end_time": "2023-05-12T11:02:48.850911Z",
     "start_time": "2023-05-12T11:02:48.839720Z"
    }
   },
   "outputs": [],
   "source": [
    "effect_by_group = df.groupby(\"g\").apply(regress, y=\"y\", t=\"t\")\n",
    "ate = (effect_by_group *\n",
    "       df.groupby(\"g\").size()).sum() / df.groupby(\"g\").size().sum()\n",
    "ate"
   ]
  },
  {
   "cell_type": "code",
   "execution_count": null,
   "metadata": {
    "ExecuteTime": {
     "end_time": "2023-05-12T11:02:48.865544Z",
     "start_time": "2023-05-12T11:02:48.852685Z"
    }
   },
   "outputs": [],
   "source": [
    "model = smf.ols(\"y ~ t + C(g)\", data=df).fit()\n",
    "model.params"
   ]
  },
  {
   "cell_type": "markdown",
   "metadata": {},
   "source": [
    "### De-Meaning and Fixed Effects\n"
   ]
  },
  {
   "cell_type": "code",
   "execution_count": null,
   "metadata": {
    "ExecuteTime": {
     "end_time": "2023-05-12T11:02:48.912734Z",
     "start_time": "2023-05-12T11:02:48.867121Z"
    }
   },
   "outputs": [],
   "source": [
    "model_deb = smf.ols(\"credit_limit ~ C(credit_score1_buckets)\",\n",
    "                    data=risk_data_rnd).fit()\n",
    "model_deb.summary().tables[1]"
   ]
  },
  {
   "cell_type": "code",
   "execution_count": null,
   "metadata": {
    "ExecuteTime": {
     "end_time": "2023-05-12T11:02:48.918850Z",
     "start_time": "2023-05-12T11:02:48.914449Z"
    }
   },
   "outputs": [],
   "source": [
    "risk_data_rnd.groupby(\"credit_score1_buckets\")[\"credit_limit\"].mean()"
   ]
  },
  {
   "cell_type": "code",
   "execution_count": null,
   "metadata": {
    "ExecuteTime": {
     "end_time": "2023-05-12T11:02:48.924170Z",
     "start_time": "2023-05-12T11:02:48.920104Z"
    }
   },
   "outputs": [],
   "source": [
    "risk_data_fe = risk_data_rnd.assign(\n",
    "    credit_limit_avg = lambda d: (d\n",
    "                                  .groupby(\"credit_score1_buckets\")\n",
    "                                  [\"credit_limit\"].transform(\"mean\"))\n",
    ")"
   ]
  },
  {
   "cell_type": "code",
   "execution_count": null,
   "metadata": {
    "ExecuteTime": {
     "end_time": "2023-05-12T11:02:48.938351Z",
     "start_time": "2023-05-12T11:02:48.925781Z"
    }
   },
   "outputs": [],
   "source": [
    "model = smf.ols(\"default ~ I(credit_limit-credit_limit_avg)\",\n",
    "                data=risk_data_fe).fit()\n",
    "model.summary().tables[1]"
   ]
  },
  {
   "cell_type": "code",
   "execution_count": null,
   "metadata": {
    "ExecuteTime": {
     "end_time": "2023-05-12T11:02:48.954283Z",
     "start_time": "2023-05-12T11:02:48.939976Z"
    }
   },
   "outputs": [],
   "source": [
    "model = smf.ols(\"default ~ credit_limit + credit_limit_avg\",\n",
    "                data=risk_data_fe).fit()\n",
    "model.summary().tables[1]"
   ]
  },
  {
   "cell_type": "markdown",
   "metadata": {},
   "source": [
    "## Omitted Variable Bias: Confounding Through the Lens of Regression\n"
   ]
  },
  {
   "cell_type": "code",
   "execution_count": null,
   "metadata": {
    "ExecuteTime": {
     "end_time": "2023-05-12T11:02:49.131659Z",
     "start_time": "2023-05-12T11:02:48.955782Z"
    },
    "tags": [
     "hide-input"
    ]
   },
   "outputs": [],
   "source": [
    "g = gr.Digraph(graph_attr={\"rankdir\":\"LR\"})\n",
    "\n",
    "\n",
    "g.edge(\"Lines\", \"Default\")\n",
    "g.edge(\"Wage\", \"Default\"),\n",
    "g.edge(\"Wage\", \"Lines\")\n",
    "\n",
    "\n",
    "g"
   ]
  },
  {
   "cell_type": "code",
   "execution_count": null,
   "metadata": {
    "ExecuteTime": {
     "end_time": "2023-05-12T11:02:49.158827Z",
     "start_time": "2023-05-12T11:02:49.133769Z"
    }
   },
   "outputs": [],
   "source": [
    "short_model = smf.ols(\"default ~ credit_limit\", data=risk_data).fit()\n",
    "short_model.params[\"credit_limit\"]"
   ]
  },
  {
   "cell_type": "code",
   "execution_count": null,
   "metadata": {
    "ExecuteTime": {
     "end_time": "2023-05-12T11:02:49.217992Z",
     "start_time": "2023-05-12T11:02:49.163681Z"
    }
   },
   "outputs": [],
   "source": [
    "long_model = smf.ols(\"default ~ credit_limit + wage\",\n",
    "                     data=risk_data).fit()\n",
    "\n",
    "omitted_model = smf.ols(\"wage ~ credit_limit\", data=risk_data).fit()\n",
    "\n",
    "(long_model.params[\"credit_limit\"] \n",
    " + long_model.params[\"wage\"]*omitted_model.params[\"credit_limit\"])"
   ]
  },
  {
   "cell_type": "markdown",
   "metadata": {},
   "source": [
    "## Neutral Controls\n"
   ]
  },
  {
   "cell_type": "code",
   "execution_count": null,
   "metadata": {
    "ExecuteTime": {
     "end_time": "2023-05-12T11:02:49.384088Z",
     "start_time": "2023-05-12T11:02:49.219727Z"
    },
    "tags": [
     "hide-input"
    ]
   },
   "outputs": [],
   "source": [
    "g = gr.Digraph(graph_attr={\"rankdir\":\"LR\"})\n",
    "\n",
    "g.edge(\"credit_score1_buckets\", \"Default\"),\n",
    "g.edge(\"credit_score1_buckets\", \"Lines\"),\n",
    "g.edge(\"credit_score2\", \"Default\"),\n",
    "g.edge(\"Lines\", \"Default\")\n",
    "\n",
    "g"
   ]
  },
  {
   "cell_type": "code",
   "execution_count": null,
   "metadata": {
    "ExecuteTime": {
     "end_time": "2023-05-12T11:02:49.440161Z",
     "start_time": "2023-05-12T11:02:49.386357Z"
    }
   },
   "outputs": [],
   "source": [
    "formula = \"default~credit_limit+C(credit_score1_buckets)+credit_score2\"\n",
    "model = smf.ols(formula, data=risk_data_rnd).fit()\n",
    "model.summary().tables[1]"
   ]
  },
  {
   "cell_type": "markdown",
   "metadata": {},
   "source": [
    "### Noise Inducing Control\n"
   ]
  },
  {
   "cell_type": "code",
   "execution_count": null,
   "metadata": {
    "ExecuteTime": {
     "end_time": "2023-05-12T11:02:49.600381Z",
     "start_time": "2023-05-12T11:02:49.442100Z"
    },
    "tags": [
     "hide-input"
    ]
   },
   "outputs": [],
   "source": [
    "g = gr.Digraph(graph_attr={\"rankdir\":\"LR\"})\n",
    "\n",
    "\n",
    "g.edge(\"credit_score1_buckets\", \"Lines\"),\n",
    "g.edge(\"U\", \"Spend\"),\n",
    "g.edge(\"Lines\", \"Spend\")\n",
    "\n",
    "g"
   ]
  },
  {
   "cell_type": "code",
   "execution_count": null,
   "metadata": {
    "ExecuteTime": {
     "end_time": "2023-05-12T11:02:49.615600Z",
     "start_time": "2023-05-12T11:02:49.602050Z"
    }
   },
   "outputs": [],
   "source": [
    "spend_data_rnd = pd.read_csv(\"data/spend_data_rnd.csv\")\n",
    "\n",
    "model = smf.ols(\"spend ~ np.sqrt(credit_limit)\",\n",
    "                data=spend_data_rnd).fit()\n",
    "\n",
    "model.summary().tables[1]"
   ]
  },
  {
   "cell_type": "code",
   "execution_count": null,
   "metadata": {
    "ExecuteTime": {
     "end_time": "2023-05-12T11:02:49.629959Z",
     "start_time": "2023-05-12T11:02:49.617433Z"
    }
   },
   "outputs": [],
   "source": [
    "model = smf.ols(\"spend~np.sqrt(credit_limit)+C(credit_score1_buckets)\",\n",
    "                data=spend_data_rnd).fit()\n",
    "\n",
    "model.summary().tables[1]"
   ]
  },
  {
   "cell_type": "markdown",
   "metadata": {},
   "source": [
    "### Feature Selection: A Bias-Variance Trade-Off\n"
   ]
  },
  {
   "cell_type": "code",
   "execution_count": null,
   "metadata": {
    "ExecuteTime": {
     "end_time": "2023-05-12T11:02:49.835553Z",
     "start_time": "2023-05-12T11:02:49.631596Z"
    },
    "tags": [
     "hide-input"
    ]
   },
   "outputs": [],
   "source": [
    "g = gr.Digraph(graph_attr={\"rankdir\": \"LR\"})\n",
    "\n",
    "\n",
    "g.edge(\"X1\", \"T\", penwidth=\"5\"),\n",
    "g.edge(\"X2\", \"T\", penwidth=\"3\"),\n",
    "g.edge(\"X3\", \"T\", penwidth=\"1\"),\n",
    "\n",
    "g.edge(\"X1\", \"Y\", penwidth=\"1\"),\n",
    "g.edge(\"X2\", \"Y\", penwidth=\"3\"),\n",
    "g.edge(\"X3\", \"Y\", penwidth=\"5\"),\n",
    "\n",
    "g.edge(\"T\", \"Y\"),\n",
    "\n",
    "g"
   ]
  },
  {
   "cell_type": "code",
   "execution_count": null,
   "metadata": {
    "ExecuteTime": {
     "end_time": "2023-05-12T11:02:49.852980Z",
     "start_time": "2023-05-12T11:02:49.837739Z"
    }
   },
   "outputs": [],
   "source": [
    "np.random.seed(123)\n",
    "\n",
    "n = 100\n",
    "(x1, x2, x3) = (np.random.normal(0, 1, n) for _ in range(3))\n",
    "t = np.random.normal(10*x1 + 5*x2 + x3)\n",
    "\n",
    "# ate = 0.05\n",
    "y = np.random.normal(0.05*t + x1 + 5*x2 + 10*x3, 5)\n",
    "df = pd.DataFrame(dict(y=y, t=t, x1=x1, x2=x2, x3=x3))\n",
    "\n",
    "smf.ols(\"y~t+x1+x2+x3\", data=df).fit().summary().tables[1]"
   ]
  },
  {
   "cell_type": "code",
   "execution_count": null,
   "metadata": {
    "ExecuteTime": {
     "end_time": "2023-05-12T11:02:49.864735Z",
     "start_time": "2023-05-12T11:02:49.854195Z"
    }
   },
   "outputs": [],
   "source": [
    "smf.ols(\"y~t+x2+x3\", data=df).fit().summary().tables[1]"
   ]
  },
  {
   "cell_type": "markdown",
   "metadata": {},
   "source": [
    "## Key Ideas\n"
   ]
  },
  {
   "cell_type": "code",
   "execution_count": null,
   "metadata": {
    "ExecuteTime": {
     "end_time": "2023-05-12T11:02:50.050118Z",
     "start_time": "2023-05-12T11:02:49.865957Z"
    },
    "tags": [
     "hide-input"
    ]
   },
   "outputs": [],
   "source": [
    "import graphviz as gr\n",
    "\n",
    "g = gr.Digraph(format=\"png\")\n",
    "\n",
    "g.edge(\"Parent's Income\", \"Private\")\n",
    "g.edge(\"SAT\", \"Private\")\n",
    "g.edge(\"Ambition\", \"Private\")\n",
    "g.edge(\"...\", \"Private\")\n",
    "\n",
    "g.edge(\"Parent's Income\", \"Income\")\n",
    "g.edge(\"SAT\", \"Income\")\n",
    "g.edge(\"Ambition\", \"Income\")\n",
    "g.edge(\"...\", \"Income\")\n",
    "\n",
    "g.edge(\"Private\", \"Income\")\n",
    "\n",
    "g"
   ]
  },
  {
   "cell_type": "code",
   "execution_count": null,
   "metadata": {},
   "outputs": [],
   "source": []
  }
 ],
 "metadata": {
  "celltoolbar": "Tags",
  "kernelspec": {
   "display_name": ".venv",
   "language": "python",
   "name": "python3"
  },
  "language_info": {
   "codemirror_mode": {
    "name": "ipython",
    "version": 3
   },
   "file_extension": ".py",
   "mimetype": "text/x-python",
   "name": "python",
   "nbconvert_exporter": "python",
   "pygments_lexer": "ipython3",
   "version": "3.12.10"
  },
  "toc": {
   "base_numbering": 1,
   "nav_menu": {},
   "number_sections": true,
   "sideBar": true,
   "skip_h1_title": false,
   "title_cell": "Table of Contents",
   "title_sidebar": "Contents",
   "toc_cell": false,
   "toc_position": {},
   "toc_section_display": true,
   "toc_window_display": false
  },
  "varInspector": {
   "cols": {
    "lenName": 16,
    "lenType": 16,
    "lenVar": 40
   },
   "kernels_config": {
    "python": {
     "delete_cmd_postfix": "",
     "delete_cmd_prefix": "del ",
     "library": "var_list.py",
     "varRefreshCmd": "print(var_dic_list())"
    },
    "r": {
     "delete_cmd_postfix": ") ",
     "delete_cmd_prefix": "rm(",
     "library": "var_list.r",
     "varRefreshCmd": "cat(var_dic_list()) "
    }
   },
   "types_to_exclude": [
    "module",
    "function",
    "builtin_function_or_method",
    "instance",
    "_Feature"
   ],
   "window_display": false
  }
 },
 "nbformat": 4,
 "nbformat_minor": 2
}
