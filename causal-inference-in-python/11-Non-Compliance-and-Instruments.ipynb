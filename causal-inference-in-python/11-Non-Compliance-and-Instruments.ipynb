{
 "cells": [
  {
   "cell_type": "markdown",
   "id": "4dc1bf63",
   "metadata": {},
   "source": [
    "# 11 Non-Compliance and Instruments\n"
   ]
  },
  {
   "cell_type": "code",
   "execution_count": null,
   "id": "a6d9bc21",
   "metadata": {
    "ExecuteTime": {
     "end_time": "2024-01-23T12:22:12.624058Z",
     "start_time": "2024-01-23T12:22:09.270731Z"
    },
    "tags": [
     "hide-input"
    ]
   },
   "outputs": [],
   "source": [
    "from toolz.curried import *\n",
    "\n",
    "import pandas as pd\n",
    "import numpy as np\n",
    "from scipy.special import expit\n",
    "\n",
    "import statsmodels.formula.api as smf\n",
    "\n",
    "import seaborn as sns\n",
    "from matplotlib import pyplot as plt\n",
    "import matplotlib\n",
    "\n",
    "\n",
    "from cycler import cycler\n",
    "\n",
    "color=['0.0', '0.4', '0.8']\n",
    "default_cycler = (cycler(color=color))\n",
    "linestyle=['-', '--', ':', '-.']\n",
    "marker=['o', 'v', 'd', 'p']\n",
    "\n",
    "plt.rc('axes', prop_cycle=default_cycler)\n"
   ]
  },
  {
   "cell_type": "markdown",
   "id": "3f0a112e",
   "metadata": {},
   "source": [
    "## Non-Compliance\n"
   ]
  },
  {
   "cell_type": "code",
   "execution_count": null,
   "id": "4a0845f8",
   "metadata": {
    "ExecuteTime": {
     "end_time": "2024-01-23T12:22:13.194109Z",
     "start_time": "2024-01-23T12:22:12.625731Z"
    },
    "tags": [
     "hide-input"
    ]
   },
   "outputs": [],
   "source": [
    "from graphviz import Digraph\n",
    "\n",
    "gr = Digraph(format=\"png\", graph_attr={\"rankdir\":\"LR\"})\n",
    "\n",
    "gr.edge(\"U\", \"T\")\n",
    "gr.edge(\"U\", \"Y\")\n",
    "gr.edge(\"Z\", \"T\")\n",
    "gr.edge(\"T\", \"Y\")\n",
    "\n",
    "gr"
   ]
  },
  {
   "cell_type": "code",
   "execution_count": null,
   "id": "46e508be",
   "metadata": {
    "ExecuteTime": {
     "end_time": "2024-01-23T12:22:13.225362Z",
     "start_time": "2024-01-23T12:22:13.195735Z"
    }
   },
   "outputs": [],
   "source": [
    "import pandas as pd\n",
    "import numpy as np\n",
    "\n",
    "df = pd.read_csv(\"./data/prime_card.csv\")\n",
    "\n",
    "df.head()"
   ]
  },
  {
   "cell_type": "markdown",
   "id": "f266f971",
   "metadata": {},
   "source": [
    "## Extending Potential Outcomes\n"
   ]
  },
  {
   "cell_type": "code",
   "execution_count": null,
   "id": "6b4146eb",
   "metadata": {
    "ExecuteTime": {
     "end_time": "2024-01-23T12:22:13.249112Z",
     "start_time": "2024-01-23T12:22:13.227557Z"
    }
   },
   "outputs": [],
   "source": [
    "m = smf.ols(\"pv~prime_elegible\", data=df).fit()\n",
    "m.summary().tables[1]"
   ]
  },
  {
   "cell_type": "code",
   "execution_count": null,
   "id": "bf978a12",
   "metadata": {
    "ExecuteTime": {
     "end_time": "2024-01-23T12:22:13.254232Z",
     "start_time": "2024-01-23T12:22:13.250451Z"
    }
   },
   "outputs": [],
   "source": [
    "df[\"tau\"].mean()"
   ]
  },
  {
   "cell_type": "code",
   "execution_count": null,
   "id": "179a99c7",
   "metadata": {
    "ExecuteTime": {
     "end_time": "2024-01-23T12:22:13.268017Z",
     "start_time": "2024-01-23T12:22:13.255653Z"
    }
   },
   "outputs": [],
   "source": [
    "m = smf.ols(\"pv~prime_card\", data=df).fit()\n",
    "m.summary().tables[1]"
   ]
  },
  {
   "cell_type": "markdown",
   "id": "eb010ef5",
   "metadata": {},
   "source": [
    "## Instrument Identification Assumptions\n"
   ]
  },
  {
   "cell_type": "markdown",
   "id": "c90cca32",
   "metadata": {},
   "source": [
    "## First Stage\n"
   ]
  },
  {
   "cell_type": "code",
   "execution_count": null,
   "id": "471dfd47",
   "metadata": {
    "ExecuteTime": {
     "end_time": "2024-01-23T12:22:13.281666Z",
     "start_time": "2024-01-23T12:22:13.269945Z"
    }
   },
   "outputs": [],
   "source": [
    "first_stage = smf.ols(\"prime_card ~ prime_elegible\", data=df).fit()\n",
    "first_stage.summary().tables[1]"
   ]
  },
  {
   "cell_type": "code",
   "execution_count": null,
   "id": "ba1daf77",
   "metadata": {
    "ExecuteTime": {
     "end_time": "2024-01-23T12:22:13.292213Z",
     "start_time": "2024-01-23T12:22:13.283317Z"
    }
   },
   "outputs": [],
   "source": [
    "df.groupby(\"categ\").size()/len(df)"
   ]
  },
  {
   "cell_type": "markdown",
   "id": "3672e47d",
   "metadata": {},
   "source": [
    "## Reduced Form\n"
   ]
  },
  {
   "cell_type": "code",
   "execution_count": null,
   "id": "d4e10cdf",
   "metadata": {
    "ExecuteTime": {
     "end_time": "2024-01-23T12:22:13.306388Z",
     "start_time": "2024-01-23T12:22:13.293975Z"
    }
   },
   "outputs": [],
   "source": [
    "red_form = smf.ols(\"pv ~ prime_elegible\", data=df).fit()\n",
    "red_form.summary().tables[1]"
   ]
  },
  {
   "cell_type": "code",
   "execution_count": null,
   "id": "f583cf79",
   "metadata": {
    "ExecuteTime": {
     "end_time": "2024-01-23T12:22:13.313996Z",
     "start_time": "2024-01-23T12:22:13.310505Z"
    }
   },
   "outputs": [],
   "source": [
    "late = (red_form.params[\"prime_elegible\"] /\n",
    "        first_stage.params[\"prime_elegible\"])\n",
    "late"
   ]
  },
  {
   "cell_type": "code",
   "execution_count": null,
   "id": "c1d57b18",
   "metadata": {
    "ExecuteTime": {
     "end_time": "2024-01-23T12:22:13.322436Z",
     "start_time": "2024-01-23T12:22:13.315622Z"
    }
   },
   "outputs": [],
   "source": [
    "df.groupby(\"categ\")[\"tau\"].mean()"
   ]
  },
  {
   "cell_type": "markdown",
   "id": "d63f18a1",
   "metadata": {},
   "source": [
    "## Two Stage Least Squares\n"
   ]
  },
  {
   "cell_type": "code",
   "execution_count": null,
   "id": "f44cd90b",
   "metadata": {
    "ExecuteTime": {
     "end_time": "2024-01-23T12:22:13.478692Z",
     "start_time": "2024-01-23T12:22:13.323966Z"
    },
    "tags": [
     "hide-input"
    ]
   },
   "outputs": [],
   "source": [
    "gr = Digraph(format=\"png\", graph_attr={\"rankdir\":\"LR\"})\n",
    "\n",
    "gr.edge(\"U\", \"T\")\n",
    "gr.edge(\"U\", \"Y\")\n",
    "gr.edge(\"Z\", \"T\")\n",
    "gr"
   ]
  },
  {
   "cell_type": "code",
   "execution_count": null,
   "id": "9607bf02",
   "metadata": {
    "ExecuteTime": {
     "end_time": "2024-01-23T12:22:13.498654Z",
     "start_time": "2024-01-23T12:22:13.480857Z"
    }
   },
   "outputs": [],
   "source": [
    "iv_regr = smf.ols(\n",
    "    \"pv ~ prime_card\",\n",
    "    data=df.assign(prime_card=first_stage.fittedvalues)).fit()\n",
    "\n",
    "iv_regr.summary().tables[1]"
   ]
  },
  {
   "cell_type": "markdown",
   "id": "1c851c3c",
   "metadata": {},
   "source": [
    "## Standard Error\n"
   ]
  },
  {
   "cell_type": "code",
   "execution_count": null,
   "id": "e99ccfde",
   "metadata": {
    "ExecuteTime": {
     "end_time": "2024-01-23T12:22:13.509300Z",
     "start_time": "2024-01-23T12:22:13.500116Z"
    }
   },
   "outputs": [],
   "source": [
    "Z = df[\"prime_elegible\"]\n",
    "T = df[\"prime_card\"]\n",
    "n = len(df)\n",
    "\n",
    "# not the same as iv_regr.resid!\n",
    "e_iv = df[\"pv\"] - iv_regr.predict(df)\n",
    "compliance = np.cov(T, Z)[0, 1]/Z.var()\n",
    "\n",
    "se = np.std(e_iv)/(compliance*np.std(Z)*np.sqrt(n))\n",
    "\n",
    "print(\"SE IV:\", se)\n",
    "print(\"95% CI:\", [late - 2*se, late + 2*se])"
   ]
  },
  {
   "cell_type": "code",
   "execution_count": null,
   "id": "55102be8",
   "metadata": {
    "ExecuteTime": {
     "end_time": "2024-01-23T12:22:13.659991Z",
     "start_time": "2024-01-23T12:22:13.511367Z"
    }
   },
   "outputs": [],
   "source": [
    "from linearmodels import IV2SLS\n",
    "\n",
    "formula = 'pv ~ 1 + [prime_card ~ prime_elegible]'\n",
    "iv_model = IV2SLS.from_formula(formula, df).fit(cov_type=\"unadjusted\")\n",
    "\n",
    "iv_model.summary.tables[1]"
   ]
  },
  {
   "cell_type": "code",
   "execution_count": null,
   "id": "e7f8cb91",
   "metadata": {
    "ExecuteTime": {
     "end_time": "2024-01-23T12:22:14.017449Z",
     "start_time": "2024-01-23T12:22:13.662388Z"
    },
    "tags": [
     "hide-input"
    ]
   },
   "outputs": [],
   "source": [
    "se_formula_iv = lambda compliance: np.std(e_iv)/(compliance*np.std(Z)*np.sqrt(n))\n",
    "x = np.linspace(0.01, 1, 50)\n",
    "\n",
    "effect = iv_regr.params[\"prime_card\"]\n",
    "\n",
    "\n",
    "fig, (ax1, ax2) = plt.subplots(1, 2, figsize=(14, 5))\n",
    "\n",
    "ax1.plot(x, effect-se_formula_iv(x)*2, label=\"SE($\\\\beta_{IV}$) x2\", ls=\":\", color=\"0\")\n",
    "ax1.plot(x, effect+se_formula_iv(x)*2, ls=\":\", color=\"0\")\n",
    "ax1.hlines(effect, 0, 1, ls=\"-.\", label=\"LATE\")\n",
    "ax1.hlines(0, 0, 1)\n",
    "ax1.set_xlabel(\"Compliance\")\n",
    "ax1.set_ylim(-(effect+100), (effect+100)*2)\n",
    "ax1.legend(loc=\"lower right\")\n",
    "ax1.set_title(\"95% CI around LATE\");\n",
    "\n",
    "\n",
    "x = np.linspace(0.2, 1, 50)\n",
    "ax2.plot(x, 1/(x**2))\n",
    "ax2.hlines(10, 0.2, 1, ls=\":\", label=\"10\")\n",
    "ax2.hlines(4, 0.2, 1, ls=\"-.\", label=\"4\")\n",
    "ax2.set_xlabel(\"Compliance\")\n",
    "ax2.set_ylabel(\"$N_{IV}$/N\")\n",
    "ax2.set_title(\"Required Sample Size Ratio\")\n",
    "ax2.legend()\n"
   ]
  },
  {
   "cell_type": "markdown",
   "id": "0b15a0ab",
   "metadata": {},
   "source": [
    "## Additional Controls and Instruments\n"
   ]
  },
  {
   "cell_type": "code",
   "execution_count": null,
   "id": "a520339f",
   "metadata": {
    "ExecuteTime": {
     "end_time": "2024-01-23T12:22:14.191876Z",
     "start_time": "2024-01-23T12:22:14.018689Z"
    },
    "tags": [
     "hide-input"
    ]
   },
   "outputs": [],
   "source": [
    "gr = Digraph(format=\"png\", graph_attr={\"rankdir\":\"LR\"})\n",
    "\n",
    "gr.edge(\"U\", \"T\")\n",
    "gr.edge(\"U\", \"Y\")\n",
    "gr.edge(\"Z\", \"T\")\n",
    "gr.edge(\"T\", \"Y\")\n",
    "gr.edge(\"Income\", \"Y\")\n",
    "gr.edge(\"Age\", \"T\")\n",
    "gr.edge(\"Age\", \"Y\")\n",
    "gr.edge(\"Score\", \"T\")\n",
    "\n",
    "gr"
   ]
  },
  {
   "cell_type": "code",
   "execution_count": null,
   "id": "304fde6b",
   "metadata": {
    "ExecuteTime": {
     "end_time": "2024-01-23T12:22:14.291008Z",
     "start_time": "2024-01-23T12:22:14.193566Z"
    }
   },
   "outputs": [],
   "source": [
    "formula = 'pv ~ 1 + [prime_card ~ prime_elegible + credit_score]'\n",
    "iv_model = IV2SLS.from_formula(formula, df).fit()\n",
    "\n",
    "iv_model.summary.tables[1]"
   ]
  },
  {
   "cell_type": "code",
   "execution_count": null,
   "id": "798c4e04",
   "metadata": {
    "ExecuteTime": {
     "end_time": "2024-01-23T12:22:14.343456Z",
     "start_time": "2024-01-23T12:22:14.292449Z"
    }
   },
   "outputs": [],
   "source": [
    "formula = '''pv ~ 1 \n",
    "+ [prime_card ~ prime_elegible + credit_score]\n",
    "+ income + age'''\n",
    "\n",
    "iv_model = IV2SLS.from_formula(formula, df).fit(cov_type=\"unadjusted\")\n",
    "\n",
    "iv_model.summary.tables[1]"
   ]
  },
  {
   "cell_type": "markdown",
   "id": "7da0f4c8",
   "metadata": {},
   "source": [
    "### 2SLS by Hand\n"
   ]
  },
  {
   "cell_type": "code",
   "execution_count": null,
   "id": "4a3ca2f9",
   "metadata": {
    "ExecuteTime": {
     "end_time": "2024-01-23T12:22:14.376607Z",
     "start_time": "2024-01-23T12:22:14.344543Z"
    }
   },
   "outputs": [],
   "source": [
    "formula_1st = \"prime_card ~ prime_elegible + credit_score + income+age\"\n",
    "first_stage = smf.ols(formula_1st, data=df).fit()\n",
    "\n",
    "iv_model = smf.ols(\n",
    "    \"pv ~ prime_card + income + age\",\n",
    "    data=df.assign(prime_card=first_stage.fittedvalues)).fit()\n",
    "\n",
    "iv_model.summary().tables[1]"
   ]
  },
  {
   "cell_type": "markdown",
   "id": "73042769",
   "metadata": {},
   "source": [
    "### Matrix Implementation\n"
   ]
  },
  {
   "cell_type": "code",
   "execution_count": null,
   "id": "3d789d29",
   "metadata": {
    "ExecuteTime": {
     "end_time": "2024-01-23T12:22:14.389797Z",
     "start_time": "2024-01-23T12:22:14.378246Z"
    }
   },
   "outputs": [],
   "source": [
    "Z = df[[\"prime_elegible\", \"credit_score\", \"income\", \"age\"]].values\n",
    "X = df[[\"prime_card\", \"income\", \"age\"]].values\n",
    "Y = df[[\"pv\"]].values\n",
    "\n",
    "def add_intercept(x):\n",
    "    return np.concatenate([np.ones((x.shape[0], 1)), x], axis=1)\n",
    "\n",
    "Z_ = add_intercept(Z)\n",
    "X_ = add_intercept(X)\n",
    "\n",
    "# pre-multiplying Z_.dot(...) last is important to avoid\n",
    "# creating a huge NxN matrix\n",
    "X_hat = Z_.dot(np.linalg.inv(Z_.T.dot(Z_)).dot(Z_.T).dot(X_))\n",
    "\n",
    "b_iv = np.linalg.inv(X_hat.T.dot(X_hat)).dot(X_hat.T).dot(Y)\n",
    "b_iv[1]"
   ]
  },
  {
   "cell_type": "code",
   "execution_count": null,
   "id": "d50d8d46",
   "metadata": {
    "ExecuteTime": {
     "end_time": "2024-01-23T12:22:14.395998Z",
     "start_time": "2024-01-23T12:22:14.391505Z"
    }
   },
   "outputs": [],
   "source": [
    "e_hat_iv = (Y - X_.dot(b_iv))\n",
    "\n",
    "var = e_hat_iv.var()*np.diag(np.linalg.inv(X_hat.T.dot(X_hat)))\n",
    "\n",
    "np.sqrt(var[1])"
   ]
  },
  {
   "cell_type": "code",
   "execution_count": null,
   "id": "9f4f9fc3",
   "metadata": {
    "ExecuteTime": {
     "end_time": "2024-01-23T12:22:14.410300Z",
     "start_time": "2024-01-23T12:22:14.397376Z"
    }
   },
   "outputs": [],
   "source": [
    "t_tilde = smf.ols(\"prime_card ~ income + age\", data=df).fit().resid\n",
    "\n",
    "e_hat_iv.std()/(t_tilde.std()*np.sqrt(n*first_stage.rsquared))"
   ]
  },
  {
   "cell_type": "markdown",
   "id": "d0f3a4cc",
   "metadata": {},
   "source": [
    "## Discontinuity Design\n"
   ]
  },
  {
   "cell_type": "markdown",
   "id": "4d99e943",
   "metadata": {},
   "source": [
    "### Discontinuity Design Assumptions\n"
   ]
  },
  {
   "cell_type": "markdown",
   "id": "2177b348",
   "metadata": {},
   "source": [
    "### Intention to Treat Effect\n"
   ]
  },
  {
   "cell_type": "code",
   "execution_count": null,
   "id": "2fd1046d",
   "metadata": {
    "ExecuteTime": {
     "end_time": "2024-01-23T12:22:14.428637Z",
     "start_time": "2024-01-23T12:22:14.411988Z"
    }
   },
   "outputs": [],
   "source": [
    "df_dd = pd.read_csv(\"./data/prime_card_discontinuity.csv\")\n",
    "df_dd.head()"
   ]
  },
  {
   "cell_type": "code",
   "execution_count": null,
   "id": "a1c54382",
   "metadata": {
    "ExecuteTime": {
     "end_time": "2024-01-23T12:22:14.453943Z",
     "start_time": "2024-01-23T12:22:14.430325Z"
    }
   },
   "outputs": [],
   "source": [
    "m = smf.ols(f\"pv~balance*I(balance>0)\",\n",
    "            df_dd.assign(balance = lambda d: d[\"balance\"] - 5000)).fit()\n",
    "m.summary().tables[1]"
   ]
  },
  {
   "cell_type": "code",
   "execution_count": null,
   "id": "eefb7795",
   "metadata": {
    "ExecuteTime": {
     "end_time": "2024-01-23T12:22:14.636458Z",
     "start_time": "2024-01-23T12:22:14.455842Z"
    },
    "tags": [
     "hide-input"
    ]
   },
   "outputs": [],
   "source": [
    "plt_df = df_dd.round({\"balance\": -2}).assign(size=1).groupby(\"balance\").agg({\"pv\":\"mean\", \"size\": \"sum\"}).reset_index()\n",
    "\n",
    "plt.figure(figsize=(8,4))\n",
    "sns.scatterplot(data=plt_df, y=\"pv\", x=\"balance\", size=\"size\", color=\"C5\")\n",
    "plt.plot(plt_df.query(\"balance<5000\")[\"balance\"], m.predict(plt_df.query(\"balance<5000\").assign(balance = lambda d: d[\"balance\"] - 5000)), color=\"C0\", lw=2, label=\"regression\")\n",
    "plt.plot(plt_df.query(\"balance>5000\")[\"balance\"], m.predict(plt_df.query(\"balance>5000\").assign(balance = lambda d: d[\"balance\"] - 5000)), color=\"C0\", lw=2)\n",
    "plt.legend(fontsize=14)\n"
   ]
  },
  {
   "cell_type": "markdown",
   "id": "8ae47834",
   "metadata": {},
   "source": [
    "### The IV Estimate\n",
    "\n",
    "Errata: The book does not center the discontinuity at zero. Therefore, the intercept for the ITTE regression cannot be interpreted as the ITTE. Here, I'm centering the discontinuity at zero."
   ]
  },
  {
   "cell_type": "code",
   "execution_count": null,
   "id": "296983f5",
   "metadata": {
    "ExecuteTime": {
     "end_time": "2024-01-23T12:22:14.675146Z",
     "start_time": "2024-01-23T12:22:14.637892Z"
    }
   },
   "outputs": [],
   "source": [
    "def rdd_iv(data, y, t, r, cutoff):\n",
    "    \n",
    "    centered_df = data.assign(**{r: data[r]-cutoff})\n",
    "    \n",
    "    compliance = smf.ols(f\"{t}~{r}*I({r}>0)\", centered_df).fit()\n",
    "    itte = smf.ols(f\"{y}~{r}*I({r}>0)\", centered_df).fit()\n",
    "    \n",
    "    param = f\"I({r} > 0)[T.True]\"\n",
    "    return itte.params[param]/compliance.params[param]\n",
    "\n",
    "\n",
    "rdd_iv(df_dd, y=\"pv\", t=\"prime_card\", r=\"balance\", cutoff=5000)"
   ]
  },
  {
   "cell_type": "code",
   "execution_count": null,
   "id": "63c00714",
   "metadata": {
    "ExecuteTime": {
     "end_time": "2024-01-23T12:22:14.692077Z",
     "start_time": "2024-01-23T12:22:14.684009Z"
    }
   },
   "outputs": [],
   "source": [
    "(df_dd\n",
    " .round({\"balance\":-2}) # round to nearest hundred\n",
    " .query(\"balance==5000 & categ=='complier'\")[\"tau\"].mean())"
   ]
  },
  {
   "cell_type": "code",
   "execution_count": null,
   "id": "8ab77e2c",
   "metadata": {
    "ExecuteTime": {
     "end_time": "2024-01-23T12:22:17.650364Z",
     "start_time": "2024-01-23T12:22:14.693750Z"
    },
    "tags": [
     "hide-input"
    ]
   },
   "outputs": [],
   "source": [
    "from joblib import Parallel, delayed\n",
    "from toolz import partial\n",
    "\n",
    "def bootstrap(data, est_fn, rounds=200, seed=123, pcts=[2.5, 97.5]):\n",
    "    np.random.seed(seed)\n",
    "    \n",
    "    stats = Parallel(n_jobs=4)(\n",
    "        delayed(est_fn)(data.sample(frac=1, replace=True))\n",
    "        for _ in range(rounds)\n",
    "    )\n",
    "    \n",
    "    return np.percentile(stats, pcts)\n",
    "\n",
    "\n",
    "bootstrap(df_dd,\n",
    "          partial(rdd_iv, y=\"pv\", t=\"prime_card\", r=\"balance\", cutoff=5000))"
   ]
  },
  {
   "cell_type": "markdown",
   "id": "32937634",
   "metadata": {},
   "source": [
    "### Bunching\n"
   ]
  },
  {
   "cell_type": "code",
   "execution_count": null,
   "id": "a5e34d64",
   "metadata": {
    "ExecuteTime": {
     "end_time": "2024-01-23T12:22:17.784941Z",
     "start_time": "2024-01-23T12:22:17.652054Z"
    }
   },
   "outputs": [],
   "source": [
    "plt.figure(figsize=(10,4))\n",
    "df_dd.round({\"balance\":-3}).groupby(\"balance\").size().plot.bar()\n",
    "plt.ylabel(\"Sample Size.\")\n",
    "plt.xlabel(\"Balance (rounded to nearest 1000)\")"
   ]
  },
  {
   "cell_type": "markdown",
   "id": "38edfa54",
   "metadata": {},
   "source": [
    "## Key Ideas\n"
   ]
  },
  {
   "cell_type": "code",
   "execution_count": null,
   "id": "5c420823",
   "metadata": {
    "ExecuteTime": {
     "end_time": "2024-01-23T12:22:17.958952Z",
     "start_time": "2024-01-23T12:22:17.786257Z"
    },
    "tags": [
     "hide-input"
    ]
   },
   "outputs": [],
   "source": [
    "gr = Digraph(format=\"png\", graph_attr={\"rankdir\":\"LR\"})\n",
    "\n",
    "gr.edge(\"U\", \"School\")\n",
    "gr.edge(\"U\", \"Income\")\n",
    "gr.edge(\"Quarter\", \"School\")\n",
    "gr.edge(\"School\", \"Income\")\n",
    "gr"
   ]
  },
  {
   "cell_type": "code",
   "execution_count": null,
   "id": "3636bfae",
   "metadata": {},
   "outputs": [],
   "source": []
  }
 ],
 "metadata": {
  "celltoolbar": "Tags",
  "kernelspec": {
   "display_name": ".venv",
   "language": "python",
   "name": "python3"
  },
  "language_info": {
   "codemirror_mode": {
    "name": "ipython",
    "version": 3
   },
   "file_extension": ".py",
   "mimetype": "text/x-python",
   "name": "python",
   "nbconvert_exporter": "python",
   "pygments_lexer": "ipython3",
   "version": "3.12.10"
  },
  "toc": {
   "base_numbering": 1,
   "nav_menu": {},
   "number_sections": true,
   "sideBar": true,
   "skip_h1_title": false,
   "title_cell": "Table of Contents",
   "title_sidebar": "Contents",
   "toc_cell": false,
   "toc_position": {},
   "toc_section_display": true,
   "toc_window_display": false
  },
  "varInspector": {
   "cols": {
    "lenName": 16,
    "lenType": 16,
    "lenVar": 40
   },
   "kernels_config": {
    "python": {
     "delete_cmd_postfix": "",
     "delete_cmd_prefix": "del ",
     "library": "var_list.py",
     "varRefreshCmd": "print(var_dic_list())"
    },
    "r": {
     "delete_cmd_postfix": ") ",
     "delete_cmd_prefix": "rm(",
     "library": "var_list.r",
     "varRefreshCmd": "cat(var_dic_list()) "
    }
   },
   "types_to_exclude": [
    "module",
    "function",
    "builtin_function_or_method",
    "instance",
    "_Feature"
   ],
   "window_display": false
  }
 },
 "nbformat": 4,
 "nbformat_minor": 5
}
