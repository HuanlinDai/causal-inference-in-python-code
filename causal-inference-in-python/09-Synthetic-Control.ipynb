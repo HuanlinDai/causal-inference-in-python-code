{
 "cells": [
  {
   "cell_type": "markdown",
   "id": "4dc1bf63",
   "metadata": {},
   "source": [
    "# 09-Synthetic-Control\n",
    "\n"
   ]
  },
  {
   "cell_type": "code",
   "execution_count": null,
   "id": "a6d9bc21",
   "metadata": {
    "ExecuteTime": {
     "end_time": "2023-05-17T10:25:09.979160Z",
     "start_time": "2023-05-17T10:25:08.207794Z"
    },
    "tags": [
     "hide-input"
    ]
   },
   "outputs": [],
   "source": [
    "from toolz.curried import *\n",
    "\n",
    "\n",
    "import pandas as pd\n",
    "import numpy as np\n",
    "\n",
    "import statsmodels.formula.api as smf\n",
    "\n",
    "import seaborn as sns\n",
    "from matplotlib import pyplot as plt\n",
    "import matplotlib\n",
    "\n",
    "from cycler import cycler\n",
    "\n",
    "color=['0.0', '0.4', '0.8']\n",
    "default_cycler = (cycler(color=color))\n",
    "linestyle=['-', '--', ':', '-.']\n",
    "marker=['o', 'v', 'd', 'p']\n",
    "\n",
    "plt.rc('axes', prop_cycle=default_cycler)"
   ]
  },
  {
   "cell_type": "markdown",
   "id": "1f92a9c6",
   "metadata": {},
   "source": [
    "## Online Marketing Dataset\n"
   ]
  },
  {
   "cell_type": "code",
   "execution_count": null,
   "id": "48236235",
   "metadata": {
    "ExecuteTime": {
     "end_time": "2023-05-17T10:25:10.002094Z",
     "start_time": "2023-05-17T10:25:09.980748Z"
    }
   },
   "outputs": [],
   "source": [
    "import pandas as pd\n",
    "import numpy as np\n",
    "\n",
    "df = (pd.read_csv(\"./data/online_mkt.csv\")\n",
    "      .astype({\"date\":\"datetime64[ns]\"}))\n",
    "\n",
    "df.head()"
   ]
  },
  {
   "cell_type": "code",
   "execution_count": null,
   "id": "7a6932e9",
   "metadata": {
    "ExecuteTime": {
     "end_time": "2023-05-17T10:25:10.008563Z",
     "start_time": "2023-05-17T10:25:10.003416Z"
    }
   },
   "outputs": [],
   "source": [
    "treated = list(df.query(\"treated==1\")[\"city\"].unique())\n",
    "treated"
   ]
  },
  {
   "cell_type": "code",
   "execution_count": null,
   "id": "077d1683",
   "metadata": {
    "ExecuteTime": {
     "end_time": "2023-05-17T10:25:10.018732Z",
     "start_time": "2023-05-17T10:25:10.010696Z"
    }
   },
   "outputs": [],
   "source": [
    "df_norm = df.assign(\n",
    "    app_download_pct = 100*df[\"app_download\"]/df[\"population\"]\n",
    ")\n",
    "\n",
    "df_norm.head()"
   ]
  },
  {
   "cell_type": "code",
   "execution_count": null,
   "id": "54ba5315",
   "metadata": {
    "ExecuteTime": {
     "end_time": "2023-05-17T10:25:10.025242Z",
     "start_time": "2023-05-17T10:25:10.019977Z"
    }
   },
   "outputs": [],
   "source": [
    "tr_period = df_norm.query(\"post==1\")[\"date\"].min()\n",
    "tr_period"
   ]
  },
  {
   "cell_type": "code",
   "execution_count": null,
   "id": "3503e51a",
   "metadata": {
    "ExecuteTime": {
     "end_time": "2023-05-17T10:25:10.344779Z",
     "start_time": "2023-05-17T10:25:10.027147Z"
    },
    "tags": [
     "hide-input"
    ]
   },
   "outputs": [],
   "source": [
    "np.random.seed(123)\n",
    "\n",
    "df_sc = df_norm.pivot(index=\"date\", columns=\"city\", values=\"app_download_pct\")\n",
    "\n",
    "ax = df_sc[treated].mean(axis=1).plot(figsize=(15,6), label=\"$E[Y|D=1]$\")\n",
    "ax.vlines(tr_period, 0, 0.07, ls=\"dashed\", label=\"$t=T_{pre}+1$\")\n",
    "ax.legend()\n",
    "df_sc.drop(columns=treated).sample(frac=0.2, axis=1).plot(color=\"0.5\", alpha=0.2, legend=False, ax=ax)\n",
    "plt.ylabel(\"app_download_pct\")"
   ]
  },
  {
   "cell_type": "markdown",
   "id": "68a5e76f",
   "metadata": {},
   "source": [
    "## Matrix Representation\n"
   ]
  },
  {
   "cell_type": "code",
   "execution_count": null,
   "id": "6e3fae6e",
   "metadata": {
    "ExecuteTime": {
     "end_time": "2023-05-17T10:25:10.349222Z",
     "start_time": "2023-05-17T10:25:10.345921Z"
    }
   },
   "outputs": [],
   "source": [
    "def reshape_sc_data(df: pd.DataFrame,\n",
    "                    geo_col: str, \n",
    "                    time_col: str,\n",
    "                    y_col: str,\n",
    "                    tr_geos: str,\n",
    "                    tr_start: str):\n",
    "    \n",
    "    df_pivot = df.pivot(index=time_col, columns=geo_col, values=y_col)\n",
    "    \n",
    "    y_co = df_pivot.drop(columns=tr_geos)\n",
    "    y_tr = df_pivot[tr_geos]\n",
    "    \n",
    "    y_pre_co = y_co[df_pivot.index < tr_start]\n",
    "    y_pre_tr = y_tr[df_pivot.index < tr_start]\n",
    "    \n",
    "    y_post_co = y_co[df_pivot.index >= tr_start]\n",
    "    y_post_tr = y_tr[df_pivot.index >= tr_start]\n",
    "    \n",
    "    return y_pre_co, y_pre_tr, y_post_co, y_post_tr"
   ]
  },
  {
   "cell_type": "code",
   "execution_count": null,
   "id": "fc32b357",
   "metadata": {
    "ExecuteTime": {
     "end_time": "2023-05-17T10:25:10.360157Z",
     "start_time": "2023-05-17T10:25:10.350374Z"
    }
   },
   "outputs": [],
   "source": [
    "y_pre_co, y_pre_tr, y_post_co, y_post_tr = reshape_sc_data(\n",
    "    df_norm,\n",
    "    geo_col=\"city\",\n",
    "    time_col=\"date\",\n",
    "    y_col=\"app_download_pct\",\n",
    "    tr_geos=treated,\n",
    "    tr_start=str(tr_period)\n",
    ")\n",
    "\n",
    "y_pre_tr.head()"
   ]
  },
  {
   "cell_type": "markdown",
   "id": "c52d481b",
   "metadata": {},
   "source": [
    "## Synthetic Control as Horizontal Regression\n"
   ]
  },
  {
   "cell_type": "code",
   "execution_count": null,
   "id": "f30ba6f8",
   "metadata": {
    "ExecuteTime": {
     "end_time": "2023-05-17T10:25:10.547010Z",
     "start_time": "2023-05-17T10:25:10.361564Z"
    }
   },
   "outputs": [],
   "source": [
    "from sklearn.linear_model import LinearRegression\n",
    "\n",
    "model = LinearRegression(fit_intercept=False)\n",
    "model.fit(y_pre_co, y_pre_tr.mean(axis=1))\n",
    "\n",
    "# extract the weights\n",
    "weights_lr = model.coef_\n",
    "weights_lr.round(3)"
   ]
  },
  {
   "cell_type": "code",
   "execution_count": null,
   "id": "6be01d36",
   "metadata": {
    "ExecuteTime": {
     "end_time": "2023-05-17T10:25:10.551856Z",
     "start_time": "2023-05-17T10:25:10.550040Z"
    }
   },
   "outputs": [],
   "source": [
    "# same as y0_tr_hat = model.predict(y_post_co)\n",
    "y0_tr_hat = y_post_co.dot(weights_lr)"
   ]
  },
  {
   "cell_type": "code",
   "execution_count": null,
   "id": "f0971ad9",
   "metadata": {
    "ExecuteTime": {
     "end_time": "2023-05-17T10:25:10.723571Z",
     "start_time": "2023-05-17T10:25:10.553366Z"
    },
    "tags": [
     "hide-input"
    ]
   },
   "outputs": [],
   "source": [
    "plt.figure(figsize=(10,4))\n",
    "\n",
    "y_co = pd.concat([y_pre_co, y_post_co])\n",
    "y_tr = pd.concat([y_pre_tr, y_post_tr])\n",
    "\n",
    "\n",
    "plt.plot(y_co.index, model.predict(y_co), label=\"Synthetic Control\", ls=\"-.\")\n",
    "plt.plot(y_tr.mean(axis=1), label=\"Treated Avg.\")\n",
    "plt.vlines(pd.to_datetime(\"2022-05-01\"), 0, 0.04, ls=\"dashed\", label=\"$t=T_{pre}+1$\")\n",
    "plt.xticks(rotation=45)\n",
    "plt.ylabel(\"app_download_pct\")\n",
    "plt.legend(fontsize=14)"
   ]
  },
  {
   "cell_type": "code",
   "execution_count": null,
   "id": "0113ddda",
   "metadata": {
    "ExecuteTime": {
     "end_time": "2023-05-17T10:25:10.727348Z",
     "start_time": "2023-05-17T10:25:10.724924Z"
    }
   },
   "outputs": [],
   "source": [
    "att = y_post_tr.mean(axis=1) - y0_tr_hat"
   ]
  },
  {
   "cell_type": "code",
   "execution_count": null,
   "id": "2050500f",
   "metadata": {
    "ExecuteTime": {
     "end_time": "2023-05-17T10:25:10.845733Z",
     "start_time": "2023-05-17T10:25:10.728485Z"
    },
    "tags": [
     "hide-input"
    ]
   },
   "outputs": [],
   "source": [
    "plt.figure(figsize=(10,4))\n",
    "plt.plot(y_tr.mean(axis=1) - model.predict(y_co), label=\"ATT\", ls=\"-.\")\n",
    "plt.vlines(pd.to_datetime(\"2022-05-01\"), att.min(), att.max(), ls=\"dashed\", label=\"$t=T_{pre}+1$\")\n",
    "plt.hlines(0, y_tr.index.min(), y_tr.index.max())\n",
    "plt.ylabel(\"ATT\")\n",
    "plt.xticks(rotation=45)\n",
    "plt.legend()\n"
   ]
  },
  {
   "cell_type": "markdown",
   "id": "7c42074c",
   "metadata": {},
   "source": [
    "## Canonical Synthetic Control\n"
   ]
  },
  {
   "cell_type": "code",
   "execution_count": null,
   "id": "696b76e1",
   "metadata": {
    "ExecuteTime": {
     "end_time": "2023-05-17T10:25:10.977662Z",
     "start_time": "2023-05-17T10:25:10.847322Z"
    }
   },
   "outputs": [],
   "source": [
    "from sklearn.base import BaseEstimator, RegressorMixin\n",
    "from sklearn.utils.validation import (check_X_y, check_array,\n",
    "                                      check_is_fitted)\n",
    "import cvxpy as cp\n",
    "\n",
    "class SyntheticControl(BaseEstimator, RegressorMixin):\n",
    "\n",
    "    def __init__(self,):\n",
    "        pass\n",
    "\n",
    "    def fit(self, y_pre_co, y_pre_tr):\n",
    "\n",
    "        y_pre_co, y_pre_tr = check_X_y(y_pre_co, y_pre_tr)\n",
    "    \n",
    "        w = cp.Variable(y_pre_co.shape[1])\n",
    "        \n",
    "        objective = cp.Minimize(cp.sum_squares(y_pre_co@w - y_pre_tr))\n",
    "        constraints = [cp.sum(w) == 1, w >= 0]\n",
    "        \n",
    "        problem = cp.Problem(objective, constraints)\n",
    "        \n",
    "        self.loss_ = problem.solve(verbose=False)\n",
    "        self.w_ = w.value\n",
    "        \n",
    "        self.is_fitted_ = True\n",
    "        return self\n",
    "        \n",
    "        \n",
    "    def predict(self, y_co):\n",
    "\n",
    "        check_is_fitted(self)\n",
    "        y_co = check_array(y_co)\n",
    "        \n",
    "        return y_co @ self.w_"
   ]
  },
  {
   "cell_type": "code",
   "execution_count": null,
   "id": "e317d02f",
   "metadata": {
    "ExecuteTime": {
     "end_time": "2023-05-17T10:25:10.993252Z",
     "start_time": "2023-05-17T10:25:10.978785Z"
    }
   },
   "outputs": [],
   "source": [
    "model = SyntheticControl()\n",
    "model.fit(y_pre_co, y_pre_tr.mean(axis=1))\n",
    "\n",
    "# extrac the weights\n",
    "model.w_.round(3)"
   ]
  },
  {
   "cell_type": "code",
   "execution_count": null,
   "id": "b3a5d525",
   "metadata": {
    "ExecuteTime": {
     "end_time": "2023-05-17T10:25:11.213147Z",
     "start_time": "2023-05-17T10:25:10.994770Z"
    },
    "tags": [
     "hide-input"
    ]
   },
   "outputs": [],
   "source": [
    "fig, (ax1, ax2) = plt.subplots(2, 1, figsize=(15,8), sharex=True)\n",
    "\n",
    "ax1.plot(y_co.index, model.predict(y_co), label=\"Synthetic Control\")\n",
    "ax1.plot(y_tr.mean(axis=1), label=\"Treated\", ls=\"-.\")\n",
    "ax1.vlines(pd.to_datetime(\"2022-05-01\"), 0, 0.04, ls=\"dashed\", label=\"$T_0$\")\n",
    "ax1.legend()\n",
    "ax1.set_ylabel(\"ATT\")\n",
    "\n",
    "ax2.plot(y_co.index, y_tr.mean(axis=1) - model.predict(y_co), label=\"Effect\", ls=\"-.\")\n",
    "ax2.hlines(0, y_co.index.min(), y_co.index.max())\n",
    "ax2.vlines(pd.to_datetime(\"2022-05-01\"), -0.01, 0.015, label=\"$T_0$\")\n",
    "ax2.legend()\n",
    "ax2.set_ylabel(\"app_download_pct\")\n",
    "\n",
    "plt.xticks(rotation=45);"
   ]
  },
  {
   "cell_type": "markdown",
   "id": "714ea01b",
   "metadata": {},
   "source": [
    "## Synthetic Control with Covariants\n"
   ]
  },
  {
   "cell_type": "code",
   "execution_count": null,
   "id": "dd4ce6f6",
   "metadata": {
    "ExecuteTime": {
     "end_time": "2023-05-17T10:25:11.230768Z",
     "start_time": "2023-05-17T10:25:11.214295Z"
    }
   },
   "outputs": [],
   "source": [
    "df_norm_cov = (pd.read_csv(\"./data/online_mkt_cov.csv\")\n",
    "               .astype({\"date\":\"datetime64[ns]\"}))\n",
    "\n",
    "df_norm_cov.head()"
   ]
  },
  {
   "cell_type": "code",
   "execution_count": null,
   "id": "849c9a54",
   "metadata": {
    "ExecuteTime": {
     "end_time": "2023-05-17T10:25:11.241710Z",
     "start_time": "2023-05-17T10:25:11.232244Z"
    }
   },
   "outputs": [],
   "source": [
    "from toolz import partial\n",
    "\n",
    "reshaper = partial(reshape_sc_data,\n",
    "                   df=df_norm_cov,\n",
    "                   geo_col=\"city\",\n",
    "                   time_col=\"date\",\n",
    "                   tr_geos=treated,\n",
    "                   tr_start=str(tr_period))\n",
    "\n",
    "y_pre_co, y_pre_tr, y_post_co, y_post_tr = reshaper(\n",
    "    y_col=\"app_download_pct\"\n",
    ")\n",
    "\n",
    "x_pre_co, _, x_post_co, _ = reshaper(y_col=\"comp_download_pct\")"
   ]
  },
  {
   "cell_type": "code",
   "execution_count": null,
   "id": "8e86032e",
   "metadata": {
    "ExecuteTime": {
     "end_time": "2023-05-17T10:25:11.257578Z",
     "start_time": "2023-05-17T10:25:11.242829Z"
    }
   },
   "outputs": [],
   "source": [
    "def find_w_given_vs(vs, x_co_list, y_tr_pre):\n",
    "    X_times_v = sum([x*v for x, v in zip(x_co_list, vs)])\n",
    "    \n",
    "    model = SyntheticControl()\n",
    "    model.fit(X_times_v, y_tr_pre)\n",
    "    \n",
    "    return {\"loss\": model.loss_, \"w\": model.w_} \n",
    "\n",
    "\n",
    "find_w_given_vs([1, 0],\n",
    "                [y_pre_co, x_pre_co],\n",
    "                y_pre_tr.mean(axis=1)).get(\"w\").round(3)"
   ]
  },
  {
   "cell_type": "code",
   "execution_count": null,
   "id": "5da887cb",
   "metadata": {
    "ExecuteTime": {
     "end_time": "2023-05-17T10:25:11.877851Z",
     "start_time": "2023-05-17T10:25:11.259071Z"
    }
   },
   "outputs": [],
   "source": [
    "from scipy.optimize import minimize\n",
    "\n",
    "def v_loss(vs):\n",
    "    return find_w_given_vs(vs,\n",
    "                           [y_pre_co, x_pre_co],\n",
    "                           y_pre_tr.mean(axis=1)).get(\"loss\")\n",
    "\n",
    "\n",
    "v_solution = minimize(v_loss, [0, 0], method='L-BFGS-B')\n",
    "v_solution.x"
   ]
  },
  {
   "cell_type": "code",
   "execution_count": null,
   "id": "6163957e",
   "metadata": {
    "ExecuteTime": {
     "end_time": "2023-05-17T10:25:11.889948Z",
     "start_time": "2023-05-17T10:25:11.878865Z"
    }
   },
   "outputs": [],
   "source": [
    "w_cov = find_w_given_vs(v_solution.x,\n",
    "                        [y_pre_co, x_pre_co],\n",
    "                        y_pre_tr.mean(axis=1)).get(\"w\").round(3)\n",
    "\n",
    "w_cov"
   ]
  },
  {
   "cell_type": "code",
   "execution_count": null,
   "id": "06511fcf",
   "metadata": {
    "ExecuteTime": {
     "end_time": "2023-05-17T10:25:11.895084Z",
     "start_time": "2023-05-17T10:25:11.891231Z"
    }
   },
   "outputs": [],
   "source": [
    "y0_hat = sum([x*v for x, v \n",
    "              in zip([y_post_co, x_post_co], v_solution.x)]).dot(w_cov)\n",
    "\n",
    "att = y_post_tr.mean(axis=1) - y0_hat"
   ]
  },
  {
   "cell_type": "code",
   "execution_count": null,
   "id": "7d9d4ed8",
   "metadata": {
    "ExecuteTime": {
     "end_time": "2023-05-17T10:25:12.005495Z",
     "start_time": "2023-05-17T10:25:11.896525Z"
    },
    "tags": [
     "hide-input"
    ]
   },
   "outputs": [],
   "source": [
    "plt.figure(figsize=(10,4))\n",
    "plt.plot(y_co.index, y_tr.mean(axis=1) - model.predict(y_co), label=\"w/o covariates\", ls=\"-.\")\n",
    "plt.plot(att.index, att, label=\"w/ covariates\")\n",
    "\n",
    "\n",
    "plt.hlines(0, y_co.index.min(), y_co.index.max())\n",
    "plt.vlines(pd.to_datetime(\"2022-05-01\"), -0.01, 0.015)\n",
    "plt.legend()\n",
    "plt.ylabel(\"ATT\")\n",
    "plt.xticks(rotation=45);"
   ]
  },
  {
   "cell_type": "markdown",
   "id": "4043cde7",
   "metadata": {},
   "source": [
    "## Debiasing Synthetic Control\n"
   ]
  },
  {
   "cell_type": "code",
   "execution_count": null,
   "id": "24166ad2",
   "metadata": {
    "ExecuteTime": {
     "end_time": "2023-05-17T10:25:14.725014Z",
     "start_time": "2023-05-17T10:25:12.007242Z"
    },
    "tags": [
     "hide-input"
    ]
   },
   "outputs": [],
   "source": [
    "from statsmodels.tsa.arima_process import ArmaProcess\n",
    "\n",
    "def sim_sc_data(N=16, T0=15, T1=28):\n",
    "    Y_co = np.random.normal(\n",
    "        np.array([np.concatenate([np.ones(3), np.zeros(N-3)])*2 for _ in range(T0+T1)])\n",
    "    )\n",
    "    \n",
    "    w = np.concatenate([np.ones(3), np.zeros(N-3)])*1/3\n",
    "    Y_tr = Y_co.dot(w) + ArmaProcess(0.8).generate_sample(T0+T1)\n",
    "    \n",
    "    model = SyntheticControl().fit(\n",
    "        y_pre_co=Y_co[:T0],\n",
    "        y_pre_tr=Y_tr[:T0].flatten()\n",
    "    )\n",
    "        \n",
    "    return (Y_tr[T0:].flatten() - model.predict(Y_co[T0:])).mean()\n",
    "\n",
    "\n",
    "np.random.seed(123)\n",
    "\n",
    "atts = [sim_sc_data() for _ in range(500)]\n",
    "\n",
    "plt.figure(figsize=(10,4))\n",
    "plt.hist(atts, alpha=0.2, density=True, bins=20)\n",
    "plt.vlines(np.mean(atts), 0, 1.5, label=\"Simulation Avg.\")\n",
    "plt.vlines(0, 0, 1.5, label=\"Correct ATT\", ls=\"dashed\")\n",
    "plt.title(\"500 SC Simulations\")\n",
    "plt.legend()"
   ]
  },
  {
   "cell_type": "code",
   "execution_count": null,
   "id": "6edf34c2",
   "metadata": {
    "ExecuteTime": {
     "end_time": "2023-05-17T10:25:14.730990Z",
     "start_time": "2023-05-17T10:25:14.726827Z"
    }
   },
   "outputs": [],
   "source": [
    "def debiased_sc_atts(y_pre_co, y_pre_tr, y_post_co, y_post_tr, K=3):\n",
    "        \n",
    "    block_size = int(min(np.floor(len(y_pre_tr)/K), len(y_post_tr)))\n",
    "    blocks = np.split(y_pre_tr.index[-K*block_size:], K)\n",
    "    \n",
    "    def fold_effect(hold_out):\n",
    "        model = SyntheticControl()\n",
    "        model.fit(\n",
    "            y_pre_co.drop(hold_out),\n",
    "            y_pre_tr.drop(hold_out)\n",
    "        )\n",
    "        \n",
    "        bias_hat = np.mean(y_pre_tr.loc[hold_out]\n",
    "                           - model.predict(y_pre_co.loc[hold_out]))\n",
    "        \n",
    "        y0_hat = model.predict(y_post_co)\n",
    "        return (y_post_tr - y0_hat) - bias_hat\n",
    "    \n",
    "    \n",
    "    return pd.DataFrame([fold_effect(block) for block in blocks]).T"
   ]
  },
  {
   "cell_type": "code",
   "execution_count": null,
   "id": "949d5858",
   "metadata": {
    "ExecuteTime": {
     "end_time": "2023-05-17T10:25:14.770112Z",
     "start_time": "2023-05-17T10:25:14.732323Z"
    }
   },
   "outputs": [],
   "source": [
    "deb_atts = debiased_sc_atts(y_pre_co,\n",
    "                            y_pre_tr.mean(axis=1),\n",
    "                            y_post_co,\n",
    "                            y_post_tr.mean(axis=1),\n",
    "                            K=3)\n",
    "\n",
    "deb_atts.head()"
   ]
  },
  {
   "cell_type": "code",
   "execution_count": null,
   "id": "a98ec0eb",
   "metadata": {
    "ExecuteTime": {
     "end_time": "2023-05-17T10:25:14.886831Z",
     "start_time": "2023-05-17T10:25:14.771587Z"
    },
    "tags": [
     "hide-input"
    ]
   },
   "outputs": [],
   "source": [
    "model_biased = SyntheticControl()\n",
    "model_biased.fit(y_pre_co, y_pre_tr.mean(axis=1))\n",
    "\n",
    "att_biased = y_post_tr.mean(axis=1) - model_biased.predict(y_post_co)\n",
    "\n",
    "plt.figure(figsize=(10,4))\n",
    "plt.plot(att, label=\"ATT Debiased\", ls=\"-.\")\n",
    "plt.plot(att_biased, label=\"ATT Biased\")\n",
    "plt.legend()\n",
    "plt.hlines(0, att.index.min(), att.index.max())\n",
    "plt.ylabel(\"ATT\")\n",
    "plt.xticks(rotation=45);\n"
   ]
  },
  {
   "cell_type": "code",
   "execution_count": null,
   "id": "aa50717a",
   "metadata": {
    "ExecuteTime": {
     "end_time": "2023-05-17T10:25:22.465867Z",
     "start_time": "2023-05-17T10:25:14.894424Z"
    },
    "tags": [
     "hide-input"
    ]
   },
   "outputs": [],
   "source": [
    "def sim_deb_sc_data(N=16, T0=15, T1=28):\n",
    "    Y_co = np.random.normal(\n",
    "        np.array([np.concatenate([np.ones(3), np.zeros(N-3)])*2 for _ in range(T0+T1)])\n",
    "    )\n",
    "    \n",
    "    w = np.concatenate([np.ones(3), np.zeros(N-3)])*1/3\n",
    "    Y_tr = Y_co.dot(w) + ArmaProcess(0.8).generate_sample(T0+T1)\n",
    "    \n",
    "    df_co = pd.DataFrame(Y_co)\n",
    "    df_tr = pd.DataFrame(Y_tr)\n",
    "    \n",
    "    atts = debiased_sc_atts(df_co.iloc[:T0],\n",
    "                            df_tr.iloc[:T0].mean(axis=1),\n",
    "                            df_co.iloc[T0:],\n",
    "                            df_tr.iloc[T0:].mean(axis=1), K=2)\n",
    "    \n",
    "        \n",
    "    return atts.mean(axis=0).mean()\n",
    "\n",
    "\n",
    "np.random.seed(123)\n",
    "atts = [sim_deb_sc_data() for _ in range(500)]\n",
    "\n",
    "plt.figure(figsize=(10,4))\n",
    "plt.hist(atts, alpha=0.2, density=True, bins=20)\n",
    "plt.vlines(np.mean(atts), 0, 1.0, label=\"Sample Avg.\")\n",
    "plt.vlines(0, 0, 1, label=\"Correct ATT\", ls=\"dashed\")\n",
    "plt.title(\"500 SC (Debiased) Simulations\")\n",
    "plt.legend()\n"
   ]
  },
  {
   "cell_type": "markdown",
   "id": "800a531b",
   "metadata": {},
   "source": [
    "## Inference\n"
   ]
  },
  {
   "cell_type": "code",
   "execution_count": null,
   "id": "08edfa11",
   "metadata": {
    "ExecuteTime": {
     "end_time": "2023-05-17T10:25:22.472291Z",
     "start_time": "2023-05-17T10:25:22.467461Z"
    }
   },
   "outputs": [],
   "source": [
    "deb_atts.head()"
   ]
  },
  {
   "cell_type": "code",
   "execution_count": null,
   "id": "c7257ec4",
   "metadata": {
    "ExecuteTime": {
     "end_time": "2023-05-17T10:25:22.477021Z",
     "start_time": "2023-05-17T10:25:22.473794Z"
    }
   },
   "outputs": [],
   "source": [
    "atts_k = deb_atts.mean(axis=0).values\n",
    "att = np.mean(atts_k)\n",
    "\n",
    "print(\"atts_k:\", atts_k)\n",
    "print(\"ATT:\", att)"
   ]
  },
  {
   "cell_type": "code",
   "execution_count": null,
   "id": "ce30c148",
   "metadata": {
    "ExecuteTime": {
     "end_time": "2023-05-17T10:25:22.482049Z",
     "start_time": "2023-05-17T10:25:22.478281Z"
    }
   },
   "outputs": [],
   "source": [
    "K = len(atts_k)\n",
    "T0 = len(y_pre_co)\n",
    "T1 = len(y_post_co)\n",
    "block_size = min(np.floor(T0/K), T1)\n",
    "\n",
    "se_hat=np.sqrt(1+((K*block_size)/T1))*np.std(atts_k, ddof=1)/np.sqrt(K)\n",
    "\n",
    "print(\"SE:\", se_hat)"
   ]
  },
  {
   "cell_type": "code",
   "execution_count": null,
   "id": "53fc37e2",
   "metadata": {
    "ExecuteTime": {
     "end_time": "2023-05-17T10:25:22.487547Z",
     "start_time": "2023-05-17T10:25:22.483584Z"
    }
   },
   "outputs": [],
   "source": [
    "from scipy.stats import t\n",
    "alpha = 0.1\n",
    "\n",
    "[att - t.ppf(1-alpha/2, K-1)*se_hat,\n",
    " att + t.ppf(1-alpha/2, K-1)*se_hat]"
   ]
  },
  {
   "cell_type": "markdown",
   "id": "0d052807",
   "metadata": {},
   "source": [
    "## Synthetic Difference-in-Differences\n",
    "\n",
    "### DID Refresher\n",
    "\n",
    "\n",
    "### Synthetic Controls Revisited\n",
    "\n"
   ]
  },
  {
   "cell_type": "code",
   "execution_count": null,
   "id": "9d7b10e6",
   "metadata": {
    "ExecuteTime": {
     "end_time": "2023-05-17T10:25:22.503287Z",
     "start_time": "2023-05-17T10:25:22.489069Z"
    }
   },
   "outputs": [],
   "source": [
    "sc_model = SyntheticControl()\n",
    "sc_model.fit(y_pre_co, y_pre_tr.mean(axis=1))\n",
    "\n",
    "(y_post_tr.mean(axis=1) - sc_model.predict(y_post_co)).mean()"
   ]
  },
  {
   "cell_type": "code",
   "execution_count": null,
   "id": "3b0ffab9",
   "metadata": {
    "ExecuteTime": {
     "end_time": "2023-05-17T10:25:22.510495Z",
     "start_time": "2023-05-17T10:25:22.504502Z"
    }
   },
   "outputs": [],
   "source": [
    "unit_w = pd.DataFrame(zip(y_pre_co.columns, sc_model.w_),\n",
    "                         columns=[\"city\", \"unit_weight\"])\n",
    "\n",
    "unit_w.head()"
   ]
  },
  {
   "cell_type": "code",
   "execution_count": null,
   "id": "ce16e895",
   "metadata": {
    "ExecuteTime": {
     "end_time": "2023-05-17T10:25:22.513929Z",
     "start_time": "2023-05-17T10:25:22.511952Z"
    },
    "tags": [
     "hide-input"
    ]
   },
   "outputs": [],
   "source": [
    "pd.set_option('display.max_columns', 7)"
   ]
  },
  {
   "cell_type": "code",
   "execution_count": null,
   "id": "0968d9b9",
   "metadata": {
    "ExecuteTime": {
     "end_time": "2023-05-17T10:25:22.528310Z",
     "start_time": "2023-05-17T10:25:22.515662Z"
    }
   },
   "outputs": [],
   "source": [
    "df_with_w = (df_norm\n",
    "             .assign(tr_post = lambda d: d[\"post\"]*d[\"treated\"])\n",
    "             .merge(unit_w, on=[\"city\"], how=\"left\")\n",
    "             .fillna({\"unit_weight\": df_norm[\"treated\"].mean()}))\n",
    "             \n",
    "df_with_w.head()"
   ]
  },
  {
   "cell_type": "code",
   "execution_count": null,
   "id": "d747f813",
   "metadata": {
    "ExecuteTime": {
     "end_time": "2023-05-17T10:25:22.616625Z",
     "start_time": "2023-05-17T10:25:22.529640Z"
    }
   },
   "outputs": [],
   "source": [
    "mod = smf.wls(\n",
    "    \"app_download_pct ~ tr_post + C(date)\",\n",
    "    data=df_with_w.query(\"unit_weight>=1e-10\"),\n",
    "    weights=df_with_w.query(\"unit_weight>=1e-10\")[\"unit_weight\"]\n",
    ")\n",
    "\n",
    "mod.fit().params[\"tr_post\"]"
   ]
  },
  {
   "cell_type": "markdown",
   "id": "a29a7d85",
   "metadata": {},
   "source": [
    "### Estimating Time Weights\n"
   ]
  },
  {
   "cell_type": "code",
   "execution_count": null,
   "id": "7d7e9511",
   "metadata": {
    "ExecuteTime": {
     "end_time": "2023-05-17T10:25:22.623285Z",
     "start_time": "2023-05-17T10:25:22.618413Z"
    },
    "tags": [
     "hide-input"
    ]
   },
   "outputs": [],
   "source": [
    "from sklearn.base import BaseEstimator, RegressorMixin\n",
    "from sklearn.utils.validation import check_X_y, check_array, check_is_fitted\n",
    "import cvxpy as cp\n",
    "\n",
    "class SyntheticControl(BaseEstimator, RegressorMixin):\n",
    "\n",
    "    def __init__(self, fit_intercept=False):\n",
    "        self.fit_intercept = fit_intercept\n",
    "\n",
    "    def fit(self, y_pre_co, y_pre_tr):\n",
    "\n",
    "        y_pre_co, y_pre_tr = check_X_y(y_pre_co, y_pre_tr)\n",
    "        \n",
    "        # add intercept\n",
    "        intercept = np.ones((y_pre_co.shape[0], 1))*self.fit_intercept\n",
    "        X = np.concatenate([intercept, y_pre_co], axis=1)\n",
    "        w = cp.Variable(X.shape[1])\n",
    "        \n",
    "        objective = cp.Minimize(cp.sum_squares(X@w - y_pre_tr))\n",
    "        constraints = [cp.sum(w[1:]) == 1, w[1:] >= 0]\n",
    "        \n",
    "        problem = cp.Problem(objective, constraints)\n",
    "        \n",
    "        self.loss_ = problem.solve(verbose=False)\n",
    "        self.w_ = w.value[1:] # remove intercept\n",
    "        \n",
    "        self.is_fitted_ = True\n",
    "        return self\n",
    "        \n",
    "        \n",
    "    def predict(self, y_co):\n",
    "\n",
    "        check_is_fitted(self)\n",
    "        y_co = check_array(y_co)\n",
    "        \n",
    "        return y_co @ self.w_"
   ]
  },
  {
   "cell_type": "code",
   "execution_count": null,
   "id": "b0d6f619",
   "metadata": {
    "ExecuteTime": {
     "end_time": "2023-05-17T10:25:22.640940Z",
     "start_time": "2023-05-17T10:25:22.624929Z"
    }
   },
   "outputs": [],
   "source": [
    "time_sc = SyntheticControl(fit_intercept=True)\n",
    "\n",
    "time_sc.fit(\n",
    "    y_pre_co.T,\n",
    "    y_post_co.mean(axis=0)\n",
    ")\n",
    "\n",
    "time_w = pd.DataFrame(zip(y_pre_co.index, time_sc.w_),\n",
    "                         columns=[\"date\", \"time_weight\"])\n",
    "\n",
    "time_w.tail()"
   ]
  },
  {
   "cell_type": "code",
   "execution_count": null,
   "id": "e0bda8b6",
   "metadata": {
    "ExecuteTime": {
     "end_time": "2023-05-17T10:25:22.779115Z",
     "start_time": "2023-05-17T10:25:22.642620Z"
    },
    "tags": [
     "hide-input"
    ]
   },
   "outputs": [],
   "source": [
    "\n",
    "plt.figure(figsize=(10,4))\n",
    "plt.bar(time_w[\"date\"], time_w[\"time_weight\"])\n",
    "plt.ylabel(\"Time Weights\")\n",
    "plt.xticks(rotation=45);"
   ]
  },
  {
   "cell_type": "markdown",
   "id": "e05c1a8a",
   "metadata": {},
   "source": [
    "### Synthetic Control and DID\n"
   ]
  },
  {
   "cell_type": "code",
   "execution_count": null,
   "id": "67ca2010",
   "metadata": {
    "ExecuteTime": {
     "end_time": "2023-05-17T10:25:22.787947Z",
     "start_time": "2023-05-17T10:25:22.780992Z"
    }
   },
   "outputs": [],
   "source": [
    "scdid_df = (\n",
    "    df_with_w\n",
    "    .merge(time_w, on=[\"date\"], how=\"left\")\n",
    "    .fillna({\"time_weight\":df_norm[\"post\"].mean()})\n",
    "    .assign(weight = lambda d: (d[\"time_weight\"]*d[\"unit_weight\"]))\n",
    ")"
   ]
  },
  {
   "cell_type": "code",
   "execution_count": null,
   "id": "17d30d87",
   "metadata": {
    "ExecuteTime": {
     "end_time": "2023-05-17T10:25:22.801647Z",
     "start_time": "2023-05-17T10:25:22.789299Z"
    }
   },
   "outputs": [],
   "source": [
    "did_model = smf.wls(\n",
    "    \"app_download_pct ~ treated*post\",\n",
    "    data=scdid_df.query(\"weight>1e-10\"),\n",
    "    weights=scdid_df.query(\"weight>1e-10\")[\"weight\"]).fit()\n",
    "\n",
    "did_model.params[\"treated:post\"]"
   ]
  },
  {
   "cell_type": "code",
   "execution_count": null,
   "id": "6c05684d",
   "metadata": {
    "ExecuteTime": {
     "end_time": "2023-05-17T10:25:23.112689Z",
     "start_time": "2023-05-17T10:25:22.803269Z"
    },
    "tags": [
     "hide-input"
    ]
   },
   "outputs": [],
   "source": [
    "avg_pre_period = time_w.iloc[int((time_w[\"time_weight\"] * np.arange(0, len(time_w), 1)).sum().round())][\"date\"]\n",
    "avg_post_period = pd.Timestamp(\"2022-06-01\")\n",
    "\n",
    "fig, (ax1, ax2) = plt.subplots(2, 1, figsize=(15,8), sharex=True, gridspec_kw={'height_ratios': [3, 1]})\n",
    "\n",
    "ax1.plot(y_co.index, y_tr.mean(axis=1), label=\"Treated\")\n",
    "ax1.plot(y_co.index, sc_model.predict(y_co), label=\"Synthetic Control\", ls=\"-.\")\n",
    "ax1.vlines(tr_period, y_tr.mean(axis=1).min(), y_tr.mean(axis=1).max(), color=\"black\", ls=\"dotted\")\n",
    "\n",
    "pre_sc = did_model.params[\"Intercept\"]\n",
    "post_sc = pre_sc + did_model.params[\"post\"]\n",
    "pre_treat = pre_sc + did_model.params[\"treated\"]\n",
    "post_treat = post_sc + did_model.params[\"treated\"] + did_model.params[\"treated:post\"]\n",
    "\n",
    "sc_did_y0 = pre_treat + (post_sc - pre_sc)\n",
    "\n",
    "ax1.plot([avg_pre_period, avg_post_period], [pre_treat, post_treat], color=\"C2\", ls=\"dashed\")\n",
    "ax1.plot([avg_pre_period, avg_post_period], [pre_treat, sc_did_y0], color=\"C2\")\n",
    "ax1.legend()\n",
    "ax1.set_title(\"Synthetic Diff-in-Diff\")\n",
    "ax1.set_ylabel(\"app_download_pct\")\n",
    "\n",
    "ax2.bar(time_w[\"date\"], time_w[\"time_weight\"])\n",
    "ax2.vlines(tr_period, 0, 0.15, color=\"black\", ls=\"dotted\")\n",
    "ax2.set_ylabel(\"Time Weights\")\n",
    "ax2.set_xlabel(\"Dates\")\n",
    "plt.xticks(rotation=30);\n"
   ]
  },
  {
   "cell_type": "markdown",
   "id": "c08ddbda",
   "metadata": {},
   "source": [
    "## Key Ideas\n"
   ]
  },
  {
   "cell_type": "code",
   "execution_count": null,
   "id": "803670fb",
   "metadata": {},
   "outputs": [],
   "source": []
  }
 ],
 "metadata": {
  "celltoolbar": "Tags",
  "kernelspec": {
   "display_name": ".venv",
   "language": "python",
   "name": "python3"
  },
  "language_info": {
   "codemirror_mode": {
    "name": "ipython",
    "version": 3
   },
   "file_extension": ".py",
   "mimetype": "text/x-python",
   "name": "python",
   "nbconvert_exporter": "python",
   "pygments_lexer": "ipython3",
   "version": "3.12.10"
  },
  "toc": {
   "base_numbering": 1,
   "nav_menu": {},
   "number_sections": true,
   "sideBar": true,
   "skip_h1_title": false,
   "title_cell": "Table of Contents",
   "title_sidebar": "Contents",
   "toc_cell": false,
   "toc_position": {},
   "toc_section_display": true,
   "toc_window_display": false
  },
  "varInspector": {
   "cols": {
    "lenName": 16,
    "lenType": 16,
    "lenVar": 40
   },
   "kernels_config": {
    "python": {
     "delete_cmd_postfix": "",
     "delete_cmd_prefix": "del ",
     "library": "var_list.py",
     "varRefreshCmd": "print(var_dic_list())"
    },
    "r": {
     "delete_cmd_postfix": ") ",
     "delete_cmd_prefix": "rm(",
     "library": "var_list.r",
     "varRefreshCmd": "cat(var_dic_list()) "
    }
   },
   "types_to_exclude": [
    "module",
    "function",
    "builtin_function_or_method",
    "instance",
    "_Feature"
   ],
   "window_display": false
  }
 },
 "nbformat": 4,
 "nbformat_minor": 5
}
