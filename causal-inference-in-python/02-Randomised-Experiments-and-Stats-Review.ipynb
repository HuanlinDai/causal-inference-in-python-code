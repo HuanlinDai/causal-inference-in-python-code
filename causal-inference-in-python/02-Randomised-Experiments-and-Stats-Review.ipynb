{
 "cells": [
  {
   "cell_type": "markdown",
   "metadata": {},
   "source": [
    "# 02 - Randomized Experiments and Stats Review\n",
    " \n",
    " \n",
    "## Brute Force Independence with Randomization\n"
   ]
  },
  {
   "cell_type": "markdown",
   "metadata": {},
   "source": [
    "## An A/B Testing Example\n",
    " "
   ]
  },
  {
   "cell_type": "code",
   "execution_count": null,
   "metadata": {
    "ExecuteTime": {
     "end_time": "2023-09-01T17:14:29.347488Z",
     "start_time": "2023-09-01T17:14:28.695287Z"
    },
    "tags": [
     "hide-input"
    ]
   },
   "outputs": [],
   "source": [
    "import pandas as pd\n",
    "pd.set_option('display.max_rows', 5)\n"
   ]
  },
  {
   "cell_type": "code",
   "execution_count": null,
   "metadata": {
    "ExecuteTime": {
     "end_time": "2023-09-01T17:14:29.363096Z",
     "start_time": "2023-09-01T17:14:29.349423Z"
    }
   },
   "outputs": [],
   "source": [
    "import pandas as pd # for data manipulation\n",
    "import numpy as np # for numerical computation\n",
    "\n",
    "data = pd.read_csv(\"./data/cross_sell_email.csv\")\n",
    "data"
   ]
  },
  {
   "cell_type": "code",
   "execution_count": null,
   "metadata": {
    "ExecuteTime": {
     "end_time": "2023-09-01T17:14:29.371157Z",
     "start_time": "2023-09-01T17:14:29.364511Z"
    }
   },
   "outputs": [],
   "source": [
    "(data\n",
    " .groupby([\"cross_sell_email\"])\n",
    " .mean())"
   ]
  },
  {
   "cell_type": "code",
   "execution_count": null,
   "metadata": {
    "ExecuteTime": {
     "end_time": "2023-09-01T17:14:29.383056Z",
     "start_time": "2023-09-01T17:14:29.373475Z"
    },
    "scrolled": true
   },
   "outputs": [],
   "source": [
    "X = [\"gender\", \"age\"]\n",
    "\n",
    "mu = data.groupby(\"cross_sell_email\")[X].mean()\n",
    "var = data.groupby(\"cross_sell_email\")[X].var()\n",
    "\n",
    "norm_diff = ((mu - mu.loc[\"no_email\"])/\n",
    "             np.sqrt((var + var.loc[\"no_email\"])/2))\n",
    "\n",
    "norm_diff"
   ]
  },
  {
   "cell_type": "markdown",
   "metadata": {},
   "source": [
    "## The Ideal Experiment\n",
    " "
   ]
  },
  {
   "cell_type": "markdown",
   "metadata": {},
   "source": [
    " \n",
    "## The Most Dangerous Equation\n"
   ]
  },
  {
   "cell_type": "code",
   "execution_count": null,
   "metadata": {
    "ExecuteTime": {
     "end_time": "2023-09-01T17:14:30.685676Z",
     "start_time": "2023-09-01T17:14:29.384770Z"
    },
    "tags": [
     "hide-input"
    ]
   },
   "outputs": [],
   "source": [
    "import warnings\n",
    "warnings.filterwarnings('ignore')\n",
    "\n",
    "import pandas as pd\n",
    "import numpy as np\n",
    "from scipy import stats\n",
    "import seaborn as sns\n",
    "from matplotlib import pyplot as plt\n",
    "from matplotlib import style\n",
    "from cycler import cycler\n",
    "import matplotlib\n",
    "\n",
    "default_cycler = (cycler(color=['0.1', '0.5', '1.0']))\n",
    "\n",
    "color=['0.3', '0.5', '0.7', '0.9']\n",
    "linestyle=['-', '--', ':', '-.']\n",
    "marker=['o', 'v', 'd', 'p']\n",
    "\n",
    "plt.rc('axes', prop_cycle=default_cycler)\n",
    "\n",
    "matplotlib.rcParams.update({'font.size': 18})"
   ]
  },
  {
   "cell_type": "code",
   "execution_count": null,
   "metadata": {
    "ExecuteTime": {
     "end_time": "2023-09-01T17:14:30.706628Z",
     "start_time": "2023-09-01T17:14:30.687207Z"
    }
   },
   "outputs": [],
   "source": [
    "df = pd.read_csv(\"data/enem_scores.csv\")\n",
    "df.sort_values(by=\"avg_score\", ascending=False).head(10)"
   ]
  },
  {
   "cell_type": "code",
   "execution_count": null,
   "metadata": {
    "ExecuteTime": {
     "end_time": "2023-09-01T17:14:30.813067Z",
     "start_time": "2023-09-01T17:14:30.708131Z"
    },
    "tags": [
     "hide-input"
    ]
   },
   "outputs": [],
   "source": [
    "plot_data = (df\n",
    "             .assign(top_school = df[\"avg_score\"] >= np.quantile(df[\"avg_score\"], .99))\n",
    "             [[\"top_school\", \"number_of_students\"]]\n",
    "             .query(f\"number_of_students<{np.quantile(df['number_of_students'], .98)}\")) # remove outliers\n",
    "\n",
    "plt.figure(figsize=(8,4))\n",
    "ax = sns.boxplot(x=\"top_school\", y=\"number_of_students\", data=plot_data)\n",
    "\n",
    "plt.title(\"Number of Students of 1% Top Schools (Right)\")\n"
   ]
  },
  {
   "cell_type": "code",
   "execution_count": null,
   "metadata": {
    "ExecuteTime": {
     "end_time": "2023-09-01T17:14:30.975794Z",
     "start_time": "2023-09-01T17:14:30.814539Z"
    },
    "tags": [
     "hide-input"
    ]
   },
   "outputs": [],
   "source": [
    "q_99 = np.quantile(df[\"avg_score\"], .99)\n",
    "q_01 = np.quantile(df[\"avg_score\"], .01)\n",
    "\n",
    "plot_data = (df\n",
    "             .sample(10000)\n",
    "             .assign(Group = lambda d: np.select([(d[\"avg_score\"] > q_99) | (d[\"avg_score\"] < q_01)],\n",
    "                                                 [\"Top and Bottom\"], \"Middle\")))\n",
    "plt.figure(figsize=(10,5))\n",
    "sns.scatterplot(y=\"avg_score\", x=\"number_of_students\", data=plot_data.query(\"Group=='Middle'\"), label=\"Middle\")\n",
    "ax = sns.scatterplot(y=\"avg_score\", x=\"number_of_students\", data=plot_data.query(\"Group!='Middle'\"), color=\"0.7\", label=\"Top and Bottom\")\n",
    "\n",
    "plt.title(\"ENEM Score by Number of Students in the School\")\n",
    "\n"
   ]
  },
  {
   "cell_type": "markdown",
   "metadata": {},
   "source": [
    "##  The Standard Error of Our Estimates\n",
    " "
   ]
  },
  {
   "cell_type": "code",
   "execution_count": null,
   "metadata": {
    "ExecuteTime": {
     "end_time": "2023-09-01T17:14:30.987374Z",
     "start_time": "2023-09-01T17:14:30.976905Z"
    }
   },
   "outputs": [],
   "source": [
    "data = pd.read_csv(\"./data/cross_sell_email.csv\")\n",
    "\n",
    "short_email = data.query(\"cross_sell_email=='short'\")[\"conversion\"]\n",
    "long_email = data.query(\"cross_sell_email=='long'\")[\"conversion\"]\n",
    "email = data.query(\"cross_sell_email!='no_email'\")[\"conversion\"]\n",
    "no_email = data.query(\"cross_sell_email=='no_email'\")[\"conversion\"]\n",
    "\n",
    "data.groupby(\"cross_sell_email\").size()"
   ]
  },
  {
   "cell_type": "code",
   "execution_count": null,
   "metadata": {
    "ExecuteTime": {
     "end_time": "2023-09-01T17:14:30.993805Z",
     "start_time": "2023-09-01T17:14:30.990856Z"
    }
   },
   "outputs": [],
   "source": [
    "def se(y: pd.Series):\n",
    "    return y.std() / np.sqrt(len(y))\n",
    "\n",
    "print(\"SE for Long Email:\", se(long_email))\n",
    "print(\"SE for Short Email:\", se(short_email))"
   ]
  },
  {
   "cell_type": "code",
   "execution_count": null,
   "metadata": {
    "ExecuteTime": {
     "end_time": "2023-09-01T17:14:30.998176Z",
     "start_time": "2023-09-01T17:14:30.995297Z"
    }
   },
   "outputs": [],
   "source": [
    "print(\"SE for Long Email:\", long_email.sem())\n",
    "print(\"SE for Short Email:\", short_email.sem())"
   ]
  },
  {
   "cell_type": "markdown",
   "metadata": {},
   "source": [
    "## Confidence Intervals\n",
    " "
   ]
  },
  {
   "cell_type": "code",
   "execution_count": null,
   "metadata": {
    "ExecuteTime": {
     "end_time": "2023-09-01T17:14:31.094364Z",
     "start_time": "2023-09-01T17:14:30.999382Z"
    }
   },
   "outputs": [],
   "source": [
    "n = 100\n",
    "conv_rate = 0.08\n",
    "\n",
    "def run_experiment(): \n",
    "    return np.random.binomial(1, conv_rate, size=n)\n",
    "\n",
    "np.random.seed(42)\n",
    "\n",
    "experiments = [run_experiment().mean() for _ in range(10000)]"
   ]
  },
  {
   "cell_type": "code",
   "execution_count": null,
   "metadata": {
    "ExecuteTime": {
     "end_time": "2023-09-01T17:14:31.214686Z",
     "start_time": "2023-09-01T17:14:31.095655Z"
    },
    "tags": [
     "hide-input"
    ]
   },
   "outputs": [],
   "source": [
    "plt.figure(figsize=(10,4))\n",
    "freq, bins, img = plt.hist(experiments, bins=20, label=\"Experiment Means\", color=\"0.6\")\n",
    "plt.vlines(conv_rate, ymin=0, ymax=freq.max(), linestyles=\"dashed\", label=\"True Mean\", color=\"0.3\")\n",
    "plt.legend()\n"
   ]
  },
  {
   "cell_type": "code",
   "execution_count": null,
   "metadata": {
    "ExecuteTime": {
     "end_time": "2023-09-01T17:14:31.287972Z",
     "start_time": "2023-09-01T17:14:31.216097Z"
    },
    "tags": [
     "hide-input"
    ]
   },
   "outputs": [],
   "source": [
    "np.random.seed(42)\n",
    "plt.figure(figsize=(10,4))\n",
    "plt.hist(np.random.binomial(1, 0.08, 100), bins=20)\n"
   ]
  },
  {
   "cell_type": "code",
   "execution_count": null,
   "metadata": {
    "ExecuteTime": {
     "end_time": "2023-09-01T17:14:31.381464Z",
     "start_time": "2023-09-01T17:14:31.289700Z"
    },
    "tags": [
     "hide-input"
    ]
   },
   "outputs": [],
   "source": [
    "x = np.linspace(-4, 4, 100)\n",
    "y = stats.norm.pdf(x, 0, 1)\n",
    "\n",
    "plt.figure(figsize=(10,4))\n",
    "plt.plot(x, y, linestyle=\"solid\")\n",
    "plt.fill_between(x.clip(-3, +3), 0, y, alpha=0.5, label=\"~99.7% mass\", color=\"C2\")\n",
    "plt.fill_between(x.clip(-2, +2), 0, y, alpha=0.5, label=\"~95% mass\", color=\"C1\")\n",
    "plt.fill_between(x.clip(-1, +1), 0, y, alpha=0.5, label=\"~68% mass\", color=\"C0\")\n",
    "plt.ylabel(\"Density\")\n",
    "plt.legend()\n"
   ]
  },
  {
   "cell_type": "code",
   "execution_count": null,
   "metadata": {
    "ExecuteTime": {
     "end_time": "2023-09-01T17:14:31.385987Z",
     "start_time": "2023-09-01T17:14:31.382952Z"
    }
   },
   "outputs": [],
   "source": [
    "exp_se = short_email.sem()\n",
    "exp_mu = short_email.mean()\n",
    "ci = (exp_mu - 2 * exp_se, exp_mu + 2 * exp_se)\n",
    "print(\"95% CI for Short Email: \", ci)"
   ]
  },
  {
   "cell_type": "code",
   "execution_count": null,
   "metadata": {
    "ExecuteTime": {
     "end_time": "2023-09-01T17:14:31.463518Z",
     "start_time": "2023-09-01T17:14:31.387519Z"
    },
    "tags": [
     "hide-input"
    ]
   },
   "outputs": [],
   "source": [
    "x = np.linspace(exp_mu - 4*exp_se, exp_mu + 4*exp_se, 100)\n",
    "y = stats.norm.pdf(x, exp_mu, exp_se)\n",
    "\n",
    "plt.figure(figsize=(10,4))\n",
    "plt.plot(x, y, lw=3)\n",
    "plt.vlines(ci[1], ymin=0, ymax=4, ls=\"dotted\")\n",
    "plt.vlines(ci[0], ymin=0, ymax=4, ls=\"dotted\", label=\"95% CI\")\n",
    "plt.xlabel(\"Conversion\")\n",
    "plt.legend()\n"
   ]
  },
  {
   "cell_type": "code",
   "execution_count": null,
   "metadata": {
    "ExecuteTime": {
     "end_time": "2023-09-01T17:14:31.468696Z",
     "start_time": "2023-09-01T17:14:31.464968Z"
    }
   },
   "outputs": [],
   "source": [
    "from scipy import stats\n",
    "\n",
    "z = np.abs(stats.norm.ppf((1-.99)/2))\n",
    "print(z)\n",
    "ci = (exp_mu - z * exp_se, exp_mu + z * exp_se)\n",
    "ci"
   ]
  },
  {
   "cell_type": "code",
   "execution_count": null,
   "metadata": {
    "ExecuteTime": {
     "end_time": "2023-09-01T17:14:31.473147Z",
     "start_time": "2023-09-01T17:14:31.470047Z"
    }
   },
   "outputs": [],
   "source": [
    "stats.norm.ppf((1-.99)/2)"
   ]
  },
  {
   "cell_type": "code",
   "execution_count": null,
   "metadata": {
    "ExecuteTime": {
     "end_time": "2023-09-01T17:14:31.553746Z",
     "start_time": "2023-09-01T17:14:31.474596Z"
    },
    "tags": [
     "hide-input"
    ]
   },
   "outputs": [],
   "source": [
    "x = np.linspace(exp_mu - 4*exp_se, exp_mu + 4*exp_se, 100)\n",
    "y = stats.norm.pdf(x, exp_mu, exp_se)\n",
    "\n",
    "plt.figure(figsize=(10,4))\n",
    "plt.plot(x, y, lw=3)\n",
    "plt.vlines(ci[1], ymin=0, ymax=4, ls=\"dotted\")\n",
    "plt.vlines(ci[0], ymin=0, ymax=4, ls=\"dotted\", label=\"99% CI\")\n",
    "\n",
    "\n",
    "ci_95 = (exp_mu - 1.96 * exp_se, exp_mu + 1.96 * exp_se)\n",
    "\n",
    "plt.vlines(ci_95[1], ymin=0, ymax=4, ls=\"dashed\")\n",
    "plt.vlines(ci_95[0], ymin=0, ymax=4, ls=\"dashed\", label=\"95% CI\")\n",
    "plt.xlabel(\"Conversion\")\n",
    "plt.legend()"
   ]
  },
  {
   "cell_type": "code",
   "execution_count": null,
   "metadata": {
    "ExecuteTime": {
     "end_time": "2023-09-01T17:14:31.559265Z",
     "start_time": "2023-09-01T17:14:31.555088Z"
    }
   },
   "outputs": [],
   "source": [
    "def ci(y: pd.Series):\n",
    "    return (y.mean() - 2 * y.sem(), y.mean() + 2 * y.sem())\n",
    "\n",
    "print(\"95% CI for Short Email:\", ci(short_email))\n",
    "print(\"95% CI for Long Email:\", ci(long_email))\n",
    "print(\"95% CI for No Email:\", ci(no_email))"
   ]
  },
  {
   "cell_type": "code",
   "execution_count": null,
   "metadata": {
    "ExecuteTime": {
     "end_time": "2023-09-01T17:14:31.653983Z",
     "start_time": "2023-09-01T17:14:31.560700Z"
    },
    "tags": [
     "hide-input"
    ]
   },
   "outputs": [],
   "source": [
    "plt.figure(figsize=(10,4))\n",
    "\n",
    "x = np.linspace(-0.05, .25, 100)\n",
    "short_dist = stats.norm.pdf(x, short_email.mean(), short_email.sem())\n",
    "plt.plot(x, short_dist, lw=2, label=\"Short\", linestyle=linestyle[0])\n",
    "plt.fill_between(x.clip(ci(short_email)[0], ci(short_email)[1]), 0, short_dist, alpha=0.2, color=\"0.0\")\n",
    "\n",
    "long_dist = stats.norm.pdf(x, long_email.mean(), long_email.sem())\n",
    "plt.plot(x, long_dist, lw=2, label=\"Long\", linestyle=linestyle[1])\n",
    "plt.fill_between(x.clip(ci(long_email)[0], ci(long_email)[1]), 0, long_dist, alpha=0.2, color=\"0.4\")\n",
    "\n",
    "no_email_dist = stats.norm.pdf(x, no_email.mean(), no_email.sem())\n",
    "plt.plot(x, no_email_dist, lw=2, label=\"No email\", linestyle=linestyle[2])\n",
    "plt.fill_between(x.clip(ci(no_email)[0], ci(no_email)[1]), 0, no_email_dist, alpha=0.2, color=\"0.8\")\n",
    "\n",
    "plt.xlabel(\"Conversion\")\n",
    "plt.legend()\n"
   ]
  },
  {
   "cell_type": "markdown",
   "metadata": {},
   "source": [
    "## Hypothesis Testing\n",
    " "
   ]
  },
  {
   "cell_type": "code",
   "execution_count": null,
   "metadata": {
    "ExecuteTime": {
     "end_time": "2023-09-01T17:14:32.135826Z",
     "start_time": "2023-09-01T17:14:31.655540Z"
    },
    "tags": [
     "hide-output"
    ]
   },
   "outputs": [],
   "source": [
    "import seaborn as sns\n",
    "from matplotlib import pyplot as plt\n",
    "\n",
    "np.random.seed(123)\n",
    "\n",
    "n1 = np.random.normal(4, 3, 30000)\n",
    "n2 = np.random.normal(1, 4, 30000)\n",
    "n_diff = n2 - n1\n",
    "\n",
    "plt.figure(figsize=(10,4))\n",
    "sns.distplot(n1, hist=False, label=\"$N(4,3^2)$\", color=\"0.0\", kde_kws={\"linestyle\":linestyle[0]})\n",
    "sns.distplot(n2, hist=False, label=\"$N(1,4^2)$\", color=\"0.4\", kde_kws={\"linestyle\":linestyle[1]})\n",
    "sns.distplot(n_diff, hist=False,\n",
    "             label=f\"$N(-3, 5^2) = N(1,4^2) - (4,3^2)$\", color=\"0.8\", kde_kws={\"linestyle\":linestyle[1]})\n",
    "plt.legend();"
   ]
  },
  {
   "cell_type": "code",
   "execution_count": null,
   "metadata": {
    "ExecuteTime": {
     "end_time": "2023-09-01T17:14:32.141048Z",
     "start_time": "2023-09-01T17:14:32.137649Z"
    }
   },
   "outputs": [],
   "source": [
    "diff_mu = short_email.mean() - no_email.mean()\n",
    "diff_se = np.sqrt(no_email.sem()**2 + short_email.sem()**2)\n",
    "\n",
    "ci = (diff_mu - 1.96*diff_se, diff_mu + 1.96*diff_se)\n",
    "print(f\"95% CI for the differece (short email - no email):\\n{ci}\")"
   ]
  },
  {
   "cell_type": "code",
   "execution_count": null,
   "metadata": {
    "ExecuteTime": {
     "end_time": "2023-09-01T17:14:32.214519Z",
     "start_time": "2023-09-01T17:14:32.142862Z"
    },
    "tags": [
     "hide-input"
    ]
   },
   "outputs": [],
   "source": [
    "x = np.linspace(diff_mu - 4*diff_se, diff_mu + 4*diff_se, 100)\n",
    "y = stats.norm.pdf(x, diff_mu, diff_se)\n",
    "\n",
    "plt.figure(figsize=(10,3))\n",
    "plt.plot(x, y, lw=3)\n",
    "plt.vlines(ci[1], ymin=0, ymax=4, ls=\"dotted\")\n",
    "plt.vlines(ci[0], ymin=0, ymax=4, ls=\"dotted\", label=\"95% CI\")\n",
    "plt.xlabel(\"Diff. in Conversion (Short - No Email)\\n\")\n",
    "plt.legend()\n",
    "plt.subplots_adjust(bottom=0.15)\n",
    "\n"
   ]
  },
  {
   "cell_type": "markdown",
   "metadata": {},
   "source": [
    "\n",
    "\n",
    "### Null Hypothesis\n"
   ]
  },
  {
   "cell_type": "code",
   "execution_count": null,
   "metadata": {
    "ExecuteTime": {
     "end_time": "2023-09-01T17:14:32.219374Z",
     "start_time": "2023-09-01T17:14:32.215971Z"
    }
   },
   "outputs": [],
   "source": [
    "# shifting the CI\n",
    "diff_mu_shifted =  short_email.mean() - no_email.mean() - 0.01 \n",
    "diff_se = np.sqrt(no_email.sem()**2 + short_email.sem()**2)\n",
    "\n",
    "ci = (diff_mu_shifted - 1.96*diff_se, diff_mu_shifted + 1.96*diff_se)\n",
    "print(f\"95% CI 1% difference between (short email - no email):\\n{ci}\")"
   ]
  },
  {
   "cell_type": "markdown",
   "metadata": {},
   "source": [
    "\n",
    "### Test Statistic\n"
   ]
  },
  {
   "cell_type": "code",
   "execution_count": null,
   "metadata": {
    "ExecuteTime": {
     "end_time": "2023-09-01T17:14:32.224419Z",
     "start_time": "2023-09-01T17:14:32.220897Z"
    }
   },
   "outputs": [],
   "source": [
    "t_stat = (diff_mu - 0) / diff_se\n",
    "t_stat"
   ]
  },
  {
   "cell_type": "markdown",
   "metadata": {},
   "source": [
    "\n",
    " \n",
    "## P-values\n"
   ]
  },
  {
   "cell_type": "code",
   "execution_count": null,
   "metadata": {
    "ExecuteTime": {
     "end_time": "2023-09-01T17:14:32.319306Z",
     "start_time": "2023-09-01T17:14:32.231500Z"
    },
    "tags": [
     "hide-input"
    ]
   },
   "outputs": [],
   "source": [
    "x = np.linspace(-4, 4, 100)\n",
    "y = stats.norm.pdf(x, 0, 1)\n",
    "\n",
    "plt.figure(figsize=(10,4))\n",
    "plt.plot(x, y, lw=2)\n",
    "plt.vlines(t_stat, ymin=0, ymax=0.1, ls=\"dotted\", label=\"T-Stat\", lw=2)\n",
    "plt.fill_between(x.clip(t_stat), 0, y, alpha=0.4, label=\"P-value\")\n",
    "plt.legend()"
   ]
  },
  {
   "cell_type": "code",
   "execution_count": null,
   "metadata": {
    "ExecuteTime": {
     "end_time": "2023-09-01T17:14:32.323269Z",
     "start_time": "2023-09-01T17:14:32.320788Z"
    }
   },
   "outputs": [],
   "source": [
    "print(\"P-value:\", (1 - stats.norm.cdf(t_stat))*2)"
   ]
  },
  {
   "cell_type": "markdown",
   "metadata": {},
   "source": [
    "## Power\n"
   ]
  },
  {
   "cell_type": "code",
   "execution_count": null,
   "metadata": {
    "ExecuteTime": {
     "end_time": "2023-09-01T17:14:32.327853Z",
     "start_time": "2023-09-01T17:14:32.324718Z"
    }
   },
   "outputs": [],
   "source": [
    "stats.norm.cdf(0.84)"
   ]
  },
  {
   "cell_type": "markdown",
   "metadata": {},
   "source": [
    "## Sample Size Calculation\n"
   ]
  },
  {
   "cell_type": "code",
   "execution_count": null,
   "metadata": {
    "ExecuteTime": {
     "end_time": "2023-09-01T17:14:32.332472Z",
     "start_time": "2023-09-01T17:14:32.329120Z"
    }
   },
   "outputs": [],
   "source": [
    "# in the book it is np.ceil(16 * no_email.std()**2/0.01), but it is missing the **2 in the denominator.\n",
    "np.ceil(16 * (no_email.std()/0.08)**2)"
   ]
  },
  {
   "cell_type": "code",
   "execution_count": null,
   "metadata": {
    "ExecuteTime": {
     "end_time": "2023-09-01T17:14:32.338471Z",
     "start_time": "2023-09-01T17:14:32.334244Z"
    }
   },
   "outputs": [],
   "source": [
    "data.groupby(\"cross_sell_email\").size()"
   ]
  },
  {
   "cell_type": "markdown",
   "metadata": {},
   "source": [
    "## Key Ideas\n"
   ]
  },
  {
   "cell_type": "code",
   "execution_count": null,
   "metadata": {},
   "outputs": [],
   "source": []
  }
 ],
 "metadata": {
  "celltoolbar": "Tags",
  "kernelspec": {
   "display_name": ".venv",
   "language": "python",
   "name": "python3"
  },
  "language_info": {
   "codemirror_mode": {
    "name": "ipython",
    "version": 3
   },
   "file_extension": ".py",
   "mimetype": "text/x-python",
   "name": "python",
   "nbconvert_exporter": "python",
   "pygments_lexer": "ipython3",
   "version": "3.12.10"
  },
  "toc": {
   "base_numbering": 1,
   "nav_menu": {},
   "number_sections": true,
   "sideBar": true,
   "skip_h1_title": false,
   "title_cell": "Table of Contents",
   "title_sidebar": "Contents",
   "toc_cell": false,
   "toc_position": {},
   "toc_section_display": true,
   "toc_window_display": false
  },
  "varInspector": {
   "cols": {
    "lenName": 16,
    "lenType": 16,
    "lenVar": 40
   },
   "kernels_config": {
    "python": {
     "delete_cmd_postfix": "",
     "delete_cmd_prefix": "del ",
     "library": "var_list.py",
     "varRefreshCmd": "print(var_dic_list())"
    },
    "r": {
     "delete_cmd_postfix": ") ",
     "delete_cmd_prefix": "rm(",
     "library": "var_list.r",
     "varRefreshCmd": "cat(var_dic_list()) "
    }
   },
   "types_to_exclude": [
    "module",
    "function",
    "builtin_function_or_method",
    "instance",
    "_Feature"
   ],
   "window_display": false
  }
 },
 "nbformat": 4,
 "nbformat_minor": 4
}
