{
 "cells": [
  {
   "cell_type": "markdown",
   "metadata": {},
   "source": [
    "# 03 - Graphical Causal Models\n",
    " \n",
    " \n",
    "\n",
    " \n",
    "## Thinking About Causality\n",
    " \n"
   ]
  },
  {
   "cell_type": "code",
   "execution_count": null,
   "metadata": {
    "ExecuteTime": {
     "end_time": "2023-06-25T15:09:27.723424Z",
     "start_time": "2023-06-25T15:09:25.235237Z"
    },
    "tags": [
     "hide-input",
     "hide-output"
    ]
   },
   "outputs": [],
   "source": [
    "import warnings\n",
    "warnings.filterwarnings('ignore')\n",
    "\n",
    "import pandas as pd\n",
    "import numpy as np\n",
    "import graphviz as gr\n",
    "from matplotlib import style\n",
    "import seaborn as sns\n",
    "from matplotlib import pyplot as plt\n",
    "\n",
    "color=['0.3', '0.5', '0.7', '0.9']\n",
    "linestyle=['-', '--', ':', '-.']\n",
    "marker=['o', 'v', 'd', 'p']\n",
    "\n",
    "pd.set_option('display.max_rows', 6)\n",
    "\n",
    "gr.set_default_format(\"png\");"
   ]
  },
  {
   "cell_type": "code",
   "execution_count": null,
   "metadata": {
    "ExecuteTime": {
     "end_time": "2023-06-25T15:09:27.743557Z",
     "start_time": "2023-06-25T15:09:27.725297Z"
    }
   },
   "outputs": [],
   "source": [
    "import pandas as pd\n",
    "import numpy as np\n",
    "\n",
    "data = pd.read_csv(\"./data/cross_sell_email.csv\")\n",
    "data"
   ]
  },
  {
   "cell_type": "markdown",
   "metadata": {},
   "source": [
    "\n",
    "### Visualizing Causal Relationships \n"
   ]
  },
  {
   "cell_type": "code",
   "execution_count": null,
   "metadata": {
    "ExecuteTime": {
     "end_time": "2023-06-25T15:09:28.364202Z",
     "start_time": "2023-06-25T15:09:27.744786Z"
    },
    "tags": [
     "hide-output"
    ]
   },
   "outputs": [],
   "source": [
    "import graphviz as gr\n",
    "\n",
    "g_cross_sell = gr.Digraph()\n",
    "\n",
    "g_cross_sell.edge(\"U\", \"conversion\")\n",
    "g_cross_sell.edge(\"U\", \"age\")\n",
    "g_cross_sell.edge(\"U\", \"gender\")\n",
    "\n",
    "g_cross_sell.edge(\"rnd\", \"cross_sell_email\")\n",
    "g_cross_sell.edge(\"cross_sell_email\", \"conversion\")\n",
    "g_cross_sell.edge(\"age\", \"conversion\")\n",
    "g_cross_sell.edge(\"gender\", \"conversion\")\n",
    "\n",
    "g_cross_sell"
   ]
  },
  {
   "cell_type": "code",
   "execution_count": null,
   "metadata": {
    "ExecuteTime": {
     "end_time": "2023-06-25T15:09:28.575818Z",
     "start_time": "2023-06-25T15:09:28.367014Z"
    },
    "tags": [
     "hide-input"
    ]
   },
   "outputs": [],
   "source": [
    "g_cross_sell = gr.Digraph()\n",
    "\n",
    "g_cross_sell.edge(\"U\", \"conversion\")\n",
    "g_cross_sell.edge(\"U\", \"age\")\n",
    "g_cross_sell.edge(\"U\", \"gender\")\n",
    "\n",
    "g_cross_sell.edge(\"rnd\", \"cross_sell_email\")\n",
    "g_cross_sell.edge(\"cross_sell_email\", \"conversion\")\n",
    "g_cross_sell.edge(\"age\", \"conversion\")\n",
    "g_cross_sell.edge(\"gender\", \"conversion\")\n",
    "\n",
    "g_cross_sell"
   ]
  },
  {
   "cell_type": "code",
   "execution_count": null,
   "metadata": {
    "ExecuteTime": {
     "end_time": "2023-06-25T15:09:28.798849Z",
     "start_time": "2023-06-25T15:09:28.578426Z"
    },
    "tags": [
     "hide-output"
    ]
   },
   "outputs": [],
   "source": [
    "# rankdir:LR layers the graph from left to right\n",
    "g_cross_sell = gr.Digraph(graph_attr={\"rankdir\": \"LR\"})\n",
    "\n",
    "g_cross_sell.edge(\"U\", \"conversion\")\n",
    "g_cross_sell.edge(\"U\", \"X\")\n",
    "\n",
    "g_cross_sell.edge(\"cross_sell_email\", \"conversion\")\n",
    "g_cross_sell.edge(\"X\", \"conversion\")\n",
    "\n",
    "g_cross_sell"
   ]
  },
  {
   "cell_type": "code",
   "execution_count": null,
   "metadata": {
    "ExecuteTime": {
     "end_time": "2023-06-25T15:09:29.004349Z",
     "start_time": "2023-06-25T15:09:28.801559Z"
    },
    "tags": [
     "hide-input"
    ]
   },
   "outputs": [],
   "source": [
    "g_cross_sell = gr.Digraph(graph_attr={\"rankdir\": \"LR\"})\n",
    "\n",
    "g_cross_sell.edge(\"U\", \"conversion\")\n",
    "g_cross_sell.edge(\"U\", \"X\")\n",
    "\n",
    "g_cross_sell.edge(\"cross_sell_email\", \"conversion\")\n",
    "g_cross_sell.edge(\"X\", \"conversion\")\n",
    "\n",
    "g_cross_sell"
   ]
  },
  {
   "cell_type": "markdown",
   "metadata": {},
   "source": [
    " \n",
    "### Are Consultants Worth it?\n"
   ]
  },
  {
   "cell_type": "code",
   "execution_count": null,
   "metadata": {
    "ExecuteTime": {
     "end_time": "2023-06-25T15:09:29.204706Z",
     "start_time": "2023-06-25T15:09:29.006360Z"
    },
    "tags": [
     "hide-input",
     "hide-code"
    ]
   },
   "outputs": [],
   "source": [
    "g_consultancy = gr.Digraph(graph_attr={\"rankdir\": \"LR\"})\n",
    "\n",
    "g_consultancy.edge(\"U1\", \"profits_next_6m\")\n",
    "g_consultancy.edge(\"U2\", \"consultancy\")\n",
    "g_consultancy.edge(\"U3\", \"profits_prev_6m\")\n",
    "\n",
    "g_consultancy.edge(\"consultancy\", \"profits_next_6m\")\n",
    "\n",
    "g_consultancy.edge(\"profits_prev_6m\", \"consultancy\")\n",
    "g_consultancy.edge(\"profits_prev_6m\", \"profits_next_6m\")\n",
    "\n",
    "g_consultancy"
   ]
  },
  {
   "cell_type": "code",
   "execution_count": null,
   "metadata": {
    "ExecuteTime": {
     "end_time": "2023-06-25T15:09:29.429558Z",
     "start_time": "2023-06-25T15:09:29.207127Z"
    },
    "tags": [
     "hide-input",
     "hide-code"
    ]
   },
   "outputs": [],
   "source": [
    "g_consultancy = gr.Digraph(graph_attr={\"rankdir\":\"LR\"})\n",
    "\n",
    "g_consultancy.edge(\"consultancy\", \"profits_next_6m\")\n",
    "g_consultancy.edge(\"profits_prev_6m\", \"consultancy\")\n",
    "g_consultancy.edge(\"profits_prev_6m\", \"profits_next_6m\")\n",
    "\n",
    "g_consultancy"
   ]
  },
  {
   "cell_type": "markdown",
   "metadata": {},
   "source": [
    "## Crash Course in Graphical Models\n",
    " \n",
    " \n",
    "### Chains\n"
   ]
  },
  {
   "cell_type": "code",
   "execution_count": null,
   "metadata": {
    "ExecuteTime": {
     "end_time": "2023-06-25T15:09:29.656253Z",
     "start_time": "2023-06-25T15:09:29.431670Z"
    },
    "tags": [
     "hide-input"
    ]
   },
   "outputs": [],
   "source": [
    "g = gr.Digraph(graph_attr={\"rankdir\": \"LR\"})\n",
    "\n",
    "g.edge(\"T\", \"M\")\n",
    "g.edge(\"M\", \"Y\")\n",
    "g.node(\"M\", \"M\")\n",
    "\n",
    "\n",
    "g.edge(\"causal knowledge\", \"solve problems\")\n",
    "g.edge(\"solve problems\", \"job promotion\")\n",
    "\n",
    "g"
   ]
  },
  {
   "cell_type": "code",
   "execution_count": null,
   "metadata": {
    "ExecuteTime": {
     "end_time": "2023-06-25T15:09:29.870382Z",
     "start_time": "2023-06-25T15:09:29.661788Z"
    },
    "tags": [
     "hide-input"
    ]
   },
   "outputs": [],
   "source": [
    "g = gr.Digraph(graph_attr={\"rankdir\": \"LR\"})\n",
    "\n",
    "g.edge(\"T\", \"M\")\n",
    "g.edge(\"M\", \"Y\")\n",
    "g.node(\"M\", \"M\")\n",
    "g.node(\"M\", color=\"lightgrey\", style=\"filled\")\n",
    "\n",
    "\n",
    "g.edge(\"causal knowledge\", \"solve problems\")\n",
    "g.edge(\"solve problems\", \"job promotion\")\n",
    "g.node(\"solve problems\", color=\"lightgrey\", style=\"filled\")\n",
    "\n",
    "g"
   ]
  },
  {
   "cell_type": "markdown",
   "metadata": {},
   "source": [
    "\n",
    "### Forks\n",
    " \n"
   ]
  },
  {
   "cell_type": "code",
   "execution_count": null,
   "metadata": {
    "ExecuteTime": {
     "end_time": "2023-06-25T15:09:30.108147Z",
     "start_time": "2023-06-25T15:09:29.872267Z"
    },
    "tags": [
     "hide-input"
    ]
   },
   "outputs": [],
   "source": [
    "g = gr.Digraph()\n",
    "\n",
    "\n",
    "g.edge(\"X\", \"Y\")\n",
    "g.edge(\"X\", \"T\")\n",
    "g.node(\"X\", \"X\")\n",
    "\n",
    "g.edge(\"statistics\", \"causal inference\")\n",
    "g.edge(\"statistics\", \"machine learning\")\n",
    "\n",
    "g"
   ]
  },
  {
   "cell_type": "code",
   "execution_count": null,
   "metadata": {
    "ExecuteTime": {
     "end_time": "2023-06-25T15:09:30.323535Z",
     "start_time": "2023-06-25T15:09:30.110294Z"
    },
    "tags": [
     "hide-input"
    ]
   },
   "outputs": [],
   "source": [
    "g = gr.Digraph()\n",
    "\n",
    "g.edge(\"good programmer\", \"can invert a binary tree\")\n",
    "g.edge(\"good programmer\", \"good employee\")\n",
    "\n",
    "g"
   ]
  },
  {
   "cell_type": "markdown",
   "metadata": {},
   "source": [
    "\n",
    " \n",
    "### Immorality or Collider \n"
   ]
  },
  {
   "cell_type": "code",
   "execution_count": null,
   "metadata": {
    "ExecuteTime": {
     "end_time": "2023-06-25T15:09:30.517990Z",
     "start_time": "2023-06-25T15:09:30.326021Z"
    },
    "tags": [
     "hide-input"
    ]
   },
   "outputs": [],
   "source": [
    "g = gr.Digraph()\n",
    "\n",
    "g.edge(\"Y\", \"X\")\n",
    "g.edge(\"T\", \"X\")\n",
    "\n",
    "g.edge(\"statistics\", \"job promotion\")\n",
    "g.edge(\"flatter\", \"job promotion\")\n",
    "\n",
    "g"
   ]
  },
  {
   "cell_type": "code",
   "execution_count": null,
   "metadata": {
    "ExecuteTime": {
     "end_time": "2023-06-25T15:09:30.744680Z",
     "start_time": "2023-06-25T15:09:30.519766Z"
    },
    "scrolled": true,
    "tags": [
     "hide-input"
    ]
   },
   "outputs": [],
   "source": [
    "g = gr.Digraph()\n",
    "\n",
    "g.edge(\"Y\", \"X1\")\n",
    "g.edge(\"T\", \"X1\")\n",
    "g.edge(\"X1\", \"X2\")\n",
    "g.node(\"X2\", color=\"lightgrey\", style=\"filled\")\n",
    "\n",
    "g.edge(\"statistics\", \"job promotion\")\n",
    "g.edge(\"flatter\", \"job promotion\")\n",
    "g.edge(\"job promotion\", \"high salary\")\n",
    "\n",
    "g.node(\"high salary\", color=\"lightgrey\", style=\"filled\")\n",
    "\n",
    "g"
   ]
  },
  {
   "cell_type": "markdown",
   "metadata": {},
   "source": [
    "### The Flow of Association Cheat Sheet\n"
   ]
  },
  {
   "cell_type": "markdown",
   "metadata": {},
   "source": [
    "### Querying a Graph in Python\n"
   ]
  },
  {
   "cell_type": "code",
   "execution_count": null,
   "metadata": {
    "ExecuteTime": {
     "end_time": "2023-06-25T15:09:30.952339Z",
     "start_time": "2023-06-25T15:09:30.746564Z"
    },
    "tags": [
     "hide-input"
    ]
   },
   "outputs": [],
   "source": [
    "g = gr.Digraph(graph_attr={\"rankdir\": \"LR\"})\n",
    "g.edge(\"C\", \"A\")\n",
    "g.edge(\"C\", \"B\")\n",
    "g.edge(\"D\", \"A\")\n",
    "g.edge(\"B\", \"E\")\n",
    "g.edge(\"F\", \"E\")\n",
    "g.edge(\"A\", \"G\")\n",
    "\n",
    "g"
   ]
  },
  {
   "cell_type": "code",
   "execution_count": null,
   "metadata": {
    "ExecuteTime": {
     "end_time": "2023-06-25T15:09:31.066650Z",
     "start_time": "2023-06-25T15:09:30.954496Z"
    }
   },
   "outputs": [],
   "source": [
    "import networkx as nx\n",
    "from networkx.algorithms.d_separation import is_d_separator\n",
    "\n",
    "model = nx.DiGraph([\n",
    "    (\"C\", \"A\"),\n",
    "    (\"C\", \"B\"),\n",
    "    (\"D\", \"A\"),\n",
    "    (\"B\", \"E\"),\n",
    "    (\"F\", \"E\"),\n",
    "    (\"A\", \"G\"),\n",
    "])\n"
   ]
  },
  {
   "cell_type": "code",
   "execution_count": null,
   "metadata": {
    "ExecuteTime": {
     "end_time": "2023-06-25T15:09:31.073162Z",
     "start_time": "2023-06-25T15:09:31.068365Z"
    }
   },
   "outputs": [],
   "source": [
    "print(\"Are D and C dependent?\")\n",
    "print(not(is_d_separator(model, {\"D\"}, {\"C\"}, set())))\n",
    "\n",
    "print(\"Are D and C dependent given A?\")\n",
    "print(not(is_d_separator(model, {\"D\"}, {\"C\"}, {\"A\"})))\n",
    "\n",
    "print(\"Are D and C dependent given G?\")\n",
    "print(not(is_d_separator(model, {\"D\"}, {\"C\"}, {\"G\"})))"
   ]
  },
  {
   "cell_type": "code",
   "execution_count": null,
   "metadata": {
    "ExecuteTime": {
     "end_time": "2023-06-25T15:09:31.077511Z",
     "start_time": "2023-06-25T15:09:31.074704Z"
    }
   },
   "outputs": [],
   "source": [
    "print(\"Are G and D dependent?\")\n",
    "print(not(is_d_separator(model, {\"G\"}, {\"D\"}, set())))\n",
    "\n",
    "print(\"Are G and D dependent given A?\")\n",
    "print(not(is_d_separator(model, {\"G\"}, {\"D\"}, {\"A\"})))"
   ]
  },
  {
   "cell_type": "code",
   "execution_count": null,
   "metadata": {
    "ExecuteTime": {
     "end_time": "2023-06-25T15:09:31.082324Z",
     "start_time": "2023-06-25T15:09:31.079124Z"
    }
   },
   "outputs": [],
   "source": [
    "print(\"Are A and B dependent?\")\n",
    "print(not(is_d_separator(model, {\"A\"}, {\"B\"}, set())))\n",
    "\n",
    "print(\"Are A and B dependent given C?\")\n",
    "print(not(is_d_separator(model, {\"A\"}, {\"B\"}, {\"C\"})))"
   ]
  },
  {
   "cell_type": "code",
   "execution_count": null,
   "metadata": {
    "ExecuteTime": {
     "end_time": "2023-06-25T15:09:31.087167Z",
     "start_time": "2023-06-25T15:09:31.083938Z"
    }
   },
   "outputs": [],
   "source": [
    "print(\"Are G and F dependent?\")\n",
    "print(not(is_d_separator(model, {\"G\"}, {\"F\"}, set())))\n",
    "\n",
    "print(\"Are G and F dependent given E?\")\n",
    "print(not(is_d_separator(model, {\"G\"}, {\"F\"}, {\"E\"})))"
   ]
  },
  {
   "cell_type": "markdown",
   "metadata": {},
   "source": [
    "\n",
    " \n",
    "## Identification Revisited\n"
   ]
  },
  {
   "cell_type": "code",
   "execution_count": null,
   "metadata": {
    "ExecuteTime": {
     "end_time": "2023-06-25T15:09:31.290464Z",
     "start_time": "2023-06-25T15:09:31.088696Z"
    },
    "tags": [
     "hide-input"
    ]
   },
   "outputs": [],
   "source": [
    "consultancy_sev = gr.Digraph(graph_attr={\"rankdir\": \"LR\"})\n",
    "consultancy_sev.edge(\"profits_prev_6m\", \"profits_next_6m\")\n",
    "consultancy_sev.edge(\"profits_prev_6m\", \"consultancy\")\n",
    "\n",
    "consultancy_sev"
   ]
  },
  {
   "cell_type": "code",
   "execution_count": null,
   "metadata": {
    "ExecuteTime": {
     "end_time": "2023-06-25T15:09:31.297704Z",
     "start_time": "2023-06-25T15:09:31.292738Z"
    }
   },
   "outputs": [],
   "source": [
    "consultancy_model_severed = nx.DiGraph([\n",
    "    (\"profits_prev_6m\", \"profits_next_6m\"),\n",
    "    (\"profits_prev_6m\", \"consultancy\"),\n",
    "#     (\"consultancy\", \"profits_next_6m\"), # causal relationship removed\n",
    "])\n",
    "\n",
    "not(is_d_separator(consultancy_model_severed,\n",
    "                   {\"consultancy\"}, {\"profits_next_6m\"}, set()))"
   ]
  },
  {
   "cell_type": "code",
   "execution_count": null,
   "metadata": {
    "ExecuteTime": {
     "end_time": "2023-06-25T15:09:31.505182Z",
     "start_time": "2023-06-25T15:09:31.299411Z"
    },
    "tags": [
     "hide-input"
    ]
   },
   "outputs": [],
   "source": [
    "g_consultancy = gr.Digraph(graph_attr={\"rankdir\":\"LR\"})\n",
    "g_consultancy.edge(\"profits_prev_6m\", \"profits_next_6m\")\n",
    "g_consultancy.edge(\"profits_prev_6m\", \"consultancy\")\n",
    "g_consultancy.edge(\"consultancy\", \"profits_next_6m\")\n",
    "g_consultancy.node(\"profits_prev_6m\", color=\"lightgrey\", style=\"filled\")\n",
    "\n",
    "g_consultancy"
   ]
  },
  {
   "cell_type": "markdown",
   "metadata": {},
   "source": [
    "## CIA and The Adjustment Formula\n",
    " \n",
    "## Positivity Assumption\n"
   ]
  },
  {
   "cell_type": "markdown",
   "metadata": {},
   "source": [
    "## An Identification Example with Data\n"
   ]
  },
  {
   "cell_type": "code",
   "execution_count": null,
   "metadata": {
    "ExecuteTime": {
     "end_time": "2023-06-25T15:09:31.518818Z",
     "start_time": "2023-06-25T15:09:31.507110Z"
    }
   },
   "outputs": [],
   "source": [
    "df = pd.DataFrame(dict(\n",
    "    profits_prev_6m=[1.0, 1.0, 1.0, 5.0, 5.0, 5.0],\n",
    "    consultancy=[0, 0, 1, 0, 1, 1],\n",
    "    profits_next_6m=[1, 1.1, 1.2, 5.5, 5.7, 5.7],\n",
    "))\n",
    "\n",
    "df"
   ]
  },
  {
   "cell_type": "code",
   "execution_count": null,
   "metadata": {
    "ExecuteTime": {
     "end_time": "2023-06-25T15:09:31.528085Z",
     "start_time": "2023-06-25T15:09:31.520733Z"
    }
   },
   "outputs": [],
   "source": [
    "(df.query(\"consultancy==1\")[\"profits_next_6m\"].mean() \n",
    " - df.query(\"consultancy==0\")[\"profits_next_6m\"].mean())"
   ]
  },
  {
   "cell_type": "code",
   "execution_count": null,
   "metadata": {
    "ExecuteTime": {
     "end_time": "2023-06-25T15:09:31.538760Z",
     "start_time": "2023-06-25T15:09:31.529677Z"
    }
   },
   "outputs": [],
   "source": [
    "avg_df = (df\n",
    "          .groupby([\"consultancy\", \"profits_prev_6m\"])\n",
    "          [\"profits_next_6m\"]\n",
    "          .mean())\n",
    "\n",
    "avg_df.loc[1] - avg_df.loc[0] "
   ]
  },
  {
   "cell_type": "code",
   "execution_count": null,
   "metadata": {
    "ExecuteTime": {
     "end_time": "2023-06-25T15:09:31.745712Z",
     "start_time": "2023-06-25T15:09:31.540150Z"
    },
    "tags": [
     "hide-input"
    ]
   },
   "outputs": [],
   "source": [
    "g = gr.Digraph(graph_attr={\"rankdir\":\"LR\"})\n",
    "g.edge(\"U\", \"T\")\n",
    "g.edge(\"U\", \"Y\")\n",
    "g.edge(\"T\", \"M\")\n",
    "g.edge(\"M\", \"Y\")\n",
    "\n",
    "g"
   ]
  },
  {
   "cell_type": "markdown",
   "metadata": {},
   "source": [
    "## Confounding Bias\n",
    " \n",
    "The first significant cause of bias is confounding. It's the bias we've been discussing so far. Now, we are just putting a name to it. **Confounding happens when there is an open backdoor path through which association flows non-causally, usually because the treatment and the outcome share a common cause**. For example, let's say that you work in HR and you want to know if your new management training program is increasing employers' engagement. However, since the training is optional, you believe only managers that are already doing great attend the program and those who need it the most, don't. When you measure engagement of the teams under the managers that took the training, it is much higher than that of the teams under the managers who didn't attend the training. But it's hard to know how much of this is causal. Since there is a common cause between treatment and outcome (the training and being a good manager, respectively) they would move together regardless of a causal effect. \n",
    " \n",
    "To identify that causal effect, you need to close all backdoor paths between the treatment and the outcome. If you do so, the only effect that will be left is the direct effect $T \\to Y$. In our example, you could somehow control for the manager's quality prior to taking the training. In that situation, the difference in the outcome will be only due to the training, since manager quality prior to the training would be held constant between treatment and control. Simply put, **to adjust for confounding bias, you need to adjust for the common causes of the treatment and the outcome**."
   ]
  },
  {
   "cell_type": "code",
   "execution_count": null,
   "metadata": {
    "ExecuteTime": {
     "end_time": "2023-06-25T15:09:31.958504Z",
     "start_time": "2023-06-25T15:09:31.756409Z"
    },
    "tags": [
     "hide-input"
    ]
   },
   "outputs": [],
   "source": [
    "g = gr.Digraph(graph_attr={\"rankdir\":\"LR\"})\n",
    "g.edge(\"X\", \"T\")\n",
    "g.edge(\"X\", \"Y\")\n",
    "g.edge(\"T\", \"Y\")\n",
    "\n",
    "g.edge(\"Manager Quality\", \"Training\"),\n",
    "g.edge(\"Manager Quality\", \"Engagement\"),\n",
    "g.edge(\"Training\", \"Engagement\")\n",
    "\n",
    "g"
   ]
  },
  {
   "cell_type": "markdown",
   "metadata": {},
   "source": [
    "\n",
    "### Surrogate Confounding\n"
   ]
  },
  {
   "cell_type": "code",
   "execution_count": null,
   "metadata": {
    "ExecuteTime": {
     "end_time": "2023-06-25T15:09:32.157902Z",
     "start_time": "2023-06-25T15:09:31.960159Z"
    },
    "tags": [
     "hide-input"
    ]
   },
   "outputs": [],
   "source": [
    "g = gr.Digraph()\n",
    "g.edge(\"X1\", \"U\")\n",
    "g.edge(\"U\", \"X2\")\n",
    "g.edge(\"U\", \"T\")\n",
    "g.edge(\"T\", \"Y\")\n",
    "g.edge(\"U\", \"Y\")\n",
    "\n",
    "g.edge(\"Manager Quality\", \"Team's Attrition\")\n",
    "g.edge(\"Manager Quality\", \"Team's Past Performance\")\n",
    "g.edge(\"Manager's Tenure\", \"Manager Quality\")\n",
    "g.edge(\"Manager's Education Level\", \"Manager Quality\")\n",
    "\n",
    "g.edge(\"Manager Quality\", \"Training\")\n",
    "g.edge(\"Training\", \"Engagement\")\n",
    "g.edge(\"Manager Quality\", \"Engagement\")\n",
    "\n",
    "g"
   ]
  },
  {
   "cell_type": "markdown",
   "metadata": {},
   "source": [
    "### Randomization Revisited\n"
   ]
  },
  {
   "cell_type": "code",
   "execution_count": null,
   "metadata": {
    "ExecuteTime": {
     "end_time": "2023-06-25T15:09:32.361584Z",
     "start_time": "2023-06-25T15:09:32.160291Z"
    },
    "tags": [
     "hide-input"
    ]
   },
   "outputs": [],
   "source": [
    "g = gr.Digraph(graph_attr={\"rankdir\":\"LR\"})\n",
    "g.edge(\"rnd\", \"T\")\n",
    "g.edge(\"T\", \"Y\")\n",
    "g.edge(\"U\", \"Y\")\n",
    "\n",
    "g"
   ]
  },
  {
   "cell_type": "markdown",
   "metadata": {},
   "source": [
    "## Selection Bias\n",
    " \n",
    "### Conditioning on a Collider\n"
   ]
  },
  {
   "cell_type": "code",
   "execution_count": null,
   "metadata": {
    "ExecuteTime": {
     "end_time": "2023-06-25T15:09:32.574282Z",
     "start_time": "2023-06-25T15:09:32.363619Z"
    },
    "tags": [
     "hide-input"
    ]
   },
   "outputs": [],
   "source": [
    "g = gr.Digraph(graph_attr={\"rankdir\": \"LR\"})\n",
    "g.edge(\"T\", \"S\")\n",
    "g.edge(\"T\", \"Y\")\n",
    "g.edge(\"Y\", \"S\")\n",
    "g.node(\"S\", color=\"lightgrey\", style=\"filled\")\n",
    "\n",
    "g.edge(\"RND\", \"New Feature\"),\n",
    "g.edge(\"New Feature\", \"Customer Satisfaction\"),\n",
    "g.edge(\"Customer Satisfaction\", \"NPS\"),\n",
    "g.edge(\"Customer Satisfaction\", \"Response\"),\n",
    "g.edge(\"New Feature\", \"Response\"),\n",
    "g.node(\"Response\", \"Response\", color=\"lightgrey\", style=\"filled\")\n",
    "\n",
    "g"
   ]
  },
  {
   "cell_type": "code",
   "execution_count": null,
   "metadata": {
    "ExecuteTime": {
     "end_time": "2023-06-25T15:09:32.581278Z",
     "start_time": "2023-06-25T15:09:32.576515Z"
    }
   },
   "outputs": [],
   "source": [
    "nps_model = nx.DiGraph([\n",
    "   (\"RND\", \"New Feature\"),\n",
    "#     (\"New Feature\", \"Customer Satisfaction\"),\n",
    "    (\"Customer Satisfaction\", \"NPS\"),\n",
    "    (\"Customer Satisfaction\", \"Response\"),\n",
    "    (\"New Feature\", \"Response\"),\n",
    "])\n",
    "\n",
    "\n",
    "not(is_d_separator(nps_model, {\"NPS\"}, {\"New Feature\"}, {\"Response\"}))"
   ]
  },
  {
   "cell_type": "code",
   "execution_count": null,
   "metadata": {
    "ExecuteTime": {
     "end_time": "2023-06-25T15:09:32.622363Z",
     "start_time": "2023-06-25T15:09:32.582667Z"
    },
    "scrolled": true,
    "tags": [
     "hide-input"
    ]
   },
   "outputs": [],
   "source": [
    "np.random.seed(2)\n",
    "n = 100000\n",
    "new_feature = np.random.binomial(1, 0.5, n)\n",
    "\n",
    "satisfaction_0 = np.random.normal(0, 0.5, n)\n",
    "satisfaction_1 = satisfaction_0 + 0.4\n",
    "satisfaction = new_feature*satisfaction_1 + (1-new_feature)*satisfaction_0\n",
    "\n",
    "nps_0 = np.random.normal(satisfaction_0, 1)\n",
    "nps_1 = np.random.normal(satisfaction_1, 1)\n",
    "nps = new_feature*nps_1 + (1-new_feature)*nps_0\n",
    "\n",
    "\n",
    "responded  = (np.random.normal(0 + new_feature + satisfaction, 1) > 1).astype(int)\n",
    "\n",
    "tr_df = pd.DataFrame(dict(new_feature=new_feature,\n",
    "                          responded=responded,\n",
    "                          nps_0=nps_0,\n",
    "                          nps_1=nps_1,\n",
    "                          nps=nps))\n",
    "\n",
    "tr_df_measurable = pd.DataFrame(dict(new_feature=new_feature,\n",
    "                                     responded=responded,\n",
    "                                     nps_0=np.nan,\n",
    "                                     nps_1=np.nan,\n",
    "                                     nps=np.where(responded, nps, np.nan)))\n",
    "\n",
    "tr_df.groupby(\"new_feature\").mean()"
   ]
  },
  {
   "cell_type": "code",
   "execution_count": null,
   "metadata": {
    "ExecuteTime": {
     "end_time": "2023-06-25T15:09:32.634960Z",
     "start_time": "2023-06-25T15:09:32.624532Z"
    },
    "tags": [
     "hide-input"
    ]
   },
   "outputs": [],
   "source": [
    "tr_df_measurable.groupby(\"new_feature\").mean().assign(**{\"nps\": np.nan})"
   ]
  },
  {
   "cell_type": "code",
   "execution_count": null,
   "metadata": {
    "ExecuteTime": {
     "end_time": "2023-06-25T15:09:32.647398Z",
     "start_time": "2023-06-25T15:09:32.636260Z"
    },
    "tags": [
     "hide-input"
    ]
   },
   "outputs": [],
   "source": [
    "tr_df_measurable.groupby([\"responded\", \"new_feature\"]).mean()"
   ]
  },
  {
   "cell_type": "code",
   "execution_count": null,
   "metadata": {
    "ExecuteTime": {
     "end_time": "2023-06-25T15:09:32.658749Z",
     "start_time": "2023-06-25T15:09:32.648693Z"
    },
    "tags": [
     "hide-input"
    ]
   },
   "outputs": [],
   "source": [
    "tr_df.groupby([\"responded\", \"new_feature\"]).mean()"
   ]
  },
  {
   "cell_type": "markdown",
   "metadata": {},
   "source": [
    "### Adjusting for Selection Bias\n"
   ]
  },
  {
   "cell_type": "code",
   "execution_count": null,
   "metadata": {
    "ExecuteTime": {
     "end_time": "2023-06-25T15:09:32.862849Z",
     "start_time": "2023-06-25T15:09:32.660473Z"
    },
    "tags": [
     "hide-input"
    ]
   },
   "outputs": [],
   "source": [
    "g = gr.Digraph()\n",
    "\n",
    "g.edge(\"U\", \"X\")\n",
    "g.edge(\"X\", \"S\")\n",
    "g.edge(\"U\", \"Y\")\n",
    "g.edge(\"T\", \"Y\")\n",
    "g.edge(\"T\", \"S\")\n",
    "g.node(\"S\", color=\"lightgrey\", style=\"filled\")\n",
    "\n",
    "g.edge(\"New Feature\", \"Customer Satisfaction\"),\n",
    "g.edge(\"Unknown Stuff\", \"Customer Satisfaction\"),\n",
    "g.edge(\"Unknown Stuff\", \"Time in App\"),\n",
    "g.edge(\"Time in App\", \"Response\"),\n",
    "g.edge(\"New Feature\", \"Response\"),\n",
    "\n",
    "g.node(\"Response\", \"Response\", color=\"lightgrey\", style=\"filled\")\n",
    "\n",
    "g"
   ]
  },
  {
   "cell_type": "code",
   "execution_count": null,
   "metadata": {
    "ExecuteTime": {
     "end_time": "2023-06-25T15:09:33.077565Z",
     "start_time": "2023-06-25T15:09:32.864909Z"
    },
    "tags": [
     "hide-input"
    ]
   },
   "outputs": [],
   "source": [
    "g = gr.Digraph(graph_attr={\"rankdir\": \"LR\"})\n",
    "\n",
    "g.edge(\"X1\", \"U\")\n",
    "g.edge(\"U\", \"X2\")\n",
    "g.edge(\"X5\", \"S\")\n",
    "g.edge(\"U\", \"Y\",style=\"dashed\")\n",
    "g.edge(\"U\", \"S\",style=\"dashed\")\n",
    "g.edge(\"U\", \"X3\")\n",
    "g.edge(\"X3\", \"S\")\n",
    "g.edge(\"Y\", \"X4\")\n",
    "g.edge(\"X4\", \"S\")\n",
    "g.edge(\"T\", \"X5\")\n",
    "g.edge(\"T\", \"Y\")\n",
    "g.edge(\"T\", \"S\", style=\"dashed\")\n",
    "g.node(\"S\", color=\"lightgrey\", style=\"filled\")\n",
    "\n",
    "g"
   ]
  },
  {
   "cell_type": "code",
   "execution_count": null,
   "metadata": {
    "ExecuteTime": {
     "end_time": "2023-06-25T15:09:33.083084Z",
     "start_time": "2023-06-25T15:09:33.079557Z"
    },
    "tags": [
     "hide-input"
    ]
   },
   "outputs": [],
   "source": [
    "g = gr.Digraph(graph_attr={\"rankdir\":\"LR\"})\n",
    "\n",
    "g.edge(\"Y\", \"X\")\n",
    "g.edge(\"T\", \"X\")\n",
    "g.edge(\"T\", \"Y\")\n",
    "\n",
    "g;"
   ]
  },
  {
   "cell_type": "markdown",
   "metadata": {},
   "source": [
    "### Conditioning on a Mediator\n"
   ]
  },
  {
   "cell_type": "code",
   "execution_count": null,
   "metadata": {
    "ExecuteTime": {
     "end_time": "2023-06-25T15:09:33.283592Z",
     "start_time": "2023-06-25T15:09:33.084471Z"
    },
    "tags": [
     "hide-input"
    ]
   },
   "outputs": [],
   "source": [
    "g = gr.Digraph(graph_attr={\"rankdir\": \"LR\"})\n",
    "g.edge(\"T\", \"M\")\n",
    "g.edge(\"T\", \"Y\")\n",
    "g.edge(\"M\", \"Y\")\n",
    "g.node(\"M\", color=\"lightgrey\", style=\"filled\")\n",
    "\n",
    "g.edge(\"woman\", \"seniority\")\n",
    "g.edge(\"woman\", \"salary\")\n",
    "g.edge(\"seniority\", \"salary\")\n",
    "g.node(\"seniority\", color=\"lightgrey\", style=\"filled\")\n",
    "\n",
    "g"
   ]
  },
  {
   "cell_type": "code",
   "execution_count": null,
   "metadata": {
    "ExecuteTime": {
     "end_time": "2023-06-25T15:09:33.488061Z",
     "start_time": "2023-06-25T15:09:33.285736Z"
    },
    "tags": [
     "hide-input"
    ]
   },
   "outputs": [],
   "source": [
    "g = gr.Digraph(graph_attr={\"rankdir\": \"LR\"})\n",
    "g.edge(\"T\", \"M\")\n",
    "g.edge(\"T\", \"Y\")\n",
    "g.edge(\"M\", \"Y\")\n",
    "g.edge(\"M\", \"X\")\n",
    "g.node(\"X\", color=\"lightgrey\", style=\"filled\")\n",
    "\n",
    "g"
   ]
  },
  {
   "cell_type": "markdown",
   "metadata": {},
   "source": [
    "## Key Ideas\n"
   ]
  },
  {
   "cell_type": "code",
   "execution_count": null,
   "metadata": {
    "ExecuteTime": {
     "end_time": "2023-06-25T15:09:33.691694Z",
     "start_time": "2023-06-25T15:09:33.489722Z"
    },
    "tags": [
     "hide-input"
    ]
   },
   "outputs": [],
   "source": [
    "g = gr.Digraph(graph_attr={\"rankdir\":\"LR\", \"ratio\": \"0.3\"})\n",
    "g.edge(\"U\", \"T\")\n",
    "g.edge(\"U\", \"Y\")\n",
    "g.edge(\"T\", \"Y\")\n",
    "\n",
    "g"
   ]
  },
  {
   "cell_type": "code",
   "execution_count": null,
   "metadata": {
    "ExecuteTime": {
     "end_time": "2023-06-25T15:09:33.906872Z",
     "start_time": "2023-06-25T15:09:33.693870Z"
    },
    "tags": [
     "hide-input"
    ]
   },
   "outputs": [],
   "source": [
    "g = gr.Digraph(graph_attr={\"rankdir\":\"LR\"})\n",
    "g.edge(\"T\", \"M\")\n",
    "g.edge(\"M\", \"Y\")\n",
    "g.edge(\"T\", \"Y\")\n",
    "g.edge(\"T\", \"S\")\n",
    "g.edge(\"Y\", \"S\")\n",
    "\n",
    "g.node(\"M\", color=\"lightgrey\", style=\"filled\")\n",
    "g.node(\"S\", color=\"lightgrey\", style=\"filled\")\n",
    "\n",
    "g"
   ]
  },
  {
   "cell_type": "code",
   "execution_count": null,
   "metadata": {
    "ExecuteTime": {
     "end_time": "2023-06-25T15:09:34.134806Z",
     "start_time": "2023-06-25T15:09:33.909096Z"
    },
    "tags": [
     "hide-input"
    ]
   },
   "outputs": [],
   "source": [
    "g = gr.Digraph(graph_attr={\"rankdir\":\"LR\"})\n",
    "g.edge(\"T\", \"In-Game Purchase\")\n",
    "g.edge(\"T\", \"In-Game Purchase > 0\")\n",
    "g.edge(\"In-Game Purchase\", \"In-Game Purchase > 0\")\n",
    "\n",
    "g.node(\"In-Game Purchase > 0\", color=\"lightgrey\", style=\"filled\")\n",
    "\n",
    "g"
   ]
  },
  {
   "cell_type": "code",
   "execution_count": null,
   "metadata": {
    "ExecuteTime": {
     "end_time": "2023-06-25T15:09:34.357947Z",
     "start_time": "2023-06-25T15:09:34.136697Z"
    },
    "tags": [
     "hide-input"
    ]
   },
   "outputs": [],
   "source": [
    "g = gr.Digraph(graph_attr={\"rankdir\": \"LR\"})\n",
    "g.edge(\"loan amount\", \"Default at yr=1\")\n",
    "g.edge(\"Default at yr=1\", \"Default at yr=2\")\n",
    "g.edge(\"Default at yr=2\", \"Default at yr=3\")\n",
    "g.edge(\"U\", \"Default at yr=1\")\n",
    "g.edge(\"U\", \"Default at yr=2\")\n",
    "g.edge(\"U\", \"Default at yr=3\")\n",
    "\n",
    "g.node(\"Default at yr=1\", color=\"lightgrey\", style=\"filled\")\n",
    "g.node(\"Default at yr=2\", color=\"darkgrey\", style=\"filled\")\n",
    "\n",
    "g"
   ]
  },
  {
   "cell_type": "code",
   "execution_count": null,
   "metadata": {},
   "outputs": [],
   "source": []
  }
 ],
 "metadata": {
  "celltoolbar": "Tags",
  "kernelspec": {
   "display_name": ".venv",
   "language": "python",
   "name": "python3"
  },
  "language_info": {
   "codemirror_mode": {
    "name": "ipython",
    "version": 3
   },
   "file_extension": ".py",
   "mimetype": "text/x-python",
   "name": "python",
   "nbconvert_exporter": "python",
   "pygments_lexer": "ipython3",
   "version": "3.12.10"
  },
  "toc": {
   "base_numbering": 1,
   "nav_menu": {},
   "number_sections": true,
   "sideBar": true,
   "skip_h1_title": false,
   "title_cell": "Table of Contents",
   "title_sidebar": "Contents",
   "toc_cell": false,
   "toc_position": {},
   "toc_section_display": true,
   "toc_window_display": false
  },
  "varInspector": {
   "cols": {
    "lenName": 16,
    "lenType": 16,
    "lenVar": 40
   },
   "kernels_config": {
    "python": {
     "delete_cmd_postfix": "",
     "delete_cmd_prefix": "del ",
     "library": "var_list.py",
     "varRefreshCmd": "print(var_dic_list())"
    },
    "r": {
     "delete_cmd_postfix": ") ",
     "delete_cmd_prefix": "rm(",
     "library": "var_list.r",
     "varRefreshCmd": "cat(var_dic_list()) "
    }
   },
   "types_to_exclude": [
    "module",
    "function",
    "builtin_function_or_method",
    "instance",
    "_Feature"
   ],
   "window_display": false
  }
 },
 "nbformat": 4,
 "nbformat_minor": 2
}
