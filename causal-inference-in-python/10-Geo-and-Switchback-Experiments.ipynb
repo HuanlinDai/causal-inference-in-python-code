{
 "cells": [
  {
   "cell_type": "markdown",
   "id": "4dc1bf63",
   "metadata": {},
   "source": [
    "# 10 - Geo and Switchback Experiments\n"
   ]
  },
  {
   "cell_type": "code",
   "execution_count": null,
   "id": "a6d9bc21",
   "metadata": {
    "ExecuteTime": {
     "end_time": "2023-05-17T10:32:36.002601Z",
     "start_time": "2023-05-17T10:32:34.274958Z"
    },
    "tags": [
     "hide-input"
    ]
   },
   "outputs": [],
   "source": [
    "from toolz.curried import *\n",
    "\n",
    "import pandas as pd\n",
    "import numpy as np\n",
    "\n",
    "import statsmodels.formula.api as smf\n",
    "\n",
    "import seaborn as sns\n",
    "from matplotlib import pyplot as plt\n",
    "import matplotlib\n",
    "from cycler import cycler\n",
    "\n",
    "color=['0.0', '0.4', '0.8']\n",
    "default_cycler = (cycler(color=color))\n",
    "linestyle=['-', '--', ':', '-.']\n",
    "marker=['o', 'v', 'd', 'p']\n",
    "\n",
    "plt.rc('axes', prop_cycle=default_cycler)"
   ]
  },
  {
   "cell_type": "code",
   "execution_count": null,
   "id": "1d121089",
   "metadata": {
    "ExecuteTime": {
     "end_time": "2023-05-17T10:32:36.201716Z",
     "start_time": "2023-05-17T10:32:36.004416Z"
    },
    "tags": [
     "hide-input"
    ]
   },
   "outputs": [],
   "source": [
    "from sklearn.base import BaseEstimator, RegressorMixin\n",
    "from sklearn.utils.validation import check_X_y, check_array, check_is_fitted\n",
    "import cvxpy as cp\n",
    "\n",
    "class SyntheticControl(BaseEstimator, RegressorMixin):\n",
    "\n",
    "    def __init__(self, fit_intercept=False):\n",
    "        self.fit_intercept = fit_intercept\n",
    "\n",
    "    def fit(self, y_pre_co, y_pre_tr):\n",
    "\n",
    "        y_pre_co, y_pre_tr = check_X_y(y_pre_co, y_pre_tr)\n",
    "        \n",
    "        # add intercept\n",
    "        intercept = np.ones((y_pre_co.shape[0], 1))*self.fit_intercept\n",
    "        X = np.concatenate([intercept, y_pre_co], axis=1)\n",
    "        w = cp.Variable(X.shape[1])\n",
    "        \n",
    "        objective = cp.Minimize(cp.sum_squares(X@w - y_pre_tr))\n",
    "        constraints = [cp.sum(w[1:]) == 1, w[1:] >= 0]\n",
    "        \n",
    "        problem = cp.Problem(objective, constraints)\n",
    "        \n",
    "        self.loss_ = problem.solve(eps_abs=1)\n",
    "        self.w_ = w.value[1:] \n",
    "        self.intercept_ = w.value[0] \n",
    "        \n",
    "        self.is_fitted_ = True\n",
    "        return self\n",
    "        \n",
    "        \n",
    "    def predict(self, y_co):\n",
    "\n",
    "        check_is_fitted(self)\n",
    "        y_co = check_array(y_co)\n",
    "        \n",
    "        return y_co @ self.w_ + self.intercept_"
   ]
  },
  {
   "cell_type": "markdown",
   "id": "e6823c18",
   "metadata": {},
   "source": [
    "## Geo-Experiments\n"
   ]
  },
  {
   "cell_type": "code",
   "execution_count": null,
   "id": "48236235",
   "metadata": {
    "ExecuteTime": {
     "end_time": "2023-05-17T10:32:36.225593Z",
     "start_time": "2023-05-17T10:32:36.202716Z"
    }
   },
   "outputs": [],
   "source": [
    "import pandas as pd\n",
    "import numpy as np\n",
    "\n",
    "df = (pd.read_csv(\"./data/online_mkt.csv\")\n",
    "      .astype({\"date\":\"datetime64[ns]\"})\n",
    "      .query(\"post==0\"))\n",
    "\n",
    "df.head()"
   ]
  },
  {
   "cell_type": "code",
   "execution_count": null,
   "id": "63544218",
   "metadata": {
    "ExecuteTime": {
     "end_time": "2023-05-17T10:32:36.231859Z",
     "start_time": "2023-05-17T10:32:36.227486Z"
    }
   },
   "outputs": [],
   "source": [
    "detectable_diff = df[\"app_download\"].mean()*0.05\n",
    "sigma_2 = df.groupby(\"city\")[\"app_download\"].mean().var()\n",
    "\n",
    "np.ceil((sigma_2*16)/(detectable_diff)**2)"
   ]
  },
  {
   "cell_type": "markdown",
   "id": "ccd05419",
   "metadata": {
    "ExecuteTime": {
     "end_time": "2023-02-01T13:59:24.858215Z",
     "start_time": "2023-02-01T13:59:24.842541Z"
    }
   },
   "source": [
    "\n",
    "## Synthetic Control Design\n"
   ]
  },
  {
   "cell_type": "code",
   "execution_count": null,
   "id": "93126bbb",
   "metadata": {
    "ExecuteTime": {
     "end_time": "2023-05-17T10:32:36.234676Z",
     "start_time": "2023-05-17T10:32:36.232782Z"
    },
    "tags": [
     "hide-input"
    ]
   },
   "outputs": [],
   "source": [
    "pd.set_option('display.max_columns', 6)"
   ]
  },
  {
   "cell_type": "code",
   "execution_count": null,
   "id": "1f955293",
   "metadata": {
    "ExecuteTime": {
     "end_time": "2023-05-17T10:32:36.246475Z",
     "start_time": "2023-05-17T10:32:36.235796Z"
    }
   },
   "outputs": [],
   "source": [
    "df_piv = (df\n",
    "          .pivot(index=\"date\", columns=\"city\", values=\"app_download\"))\n",
    "\n",
    "df_piv.head()"
   ]
  },
  {
   "cell_type": "code",
   "execution_count": null,
   "id": "ff3ad9fe",
   "metadata": {
    "ExecuteTime": {
     "end_time": "2023-05-17T10:32:36.252696Z",
     "start_time": "2023-05-17T10:32:36.248107Z"
    }
   },
   "outputs": [],
   "source": [
    "f = (df.groupby(\"city\")[\"population\"].first()\n",
    "     /df.groupby(\"city\")[\"population\"].first().sum())"
   ]
  },
  {
   "cell_type": "code",
   "execution_count": null,
   "id": "46ca33e3",
   "metadata": {
    "ExecuteTime": {
     "end_time": "2023-05-17T10:32:36.613672Z",
     "start_time": "2023-05-17T10:32:36.253974Z"
    },
    "tags": [
     "hide-input"
    ]
   },
   "outputs": [],
   "source": [
    "plt.figure(figsize=(12,3))\n",
    "plt.bar(f.sort_values().index, f.sort_values().values)\n",
    "plt.title(\"Size of each city as a proportional of the market (f vector)\")\n",
    "plt.xticks(rotation=90, fontsize=14);"
   ]
  },
  {
   "cell_type": "markdown",
   "id": "a53093b0",
   "metadata": {},
   "source": [
    "### Trying a Random Set of Treated Units\n"
   ]
  },
  {
   "cell_type": "code",
   "execution_count": null,
   "id": "dbb2a72f",
   "metadata": {
    "ExecuteTime": {
     "end_time": "2023-05-17T10:32:36.617198Z",
     "start_time": "2023-05-17T10:32:36.614845Z"
    }
   },
   "outputs": [],
   "source": [
    "y_avg = df_piv.dot(f)\n",
    "geos = list(df_piv.columns)\n",
    "n_tr = 5"
   ]
  },
  {
   "cell_type": "code",
   "execution_count": null,
   "id": "db952541",
   "metadata": {
    "ExecuteTime": {
     "end_time": "2023-05-17T10:32:36.623753Z",
     "start_time": "2023-05-17T10:32:36.620427Z"
    }
   },
   "outputs": [],
   "source": [
    "np.random.seed(1)\n",
    "rand_geos = np.random.choice(geos, n_tr, replace=False)\n",
    "rand_geos"
   ]
  },
  {
   "cell_type": "code",
   "execution_count": null,
   "id": "d8462027",
   "metadata": {
    "ExecuteTime": {
     "end_time": "2023-05-17T10:32:36.655809Z",
     "start_time": "2023-05-17T10:32:36.624853Z"
    }
   },
   "outputs": [],
   "source": [
    "def get_sc(geos, df_sc, y_mean_pre):\n",
    "    \n",
    "    model = SyntheticControl(fit_intercept=True)\n",
    "    model.fit(df_sc[geos], y_mean_pre)\n",
    "    \n",
    "    selected_geos = geos[np.abs(model.w_) > 1e-5]\n",
    "    \n",
    "    return {\"geos\": selected_geos, \"loss\": model.loss_ }\n",
    "\n",
    "\n",
    "get_sc(rand_geos, df_piv, y_avg)"
   ]
  },
  {
   "cell_type": "code",
   "execution_count": null,
   "id": "bbeab3ee",
   "metadata": {
    "ExecuteTime": {
     "end_time": "2023-05-17T10:32:36.677060Z",
     "start_time": "2023-05-17T10:32:36.657134Z"
    }
   },
   "outputs": [],
   "source": [
    "def get_sc_st_combination(treatment_geos, df_sc, y_mean_pre):\n",
    "    \n",
    "    treatment_result = get_sc(treatment_geos, df_sc, y_mean_pre)\n",
    "    \n",
    "    remaining_geos = df_sc.drop(\n",
    "        columns=treatment_result[\"geos\"]\n",
    "    ).columns\n",
    "    \n",
    "    control_result = get_sc(remaining_geos, df_sc, y_mean_pre)\n",
    "\n",
    "    return {\"st_geos\": treatment_result[\"geos\"],\n",
    "            \"sc_geos\": control_result[\"geos\"],\n",
    "            \"loss\": treatment_result[\"loss\"] + control_result[\"loss\"]}\n",
    "\n",
    "\n",
    "resulting_geos = get_sc_st_combination(rand_geos, df_piv, y_avg)"
   ]
  },
  {
   "cell_type": "code",
   "execution_count": null,
   "id": "6501bf3f",
   "metadata": {
    "ExecuteTime": {
     "end_time": "2023-05-17T10:32:36.681609Z",
     "start_time": "2023-05-17T10:32:36.678373Z"
    }
   },
   "outputs": [],
   "source": [
    "resulting_geos.get(\"st_geos\")"
   ]
  },
  {
   "cell_type": "code",
   "execution_count": null,
   "id": "28b292c9",
   "metadata": {
    "ExecuteTime": {
     "end_time": "2023-05-17T10:32:36.685656Z",
     "start_time": "2023-05-17T10:32:36.683035Z"
    }
   },
   "outputs": [],
   "source": [
    "len(resulting_geos.get(\"st_geos\")) + len(resulting_geos.get(\"sc_geos\"))"
   ]
  },
  {
   "cell_type": "code",
   "execution_count": null,
   "id": "94c0d6ac",
   "metadata": {
    "ExecuteTime": {
     "end_time": "2023-05-17T10:32:36.803578Z",
     "start_time": "2023-05-17T10:32:36.686898Z"
    },
    "tags": [
     "hide-input"
    ]
   },
   "outputs": [],
   "source": [
    "synthetic_tr = SyntheticControl(fit_intercept=True)\n",
    "synthetic_co = SyntheticControl(fit_intercept=True)\n",
    "\n",
    "synthetic_tr.fit(df_piv[resulting_geos.get(\"st_geos\")], y_avg)\n",
    "synthetic_co.fit(df_piv[resulting_geos.get(\"sc_geos\")], y_avg)\n",
    "\n",
    "plt.figure(figsize=(10,4))\n",
    "plt.plot(y_avg, label=\"Average\")\n",
    "plt.plot(y_avg.index, synthetic_co.predict(df_piv[resulting_geos.get(\"sc_geos\")]), label=\"sc\", ls=\":\")\n",
    "plt.plot(y_avg.index, synthetic_tr.predict(df_piv[resulting_geos.get(\"st_geos\")]), label=\"st\")\n",
    "\n",
    "\n",
    "plt.xticks(rotation=45)\n",
    "plt.legend()"
   ]
  },
  {
   "cell_type": "markdown",
   "id": "bcf9d5e6",
   "metadata": {},
   "source": [
    "### Random Search\n"
   ]
  },
  {
   "cell_type": "code",
   "execution_count": null,
   "id": "88d54a7b",
   "metadata": {
    "ExecuteTime": {
     "end_time": "2023-05-17T10:32:43.389975Z",
     "start_time": "2023-05-17T10:32:36.805186Z"
    }
   },
   "outputs": [],
   "source": [
    "from joblib import Parallel, delayed\n",
    "from toolz import partial\n",
    "\n",
    "np.random.seed(1)\n",
    "geo_samples = [np.random.choice(geos, n_tr, replace=False) \n",
    "               for _ in range(1000)]\n",
    "\n",
    "est_combination = partial(get_sc_st_combination,\n",
    "                          df_sc=df_piv,\n",
    "                          y_mean_pre=y_avg)\n",
    "\n",
    "results = Parallel(n_jobs=4)(delayed(est_combination)(geos)\n",
    "                             for geos in geo_samples)"
   ]
  },
  {
   "cell_type": "code",
   "execution_count": null,
   "id": "007f44cf",
   "metadata": {
    "ExecuteTime": {
     "end_time": "2023-05-17T10:32:43.396893Z",
     "start_time": "2023-05-17T10:32:43.392013Z"
    }
   },
   "outputs": [],
   "source": [
    "resulting_geos = min(results, key=lambda x: x.get(\"loss\"))\n",
    "resulting_geos.get(\"st_geos\")"
   ]
  },
  {
   "cell_type": "code",
   "execution_count": null,
   "id": "c7d52f86",
   "metadata": {
    "ExecuteTime": {
     "end_time": "2023-05-17T10:32:43.630748Z",
     "start_time": "2023-05-17T10:32:43.398336Z"
    },
    "tags": [
     "hide-input"
    ]
   },
   "outputs": [],
   "source": [
    "synthetic_tr = SyntheticControl(fit_intercept=True)\n",
    "synthetic_co = SyntheticControl(fit_intercept=True)\n",
    "\n",
    "synthetic_tr.fit(df_piv[resulting_geos.get(\"st_geos\")], y_avg)\n",
    "synthetic_co.fit(df_piv[resulting_geos.get(\"sc_geos\")], y_avg)\n",
    "\n",
    "\n",
    "plt.figure(figsize=(10,4))\n",
    "plt.plot(y_avg, label=\"Average\")\n",
    "plt.plot(y_avg.index, synthetic_co.predict(df_piv[resulting_geos.get(\"sc_geos\")]), label=\"sc\", ls=\":\")\n",
    "plt.plot(y_avg.index, synthetic_tr.predict(df_piv[resulting_geos.get(\"st_geos\")]), label=\"st\")\n",
    "\n",
    "\n",
    "plt.xticks(rotation=45)\n",
    "plt.legend()\n"
   ]
  },
  {
   "cell_type": "markdown",
   "id": "be13b10c",
   "metadata": {},
   "source": [
    "## Switchback Experiment\n"
   ]
  },
  {
   "cell_type": "code",
   "execution_count": null,
   "id": "a2b25f39",
   "metadata": {
    "ExecuteTime": {
     "end_time": "2023-05-17T10:32:43.641109Z",
     "start_time": "2023-05-17T10:32:43.632399Z"
    }
   },
   "outputs": [],
   "source": [
    "df = pd.read_csv(\"./data/sb_exp_every.csv\")\n",
    "df.head()"
   ]
  },
  {
   "cell_type": "code",
   "execution_count": null,
   "id": "ea4f5a64",
   "metadata": {
    "ExecuteTime": {
     "end_time": "2023-05-17T10:32:43.755523Z",
     "start_time": "2023-05-17T10:32:43.642428Z"
    },
    "tags": [
     "hide-input"
    ]
   },
   "outputs": [],
   "source": [
    "plt.figure(figsize=(12,5))\n",
    "x = df.index\n",
    "plt.plot(x, df[\"delivery_time_0\"], ls=\":\", color=\"0.0\", label=\"Y0\")\n",
    "plt.plot(x, df[\"delivery_time_1\"], ls=\":\", color=\"0.8\", label=\"Y1\")\n",
    "plt.plot(x, df[\"delivery_time\"], color=\"0.4\", label=\"Y\")\n",
    "plt.scatter(x[df[\"d\"]==1], df[\"delivery_time\"][df[\"d\"]==1], label=\"Treated\", marker=\"v\", color=\"0.4\")\n",
    "plt.scatter(x[df[\"d\"]==0], df[\"delivery_time\"][df[\"d\"]==0], label=\"Control\", marker=\"o\", color=\"0.4\")\n",
    "plt.ylabel(\"delivery_time\")\n",
    "plt.xlabel(\"Hours\")\n",
    "plt.legend(fontsize=14)\n"
   ]
  },
  {
   "cell_type": "markdown",
   "id": "c78e579f",
   "metadata": {},
   "source": [
    "### Potential Outcomes of Sequences"
   ]
  },
  {
   "cell_type": "markdown",
   "id": "0ffaa6db",
   "metadata": {},
   "source": [
    "### Estimating the Order of Carryover Effect\n"
   ]
  },
  {
   "cell_type": "code",
   "execution_count": null,
   "id": "4e415d48",
   "metadata": {
    "ExecuteTime": {
     "end_time": "2023-05-17T10:32:43.767150Z",
     "start_time": "2023-05-17T10:32:43.756614Z"
    }
   },
   "outputs": [],
   "source": [
    "df_lags = df.assign(**{\n",
    "    f\"d_l{l}\" : df[\"d\"].shift(l) for l in range(7)\n",
    "})\n",
    "\n",
    "df_lags[[f\"d_l{l}\" for l in range(7)]].head()"
   ]
  },
  {
   "cell_type": "code",
   "execution_count": null,
   "id": "7744a89d",
   "metadata": {
    "ExecuteTime": {
     "end_time": "2023-05-17T10:32:43.784211Z",
     "start_time": "2023-05-17T10:32:43.768761Z"
    }
   },
   "outputs": [],
   "source": [
    "import statsmodels.formula.api as smf\n",
    "\n",
    "model = smf.ols(\"delivery_time ~\" + \"+\".join([f\"d_l{l}\"\n",
    "                                              for l in range(7)]),\n",
    "                data=df_lags).fit()\n",
    "\n",
    "model.summary().tables[1]"
   ]
  },
  {
   "cell_type": "code",
   "execution_count": null,
   "id": "f7670aab",
   "metadata": {
    "ExecuteTime": {
     "end_time": "2023-05-17T10:32:43.789188Z",
     "start_time": "2023-05-17T10:32:43.785459Z"
    }
   },
   "outputs": [],
   "source": [
    "## remember to remove the intercept\n",
    "tau_m_hat = model.params[1:].sum() \n",
    "se_tau_m_hat = np.sqrt((model.bse[1:]**2).sum()) \n",
    "print(\"tau_m:\", tau_m_hat)\n",
    "print(\"95% CI:\", [tau_m_hat -1.96*se_tau_m_hat,\n",
    "                  tau_m_hat +1.96*se_tau_m_hat])"
   ]
  },
  {
   "cell_type": "code",
   "execution_count": null,
   "id": "490a7f7b",
   "metadata": {
    "ExecuteTime": {
     "end_time": "2023-05-17T10:32:43.793581Z",
     "start_time": "2023-05-17T10:32:43.790408Z"
    }
   },
   "outputs": [],
   "source": [
    "## selecting lags 0, 1 and 2\n",
    "tau_m_hat = model.params[1:4].sum() \n",
    "se_tau_m_hat = np.sqrt((model.bse[1:4]**2).sum()) \n",
    "print(\"tau_m:\", tau_m_hat)\n",
    "print(\"95% CI:\", [tau_m_hat -1.96*se_tau_m_hat,\n",
    "                  tau_m_hat +1.96*se_tau_m_hat])"
   ]
  },
  {
   "cell_type": "markdown",
   "id": "85b64be6",
   "metadata": {},
   "source": [
    "### Design Based Estimation\n"
   ]
  },
  {
   "cell_type": "code",
   "execution_count": null,
   "id": "17ea55a8",
   "metadata": {
    "ExecuteTime": {
     "end_time": "2023-05-17T10:32:43.797972Z",
     "start_time": "2023-05-17T10:32:43.794785Z"
    }
   },
   "outputs": [],
   "source": [
    "rad_points_3 = np.array([True, False, False]*(2))\n",
    "rad_points_3"
   ]
  },
  {
   "cell_type": "code",
   "execution_count": null,
   "id": "c4e1a227",
   "metadata": {
    "ExecuteTime": {
     "end_time": "2023-05-17T10:32:43.802452Z",
     "start_time": "2023-05-17T10:32:43.799531Z"
    }
   },
   "outputs": [],
   "source": [
    "rad_points_3.cumsum()"
   ]
  },
  {
   "cell_type": "code",
   "execution_count": null,
   "id": "a0e87646",
   "metadata": {
    "ExecuteTime": {
     "end_time": "2023-05-17T10:32:43.807183Z",
     "start_time": "2023-05-17T10:32:43.803781Z"
    }
   },
   "outputs": [],
   "source": [
    "from numpy.lib.stride_tricks import sliding_window_view\n",
    "\n",
    "m = 2\n",
    "sliding_window_view(rad_points_3.cumsum(), window_shape=m+1)"
   ]
  },
  {
   "cell_type": "code",
   "execution_count": null,
   "id": "ec17f6a8",
   "metadata": {
    "ExecuteTime": {
     "end_time": "2023-05-17T10:32:43.817003Z",
     "start_time": "2023-05-17T10:32:43.814228Z"
    }
   },
   "outputs": [],
   "source": [
    "np.diff(sliding_window_view(rad_points_3.cumsum(), 3), axis=1)"
   ]
  },
  {
   "cell_type": "code",
   "execution_count": null,
   "id": "207c8532",
   "metadata": {
    "ExecuteTime": {
     "end_time": "2023-05-17T10:32:43.821854Z",
     "start_time": "2023-05-17T10:32:43.818315Z"
    }
   },
   "outputs": [],
   "source": [
    "n_rand_windows = np.concatenate([\n",
    "    [np.nan]*m,\n",
    "    np.diff(sliding_window_view(rad_points_3.cumsum(), 3),\n",
    "            axis=1).sum(axis=1)+1\n",
    "])\n",
    "\n",
    "n_rand_windows"
   ]
  },
  {
   "cell_type": "code",
   "execution_count": null,
   "id": "af4ba9c1",
   "metadata": {
    "ExecuteTime": {
     "end_time": "2023-05-17T10:32:43.826011Z",
     "start_time": "2023-05-17T10:32:43.823303Z"
    }
   },
   "outputs": [],
   "source": [
    "p=0.5\n",
    "p**n_rand_windows"
   ]
  },
  {
   "cell_type": "code",
   "execution_count": null,
   "id": "bbab7d2f",
   "metadata": {
    "ExecuteTime": {
     "end_time": "2023-05-17T10:32:43.831898Z",
     "start_time": "2023-05-17T10:32:43.827411Z"
    }
   },
   "outputs": [],
   "source": [
    "def compute_p(rand_points, m, p=0.5):\n",
    "    n_windows_last_m = np.concatenate([\n",
    "        [np.nan]*m,\n",
    "        np.diff(sliding_window_view(rand_points.cumsum(), m+1),\n",
    "                axis=1).sum(axis=1)+1\n",
    "    ])\n",
    "    return p**n_windows_last_m\n",
    "\n",
    "compute_p(np.ones(6)==1, 2, 0.5)"
   ]
  },
  {
   "cell_type": "code",
   "execution_count": null,
   "id": "ebae0381",
   "metadata": {
    "ExecuteTime": {
     "end_time": "2023-05-17T10:32:43.836625Z",
     "start_time": "2023-05-17T10:32:43.833381Z"
    }
   },
   "outputs": [],
   "source": [
    "rand_points = np.array([True, False, False, True, False, True, False])\n",
    "compute_p(rand_points, 2, 0.5)"
   ]
  },
  {
   "cell_type": "code",
   "execution_count": null,
   "id": "a6951c64",
   "metadata": {
    "ExecuteTime": {
     "end_time": "2023-05-17T10:32:43.841438Z",
     "start_time": "2023-05-17T10:32:43.838103Z"
    }
   },
   "outputs": [],
   "source": [
    "def last_m_d_equal(d_vec, d, m):\n",
    "    return np.concatenate([\n",
    "        [np.nan]*m,\n",
    "        (sliding_window_view(d_vec, m+1)==d).all(axis=1)\n",
    "    ])\n",
    "\n",
    "print(last_m_d_equal([1, 1, 1, 0, 0, 0], 1, m=2))\n",
    "print(last_m_d_equal([1, 1, 1, 0, 0, 0], 0, m=2))"
   ]
  },
  {
   "cell_type": "code",
   "execution_count": null,
   "id": "9aa61e6f",
   "metadata": {
    "ExecuteTime": {
     "end_time": "2023-05-17T10:32:43.845747Z",
     "start_time": "2023-05-17T10:32:43.842807Z"
    }
   },
   "outputs": [],
   "source": [
    "def ipw_switchback(d, y, rand_points, m, p=0.5):\n",
    "    \n",
    "    p_last_m_equal_1 = compute_p(rand_points, m=m, p=p)\n",
    "    p_last_m_equal_0 = compute_p(rand_points, m=m, p=1-p)\n",
    "    \n",
    "    last_m_is_1 = last_m_d_equal(d,1,m)\n",
    "    last_m_is_0 = last_m_d_equal(d,0,m)\n",
    "  \n",
    "    y1_rec = y*last_m_is_1/p_last_m_equal_1\n",
    "    y0_rec = y*last_m_is_0/p_last_m_equal_0\n",
    "    \n",
    "    return np.mean((y1_rec-y0_rec)[m:])"
   ]
  },
  {
   "cell_type": "code",
   "execution_count": null,
   "id": "b43bb38f",
   "metadata": {
    "ExecuteTime": {
     "end_time": "2023-05-17T10:32:43.850941Z",
     "start_time": "2023-05-17T10:32:43.847008Z"
    }
   },
   "outputs": [],
   "source": [
    "ipw_switchback(df[\"d\"],\n",
    "               df[\"delivery_time\"],\n",
    "               np.ones(len(df))==1,\n",
    "               m=2, p=0.5)"
   ]
  },
  {
   "cell_type": "code",
   "execution_count": null,
   "id": "8161b47c",
   "metadata": {
    "ExecuteTime": {
     "end_time": "2023-05-17T10:32:46.415270Z",
     "start_time": "2023-05-17T10:32:43.852488Z"
    },
    "tags": [
     "hide-input"
    ]
   },
   "outputs": [],
   "source": [
    "from matplotlib import pyplot as plt\n",
    "from statsmodels.tsa.arima_process import ArmaProcess\n",
    "\n",
    "\n",
    "def gen_d(rand_points, p):\n",
    "    result = [np.random.binomial(1, p)]\n",
    "    \n",
    "    for t in rand_points[1:]:\n",
    "        result.append(np.random.binomial(1, p)*t + (1-t)*result[-1])\n",
    "    \n",
    "    return np.array(result)\n",
    "\n",
    "\n",
    "def y_given_d(d, effect_params, T, seed=None):\n",
    "    np.random.seed(seed) if not seed is None else None\n",
    "    x = np.arange(1, T+1)\n",
    "    return (np.log(x+1)\n",
    "            + 2*np.sin(x*2*np.pi/24)\n",
    "            + np.convolve(~d.astype(bool), effect_params)[:-(len(effect_params)-1)]\n",
    "            + ArmaProcess([3,2,1], 12).generate_sample(T)).round(2)\n",
    "\n",
    "\n",
    "\n",
    "def gen_data_rand_every():\n",
    "    effect_params = [3,2,1]\n",
    "    T=120\n",
    "    p=0.5\n",
    "    m=2\n",
    "    \n",
    "    d = np.random.binomial(1, 0.5, T)\n",
    "    y = y_given_d(d, [3,2,1], T)\n",
    "    rand_points = np.ones(T)==1\n",
    "    \n",
    "    return pd.DataFrame(dict(d=d, y=y, rand_points=rand_points))\n",
    "\n",
    "\n",
    "def tau_ols(df):\n",
    "    df_lags = df.assign(**{\n",
    "        f\"d_l{l}\" : df[\"d\"].shift(l) for l in range(3)\n",
    "    })\n",
    "    model = smf.ols(\"y ~\" + \"+\".join([f\"d_l{l}\" for l in range(3)]),data=df_lags).fit()\n",
    "    return model.params[1:].sum()\n",
    "\n",
    "def tau_ipw(df):\n",
    "    return ipw_switchback(df[\"d\"],\n",
    "                          df[\"y\"],\n",
    "                          df[\"rand_points\"],\n",
    "                          m=2, p=0.5)\n",
    "    \n",
    "\n",
    "    \n",
    "np.random.seed(123)\n",
    "exps_dfs = [gen_data_rand_every() for _ in range(500)]\n",
    "\n",
    "fig, (ax1, ax2) = plt.subplots(2, 1, sharex=True, figsize=(8, 4))\n",
    "ols_taus = list(map(tau_ols, exps_dfs))\n",
    "ax1.hist(ols_taus, label=\"OLS tau\", color=\"0.5\")\n",
    "ax1.vlines(-6, 0, 120, color=\"0\", label=\"True tau\")\n",
    "ax1.legend()\n",
    "\n",
    "ipw_taus = list(map(tau_ipw, exps_dfs))\n",
    "ax2.hist(ipw_taus, label=\"IPW tau\", color=\"0.5\");\n",
    "ax2.vlines(-6, 0, 120,  color=\"0\")\n",
    "ax2.legend()\n"
   ]
  },
  {
   "cell_type": "markdown",
   "id": "2ab31b80",
   "metadata": {},
   "source": [
    "### Optimal Switchback Design\n"
   ]
  },
  {
   "cell_type": "code",
   "execution_count": null,
   "id": "e6e20cc3",
   "metadata": {
    "ExecuteTime": {
     "end_time": "2023-05-17T10:32:46.421046Z",
     "start_time": "2023-05-17T10:32:46.417019Z"
    }
   },
   "outputs": [],
   "source": [
    "m = 2\n",
    "T = 12\n",
    "n = T/m\n",
    "np.isin(\n",
    "    np.arange(1, T+1),\n",
    "    [1] + [i*m+1 for i in range(2, int(n)-1)]\n",
    ")*1"
   ]
  },
  {
   "cell_type": "code",
   "execution_count": null,
   "id": "ef05c2bc",
   "metadata": {
    "ExecuteTime": {
     "end_time": "2023-05-17T10:32:46.426064Z",
     "start_time": "2023-05-17T10:32:46.422419Z"
    }
   },
   "outputs": [],
   "source": [
    "m = 3\n",
    "T = 15\n",
    "n = T/m\n",
    "np.isin(\n",
    "    np.arange(1, T+1),\n",
    "    [1] + [i*m+1 for i in range(2, int(n)-1)]\n",
    ")*1"
   ]
  },
  {
   "cell_type": "code",
   "execution_count": null,
   "id": "165d9236",
   "metadata": {
    "ExecuteTime": {
     "end_time": "2023-05-17T10:32:48.844088Z",
     "start_time": "2023-05-17T10:32:46.427594Z"
    },
    "tags": [
     "hide-input"
    ]
   },
   "outputs": [],
   "source": [
    "def gen_d(rand_points, p):\n",
    "    result = [np.random.binomial(1, p)]\n",
    "    \n",
    "    for t in rand_points[1:]:\n",
    "        result.append(np.random.binomial(1, p)*t + (1-t)*result[-1])\n",
    "    \n",
    "    return np.array(result)\n",
    "\n",
    "T = 120\n",
    "m = 2\n",
    "\n",
    "def gen_exp(rand_points, T):\n",
    "    effect_params = [3,2,1]\n",
    "    p=0.5\n",
    "    \n",
    "    d = gen_d(rand_points, p=p)\n",
    "    y = y_given_d(d, [3,2,1], T)\n",
    "\n",
    "    return pd.DataFrame(dict(d=d, y=y, rand_points=rand_points))\n",
    "\n",
    "\n",
    "every_1 = np.array([True]*T)\n",
    "every_3 = np.array([True, False, False]*(T//3))\n",
    "n = T//m\n",
    "opt = np.isin(\n",
    "    np.arange(1, T+1),\n",
    "    [1] + [i*m+1 for i in range(2, int(n)-1)]\n",
    ")\n",
    "\n",
    "np.random.seed(123)\n",
    "exps_every_1 = [gen_exp(every_1, T) for _ in range(1000)]\n",
    "exps_every_3 = [gen_exp(every_3, T) for _ in range(1000)]\n",
    "exps_opt = [gen_exp(opt, T) for _ in range(1000)]"
   ]
  },
  {
   "cell_type": "code",
   "execution_count": null,
   "id": "c1ef305e",
   "metadata": {
    "ExecuteTime": {
     "end_time": "2023-05-17T10:32:50.893740Z",
     "start_time": "2023-05-17T10:32:48.845325Z"
    },
    "tags": [
     "hide-input"
    ]
   },
   "outputs": [],
   "source": [
    "fig, axs = plt.subplots(3, 1, sharex=True, figsize=(12, 6))\n",
    "ax1, ax2, ax3 = axs.ravel()\n",
    "\n",
    "taus_every_1_ipw = list(map(tau_ipw, exps_every_1))\n",
    "ax1.hist(taus_every_1_ipw, label=\"Every Period\", color=\"0.5\")\n",
    "ax1.set_title(f\"Var={np.round(np.var(taus_every_1_ipw), 2)}\")\n",
    "ax1.legend()\n",
    "\n",
    "\n",
    "taus_every_3_ipw = list(map(tau_ipw, exps_every_3))\n",
    "ax2.hist(taus_every_3_ipw, label=\"Every 3 Periods\", color=\"0.5\");\n",
    "ax2.set_title(f\"Var={np.round(np.var(taus_every_3_ipw), 2)}\")\n",
    "ax2.legend()\n",
    "\n",
    "taus_opt_ipw = list(map(tau_ipw, exps_opt))\n",
    "ax3.hist(taus_opt_ipw, label=\"Optimal Design\", color=\"0.5\");\n",
    "ax3.set_title(f\"Var={np.round(np.var(taus_opt_ipw), 2)}\")\n",
    "ax3.legend()\n",
    "\n",
    "plt.tight_layout()"
   ]
  },
  {
   "cell_type": "markdown",
   "id": "2c8ad207",
   "metadata": {
    "ExecuteTime": {
     "end_time": "2023-02-05T11:56:13.934223Z",
     "start_time": "2023-02-05T11:56:13.931098Z"
    }
   },
   "source": [
    "### Robust Variance\n"
   ]
  },
  {
   "cell_type": "code",
   "execution_count": null,
   "id": "b9964280",
   "metadata": {
    "ExecuteTime": {
     "end_time": "2023-05-17T10:32:50.901893Z",
     "start_time": "2023-05-17T10:32:50.895125Z"
    }
   },
   "outputs": [],
   "source": [
    "df_opt = pd.read_csv(\"./data/sb_exp_opt.csv\")\n",
    "df_opt.head(6)"
   ]
  },
  {
   "cell_type": "code",
   "execution_count": null,
   "id": "4d256e26",
   "metadata": {
    "ExecuteTime": {
     "end_time": "2023-05-17T10:32:50.907700Z",
     "start_time": "2023-05-17T10:32:50.903196Z"
    }
   },
   "outputs": [],
   "source": [
    "tau_hat = ipw_switchback(df_opt[\"d\"],\n",
    "                         df_opt[\"delivery_time\"],\n",
    "                         df_opt[\"rand_points\"],\n",
    "                         m=2, p=0.5)\n",
    "\n",
    "tau_hat"
   ]
  },
  {
   "cell_type": "code",
   "execution_count": null,
   "id": "68a6edc4",
   "metadata": {
    "ExecuteTime": {
     "end_time": "2023-05-17T10:32:50.911916Z",
     "start_time": "2023-05-17T10:32:50.908998Z"
    }
   },
   "outputs": [],
   "source": [
    "np.vstack(np.hsplit(np.array([1,1,1,2,2,3]), 3))"
   ]
  },
  {
   "cell_type": "code",
   "execution_count": null,
   "id": "fc086811",
   "metadata": {
    "ExecuteTime": {
     "end_time": "2023-05-17T10:32:50.916370Z",
     "start_time": "2023-05-17T10:32:50.913175Z"
    }
   },
   "outputs": [],
   "source": [
    "np.diff(np.vstack(np.hsplit(np.array([1,1,0,0,0,0]), 3))[:, 0]) == 0"
   ]
  },
  {
   "cell_type": "code",
   "execution_count": null,
   "id": "e3e2d950",
   "metadata": {
    "ExecuteTime": {
     "end_time": "2023-05-17T10:32:50.921232Z",
     "start_time": "2023-05-17T10:32:50.917674Z"
    }
   },
   "outputs": [],
   "source": [
    "def var_opt_design(d_opt, y_opt, T, m):\n",
    "    \n",
    "    assert ((T//m == T/m)\n",
    "            & (T//m >= 4)), \"T must be divisible by m and T/m >= 4\"\n",
    "    \n",
    "    # discard 1st block\n",
    "    y_m_blocks = np.vstack(np.hsplit(y_opt, int(T/m))).sum(axis=1)[1:]\n",
    "    \n",
    "    # take 1st column\n",
    "    d_m_blocks = np.vstack(np.split(d_opt, int(T/m))[1:])[:, 0] \n",
    "    \n",
    "    return (\n",
    "        8*y_m_blocks[0]**2 \n",
    "        + (32*y_m_blocks[1:-1]**2*(np.diff(d_m_blocks)==0)[:-1]).sum()\n",
    "        + 8*y_m_blocks[-1]**2 \n",
    "    ) / (T-m)**2"
   ]
  },
  {
   "cell_type": "code",
   "execution_count": null,
   "id": "1acee734",
   "metadata": {
    "ExecuteTime": {
     "end_time": "2023-05-17T10:32:50.931116Z",
     "start_time": "2023-05-17T10:32:50.922346Z"
    }
   },
   "outputs": [],
   "source": [
    "se_hat = np.sqrt(var_opt_design(df_opt[\"d\"],\n",
    "                                df_opt[\"delivery_time\"],\n",
    "                                T=120, m=2))\n",
    "\n",
    "[tau_hat - 1.96*se_hat, tau_hat + 1.96*se_hat]"
   ]
  },
  {
   "cell_type": "markdown",
   "id": "0a6afcdb",
   "metadata": {},
   "source": [
    "## Key Ideas\n"
   ]
  },
  {
   "cell_type": "code",
   "execution_count": null,
   "id": "2ec71b0d",
   "metadata": {},
   "outputs": [],
   "source": []
  }
 ],
 "metadata": {
  "celltoolbar": "Tags",
  "kernelspec": {
   "display_name": ".venv",
   "language": "python",
   "name": "python3"
  },
  "language_info": {
   "codemirror_mode": {
    "name": "ipython",
    "version": 3
   },
   "file_extension": ".py",
   "mimetype": "text/x-python",
   "name": "python",
   "nbconvert_exporter": "python",
   "pygments_lexer": "ipython3",
   "version": "3.12.10"
  },
  "toc": {
   "base_numbering": 1,
   "nav_menu": {},
   "number_sections": true,
   "sideBar": true,
   "skip_h1_title": false,
   "title_cell": "Table of Contents",
   "title_sidebar": "Contents",
   "toc_cell": false,
   "toc_position": {},
   "toc_section_display": true,
   "toc_window_display": false
  },
  "varInspector": {
   "cols": {
    "lenName": 16,
    "lenType": 16,
    "lenVar": 40
   },
   "kernels_config": {
    "python": {
     "delete_cmd_postfix": "",
     "delete_cmd_prefix": "del ",
     "library": "var_list.py",
     "varRefreshCmd": "print(var_dic_list())"
    },
    "r": {
     "delete_cmd_postfix": ") ",
     "delete_cmd_prefix": "rm(",
     "library": "var_list.r",
     "varRefreshCmd": "cat(var_dic_list()) "
    }
   },
   "types_to_exclude": [
    "module",
    "function",
    "builtin_function_or_method",
    "instance",
    "_Feature"
   ],
   "window_display": false
  }
 },
 "nbformat": 4,
 "nbformat_minor": 5
}
