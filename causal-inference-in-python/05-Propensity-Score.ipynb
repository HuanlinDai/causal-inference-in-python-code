{
 "cells": [
  {
   "cell_type": "markdown",
   "id": "d7f1d923",
   "metadata": {},
   "source": [
    "# 05 - Propensity Score\n",
    " \n"
   ]
  },
  {
   "cell_type": "code",
   "execution_count": null,
   "id": "38fa85e9",
   "metadata": {
    "ExecuteTime": {
     "end_time": "2023-05-12T11:07:47.976618Z",
     "start_time": "2023-05-12T11:07:46.137953Z"
    },
    "tags": [
     "hide-input"
    ]
   },
   "outputs": [],
   "source": [
    "import warnings\n",
    "warnings.filterwarnings('ignore')\n",
    "\n",
    "import pandas as pd\n",
    "import numpy as np\n",
    "import graphviz as gr\n",
    "from matplotlib import style\n",
    "import seaborn as sns\n",
    "from matplotlib import pyplot as plt\n",
    "style.use(\"ggplot\")\n",
    "import statsmodels.formula.api as smf\n",
    "import matplotlib\n",
    "from cycler import cycler\n",
    "\n",
    "color=['0.2', '0.6', '1.0']\n",
    "default_cycler = (cycler(color=color))\n",
    "linestyle=['-', '--', ':', '-.']\n",
    "marker=['o', 'v', 'd', 'p']\n",
    "\n",
    "\n",
    "plt.rc('axes', prop_cycle=default_cycler)"
   ]
  },
  {
   "cell_type": "markdown",
   "id": "825bd95c",
   "metadata": {},
   "source": [
    "## The Impact of Management Training\n"
   ]
  },
  {
   "cell_type": "code",
   "execution_count": null,
   "id": "da24fe51",
   "metadata": {
    "ExecuteTime": {
     "end_time": "2023-05-12T11:07:47.999787Z",
     "start_time": "2023-05-12T11:07:47.979897Z"
    }
   },
   "outputs": [],
   "source": [
    "import pandas as pd\n",
    "import numpy as np\n",
    "\n",
    "df = pd.read_csv(\"data/management_training.csv\")\n",
    "df.head()"
   ]
  },
  {
   "cell_type": "markdown",
   "id": "d5302a5e",
   "metadata": {},
   "source": [
    "## Adjusting with Regression\n",
    " \n"
   ]
  },
  {
   "cell_type": "code",
   "execution_count": null,
   "id": "82c53d1f",
   "metadata": {
    "ExecuteTime": {
     "end_time": "2023-05-12T11:07:48.017145Z",
     "start_time": "2023-05-12T11:07:48.001890Z"
    }
   },
   "outputs": [],
   "source": [
    "import statsmodels.formula.api as smf\n",
    "\n",
    "smf.ols(\"engagement_score ~ intervention\",\n",
    "        data=df).fit().summary().tables[1]"
   ]
  },
  {
   "cell_type": "code",
   "execution_count": null,
   "id": "a2e2e829",
   "metadata": {
    "ExecuteTime": {
     "end_time": "2023-05-12T11:07:48.101534Z",
     "start_time": "2023-05-12T11:07:48.018691Z"
    }
   },
   "outputs": [],
   "source": [
    "model = smf.ols(\"\"\"engagement_score ~ intervention \n",
    "+ tenure + last_engagement_score + department_score\n",
    "+ n_of_reports + C(gender) + C(role)\"\"\", data=df).fit()\n",
    "\n",
    "print(\"ATE:\", model.params[\"intervention\"])\n",
    "print(\"95% CI:\", model.conf_int().loc[\"intervention\", :].values.T)"
   ]
  },
  {
   "cell_type": "markdown",
   "id": "69f32142",
   "metadata": {},
   "source": [
    "## Propensity Score\n"
   ]
  },
  {
   "cell_type": "code",
   "execution_count": null,
   "id": "c019d181",
   "metadata": {
    "ExecuteTime": {
     "end_time": "2023-05-12T11:07:48.270828Z",
     "start_time": "2023-05-12T11:07:48.103118Z"
    },
    "tags": [
     "hide-input"
    ]
   },
   "outputs": [],
   "source": [
    "g = gr.Digraph(graph_attr={\"rankdir\":\"LR\"})\n",
    "g.edge(\"T\", \"Y\")\n",
    "g.edge(\"X\", \"Y\")\n",
    "g.edge(\"X\", \"e(x)\")\n",
    "g.edge(\"e(x)\", \"T\")\n",
    "\n",
    "g"
   ]
  },
  {
   "cell_type": "markdown",
   "id": "681cfb14",
   "metadata": {},
   "source": [
    "### Propensity Score Estimation\n"
   ]
  },
  {
   "cell_type": "code",
   "execution_count": null,
   "id": "f42f970f",
   "metadata": {
    "ExecuteTime": {
     "end_time": "2023-05-12T11:07:48.395743Z",
     "start_time": "2023-05-12T11:07:48.273267Z"
    }
   },
   "outputs": [],
   "source": [
    "ps_model = smf.logit(\"\"\"intervention ~ \n",
    "tenure + last_engagement_score + department_score\n",
    "+ C(n_of_reports) + C(gender) + C(role)\"\"\", data=df).fit(disp=0)"
   ]
  },
  {
   "cell_type": "code",
   "execution_count": null,
   "id": "c5fe924e",
   "metadata": {
    "ExecuteTime": {
     "end_time": "2023-05-12T11:07:48.451614Z",
     "start_time": "2023-05-12T11:07:48.397162Z"
    }
   },
   "outputs": [],
   "source": [
    "data_ps = df.assign(\n",
    "    propensity_score = ps_model.predict(df),\n",
    ")\n",
    "\n",
    "data_ps[[\"intervention\", \"engagement_score\", \"propensity_score\"]].head()"
   ]
  },
  {
   "cell_type": "markdown",
   "id": "429717b1",
   "metadata": {},
   "source": [
    "### Propensity Score and Orthogonalization\n"
   ]
  },
  {
   "cell_type": "code",
   "execution_count": null,
   "id": "d0dc2213",
   "metadata": {
    "ExecuteTime": {
     "end_time": "2023-05-12T11:07:48.465839Z",
     "start_time": "2023-05-12T11:07:48.453346Z"
    }
   },
   "outputs": [],
   "source": [
    "model = smf.ols(\"engagement_score ~ intervention + propensity_score\",\n",
    "                data=data_ps).fit()\n",
    "model.params[\"intervention\"]"
   ]
  },
  {
   "cell_type": "markdown",
   "id": "69af0c5c",
   "metadata": {
    "ExecuteTime": {
     "end_time": "2023-03-24T10:05:26.398600Z",
     "start_time": "2023-03-24T10:05:26.373622Z"
    }
   },
   "source": [
    "### Propensity Score Matching\n",
    "\n"
   ]
  },
  {
   "cell_type": "code",
   "execution_count": null,
   "id": "98490d60",
   "metadata": {
    "ExecuteTime": {
     "end_time": "2023-05-12T11:07:49.010794Z",
     "start_time": "2023-05-12T11:07:48.470187Z"
    }
   },
   "outputs": [],
   "source": [
    "from sklearn.neighbors import KNeighborsRegressor\n",
    "\n",
    "T = \"intervention\"\n",
    "X = \"propensity_score\"\n",
    "Y = \"engagement_score\"\n",
    "\n",
    "treated = data_ps.query(f\"{T}==1\")\n",
    "untreated = data_ps.query(f\"{T}==0\")\n",
    "\n",
    "mt0 = KNeighborsRegressor(n_neighbors=1).fit(untreated[[X]],\n",
    "                                             untreated[Y])\n",
    "\n",
    "mt1 = KNeighborsRegressor(n_neighbors=1).fit(treated[[X]], treated[Y])\n",
    "\n",
    "predicted = pd.concat([\n",
    "    # find matches for the treated looking at the untreated knn model\n",
    "    treated.assign(match=mt0.predict(treated[[X]])),\n",
    "    \n",
    "    # find matches for the untreated looking at the treated knn model\n",
    "    untreated.assign(match=mt1.predict(untreated[[X]]))\n",
    "])\n",
    "\n",
    "predicted.head()"
   ]
  },
  {
   "cell_type": "code",
   "execution_count": null,
   "id": "8319952a",
   "metadata": {
    "ExecuteTime": {
     "end_time": "2023-05-12T11:07:49.015607Z",
     "start_time": "2023-05-12T11:07:49.012083Z"
    }
   },
   "outputs": [],
   "source": [
    "np.mean((predicted[Y] - predicted[\"match\"])*predicted[T] \n",
    "        + (predicted[\"match\"] - predicted[Y])*(1-predicted[T]))"
   ]
  },
  {
   "cell_type": "markdown",
   "id": "0989cfa6",
   "metadata": {},
   "source": [
    "### Inverse Propensity Weighting\n"
   ]
  },
  {
   "cell_type": "code",
   "execution_count": null,
   "id": "05d64ca2",
   "metadata": {
    "ExecuteTime": {
     "end_time": "2023-05-12T11:07:49.159133Z",
     "start_time": "2023-05-12T11:07:49.016712Z"
    },
    "tags": [
     "hide-input"
    ]
   },
   "outputs": [],
   "source": [
    "g_data = (data_ps\n",
    "          .assign(\n",
    "              weight = data_ps[\"intervention\"]/data_ps[\"propensity_score\"] + (1-data_ps[\"intervention\"])/(1-data_ps[\"propensity_score\"]),\n",
    "              propensity_score=data_ps[\"propensity_score\"].round(2)\n",
    "          )\n",
    "          .groupby([\"propensity_score\", \"intervention\"])\n",
    "          [[\"weight\", \"engagement_score\"]]\n",
    "          .mean()\n",
    "          .reset_index())\n",
    "\n",
    "plt.figure(figsize=(10,4))\n",
    "for t in [0, 1]:\n",
    "    sns.scatterplot(data=g_data.query(f\"intervention=={t}\"), y=\"engagement_score\", x=\"propensity_score\", size=\"weight\",\n",
    "                    sizes=(1,100), color=color[t], legend=None, label=f\"T={t}\", marker=marker[t])\n",
    "\n",
    "plt.title(\"Inverse Probability of Treatment Weighting\")\n",
    "plt.legend()\n"
   ]
  },
  {
   "cell_type": "code",
   "execution_count": null,
   "id": "feb9d99b",
   "metadata": {
    "ExecuteTime": {
     "end_time": "2023-05-12T11:07:49.170313Z",
     "start_time": "2023-05-12T11:07:49.160904Z"
    }
   },
   "outputs": [],
   "source": [
    "weight_t = 1/data_ps.query(\"intervention==1\")[\"propensity_score\"]\n",
    "weight_nt = 1/(1-data_ps.query(\"intervention==0\")[\"propensity_score\"])\n",
    "t1 = data_ps.query(\"intervention==1\")[\"engagement_score\"] \n",
    "t0 = data_ps.query(\"intervention==0\")[\"engagement_score\"] \n",
    "\n",
    "y1 = sum(t1*weight_t)/len(data_ps)\n",
    "y0 = sum(t0*weight_nt)/len(data_ps)\n",
    "\n",
    "print(\"E[Y1]:\", y1)\n",
    "print(\"E[Y0]:\", y0)\n",
    "print(\"ATE\", y1 - y0)"
   ]
  },
  {
   "cell_type": "code",
   "execution_count": null,
   "id": "edea172f",
   "metadata": {
    "ExecuteTime": {
     "end_time": "2023-05-12T11:07:49.176308Z",
     "start_time": "2023-05-12T11:07:49.171637Z"
    }
   },
   "outputs": [],
   "source": [
    "np.mean(data_ps[\"engagement_score\"] \n",
    "        * (data_ps[\"intervention\"] - data_ps[\"propensity_score\"]) \n",
    "        / (data_ps[\"propensity_score\"]*(1-data_ps[\"propensity_score\"])))"
   ]
  },
  {
   "cell_type": "markdown",
   "id": "0db67820",
   "metadata": {},
   "source": [
    "### Variance of IPW\n"
   ]
  },
  {
   "cell_type": "code",
   "execution_count": null,
   "id": "c7ece5ce",
   "metadata": {
    "ExecuteTime": {
     "end_time": "2023-05-12T11:07:49.180887Z",
     "start_time": "2023-05-12T11:07:49.177617Z"
    }
   },
   "outputs": [],
   "source": [
    "from sklearn.linear_model import LogisticRegression\n",
    "from patsy import dmatrix\n",
    "\n",
    "# define function that computes the IPW estimator\n",
    "def est_ate_with_ps(df, ps_formula, T, Y):\n",
    "    \n",
    "    X = dmatrix(ps_formula, df)\n",
    "    ps_model = LogisticRegression(penalty=None,\n",
    "                                  max_iter=1000).fit(X, df[T])\n",
    "    ps = ps_model.predict_proba(X)[:, 1]\n",
    "    \n",
    "    # compute the ATE\n",
    "    return np.mean((df[T]-ps) / (ps*(1-ps)) * df[Y]) "
   ]
  },
  {
   "cell_type": "code",
   "execution_count": null,
   "id": "147ce66f",
   "metadata": {
    "ExecuteTime": {
     "end_time": "2023-05-12T11:07:49.337352Z",
     "start_time": "2023-05-12T11:07:49.182125Z"
    }
   },
   "outputs": [],
   "source": [
    "formula = \"\"\"tenure + last_engagement_score + department_score\n",
    "+ C(n_of_reports) + C(gender) + C(role)\"\"\"\n",
    "T = \"intervention\"\n",
    "Y = \"engagement_score\"\n",
    "\n",
    "est_ate_with_ps(df, formula, T, Y)"
   ]
  },
  {
   "cell_type": "code",
   "execution_count": null,
   "id": "ba176cf3",
   "metadata": {
    "ExecuteTime": {
     "end_time": "2023-05-12T11:07:49.342356Z",
     "start_time": "2023-05-12T11:07:49.339333Z"
    }
   },
   "outputs": [],
   "source": [
    "from joblib import Parallel, delayed # for parallel processing\n",
    "\n",
    "def bootstrap(data, est_fn, rounds=200, seed=123, pcts=[2.5, 97.5]):\n",
    "    np.random.seed(seed)\n",
    "    \n",
    "    stats = Parallel(n_jobs=4)(\n",
    "        delayed(est_fn)(data.sample(frac=1, replace=True))\n",
    "        for _ in range(rounds)\n",
    "    )\n",
    "    \n",
    "    return np.percentile(stats, pcts)"
   ]
  },
  {
   "cell_type": "code",
   "execution_count": null,
   "id": "9c7f7226",
   "metadata": {
    "ExecuteTime": {
     "end_time": "2023-05-12T11:07:58.878886Z",
     "start_time": "2023-05-12T11:07:49.344108Z"
    }
   },
   "outputs": [],
   "source": [
    "from toolz import partial\n",
    "\n",
    "print(f\"ATE: {est_ate_with_ps(df, formula, T, Y)}\")\n",
    "\n",
    "est_fn = partial(est_ate_with_ps, ps_formula=formula, T=T, Y=Y)\n",
    "print(f\"95% C.I.: \", bootstrap(df, est_fn))"
   ]
  },
  {
   "cell_type": "markdown",
   "id": "0ebe3435",
   "metadata": {},
   "source": [
    "### Stabilized Propensity Weights\n"
   ]
  },
  {
   "cell_type": "code",
   "execution_count": null,
   "id": "e02bdc28",
   "metadata": {
    "ExecuteTime": {
     "end_time": "2023-05-12T11:07:58.884300Z",
     "start_time": "2023-05-12T11:07:58.880620Z"
    }
   },
   "outputs": [],
   "source": [
    "print(\"Original Sample Size\", data_ps.shape[0])\n",
    "print(\"Treated Pseudo-Population Sample Size\", sum(weight_t))\n",
    "print(\"Untreated Pseudo-Population Sample Size\", sum(weight_nt))"
   ]
  },
  {
   "cell_type": "code",
   "execution_count": null,
   "id": "c4b45378",
   "metadata": {
    "ExecuteTime": {
     "end_time": "2023-05-12T11:07:58.894420Z",
     "start_time": "2023-05-12T11:07:58.886021Z"
    }
   },
   "outputs": [],
   "source": [
    "p_of_t = data_ps[\"intervention\"].mean()\n",
    "\n",
    "t1 = data_ps.query(\"intervention==1\")\n",
    "t0 = data_ps.query(\"intervention==0\")\n",
    "\n",
    "weight_t_stable = p_of_t/t1[\"propensity_score\"]\n",
    "weight_nt_stable = (1-p_of_t)/(1-t0[\"propensity_score\"])\n",
    "\n",
    "print(\"Treat size:\", len(t1))\n",
    "print(\"W treat\", sum(weight_t_stable))\n",
    "\n",
    "print(\"Control size:\", len(t0))\n",
    "print(\"W treat\", sum(weight_nt_stable))"
   ]
  },
  {
   "cell_type": "code",
   "execution_count": null,
   "id": "9636cb2a",
   "metadata": {
    "ExecuteTime": {
     "end_time": "2023-05-12T11:07:58.899822Z",
     "start_time": "2023-05-12T11:07:58.895988Z"
    }
   },
   "outputs": [],
   "source": [
    "nt = len(t1)\n",
    "nc = len(t0)\n",
    "\n",
    "y1 = sum(t1[\"engagement_score\"]*weight_t_stable)/nt\n",
    "y0 = sum(t0[\"engagement_score\"]*weight_nt_stable)/nc\n",
    "\n",
    "print(\"ATE: \", y1 - y0)"
   ]
  },
  {
   "cell_type": "markdown",
   "id": "42225e76",
   "metadata": {},
   "source": [
    "### Pseudo-Populations\n"
   ]
  },
  {
   "cell_type": "code",
   "execution_count": null,
   "id": "8c7441b3",
   "metadata": {
    "ExecuteTime": {
     "end_time": "2023-05-12T11:07:59.260274Z",
     "start_time": "2023-05-12T11:07:58.901319Z"
    },
    "tags": [
     "hide-input"
    ]
   },
   "outputs": [],
   "source": [
    "fig, (ax1, ax2) = plt.subplots(1, 2, figsize=(12,5), sharex=True, sharey=True)\n",
    "\n",
    "sns.histplot(data_ps.query(\"intervention==0\")[\"propensity_score\"], stat=\"probability\",\n",
    "             label=\"Not Treated\", color=\"C0\", bins=30, ax=ax1, alpha=0.5)\n",
    "sns.histplot(data_ps.query(\"intervention==1\")[\"propensity_score\"], stat=\"probability\",\n",
    "             label=\"Treated\", color=\"C2\", alpha=0.5, bins=30, ax=ax1)\n",
    "ax1.set_title(\"Propensity Distribution\")\n",
    "\n",
    "sns.histplot(data_ps.query(\"intervention==0\").assign(w=weight_nt_stable),\n",
    "             x=\"propensity_score\", stat=\"probability\",\n",
    "             color=\"C0\", weights=\"w\", label=\"Non Treated\", bins=30, ax=ax2,  alpha=0.5)\n",
    "\n",
    "sns.histplot(data_ps.query(\"intervention==1\").assign(w=weight_t_stable),\n",
    "             x=\"propensity_score\", stat=\"probability\",\n",
    "             color=\"C2\", weights=\"w\", label=\"Treated\", bins=30, alpha=0.5, ax=ax2)\n",
    "ax2.set_title(\"Weighted Propensity Distribution\")\n",
    "plt.legend()\n",
    "\n",
    "plt.tight_layout()\n"
   ]
  },
  {
   "cell_type": "markdown",
   "id": "3565c721",
   "metadata": {},
   "source": [
    "### Selection Bias\n"
   ]
  },
  {
   "cell_type": "markdown",
   "id": "a64d0a59",
   "metadata": {},
   "source": [
    "### Bias-Variance Trade-Off"
   ]
  },
  {
   "cell_type": "markdown",
   "id": "6fcee69c",
   "metadata": {
    "ExecuteTime": {
     "end_time": "2022-11-03T14:48:10.937516Z",
     "start_time": "2022-11-03T14:48:10.758842Z"
    }
   },
   "source": [
    "### Positivity\n"
   ]
  },
  {
   "cell_type": "code",
   "execution_count": null,
   "id": "ffba2b16",
   "metadata": {
    "ExecuteTime": {
     "end_time": "2023-05-12T11:07:59.268665Z",
     "start_time": "2023-05-12T11:07:59.261571Z"
    }
   },
   "outputs": [],
   "source": [
    "np.random.seed(1)\n",
    "\n",
    "n = 1000\n",
    "x = np.random.normal(0, 1, n)\n",
    "t = np.random.normal(x, 0.5, n) > 0\n",
    "\n",
    "y0 = -x\n",
    "y1 = y0 + t  # ate of 1\n",
    "\n",
    "y = np.random.normal((1-t)*y0 + t*y1, 0.2)\n",
    "\n",
    "df_no_pos = pd.DataFrame(dict(x=x,t=t.astype(int),y=y))\n",
    "\n",
    "df_no_pos.head()"
   ]
  },
  {
   "cell_type": "code",
   "execution_count": null,
   "id": "69fc573c",
   "metadata": {
    "ExecuteTime": {
     "end_time": "2023-05-12T11:07:59.734440Z",
     "start_time": "2023-05-12T11:07:59.269920Z"
    },
    "tags": [
     "hide-input"
    ]
   },
   "outputs": [],
   "source": [
    "ps_model_sim = smf.logit(\"\"\"t ~ x\"\"\", data=df_no_pos).fit(disp=0)\n",
    "df_no_pos_ps = df_no_pos.assign(ps=ps_model_sim.predict(df_no_pos))\n",
    "\n",
    "ps = ps_model_sim.predict(df_no_pos)\n",
    "w = df_no_pos[\"t\"]*df_no_pos[\"t\"].mean()/ps  + (1-df_no_pos[\"t\"])*((1-df_no_pos[\"t\"].mean())/(1-ps))\n",
    "\n",
    "fig, (ax1, ax2, ax3) = plt.subplots(1, 3, figsize=(16,7))\n",
    "\n",
    "sns.scatterplot(data=df_no_pos_ps.assign(w=w), x=\"x\", y=\"y\", hue=\"t\", ax=ax1);\n",
    "ax1.set_title(\"Original Data\")\n",
    "\n",
    "sns.histplot(df_no_pos_ps.query(\"t==0\")[\"ps\"], stat=\"probability\",\n",
    "             label=\"Non Treated\", color=\"C0\", bins=30, ax=ax2)\n",
    "sns.histplot(df_no_pos_ps.query(\"t==1\")[\"ps\"], stat=\"probability\",\n",
    "             label=\"Treated\", color=\"C1\", alpha=0.5, bins=30, ax=ax2)\n",
    "ax2.set_xlabel(\"e(x)\")\n",
    "ax2.legend()\n",
    "ax2.set_title(\"Positivity Check\")\n",
    "\n",
    "sns.scatterplot(data=df_no_pos_ps.assign(**{\"1/P(T=t)\":w}), x=\"x\", y=\"y\", hue=\"t\", ax=ax3, size=\"1/P(T=t)\", sizes=(1, 100));\n",
    "ax3.set_title(\"IPW Data\")\n",
    "\n",
    "plt.tight_layout()\n"
   ]
  },
  {
   "cell_type": "code",
   "execution_count": null,
   "id": "f5914813",
   "metadata": {
    "ExecuteTime": {
     "end_time": "2023-05-12T11:07:59.943313Z",
     "start_time": "2023-05-12T11:07:59.735601Z"
    }
   },
   "outputs": [],
   "source": [
    "est_fn = partial(est_ate_with_ps, ps_formula=\"x\", T=\"t\", Y=\"y\")\n",
    "print(\"ATE:\",  est_fn(df_no_pos))\n",
    "print(f\"95% C.I.: \", bootstrap(df_no_pos, est_fn))"
   ]
  },
  {
   "cell_type": "code",
   "execution_count": null,
   "id": "f59aa5ed",
   "metadata": {
    "ExecuteTime": {
     "end_time": "2023-05-12T11:07:59.951540Z",
     "start_time": "2023-05-12T11:07:59.944435Z"
    }
   },
   "outputs": [],
   "source": [
    "smf.ols(\"t ~ x + t\", data=df_no_pos).fit().params[\"t\"]"
   ]
  },
  {
   "cell_type": "markdown",
   "id": "d9e8fda4",
   "metadata": {},
   "source": [
    "## Design vs Model-Based Identification\n",
    "\n",
    "## Doubly Robust Estimation\n"
   ]
  },
  {
   "cell_type": "code",
   "execution_count": null,
   "id": "c2575efe",
   "metadata": {
    "ExecuteTime": {
     "end_time": "2023-05-12T11:07:59.957155Z",
     "start_time": "2023-05-12T11:07:59.952837Z"
    }
   },
   "outputs": [],
   "source": [
    "from sklearn.linear_model import LinearRegression\n",
    "\n",
    "def doubly_robust(df, formula, T, Y):\n",
    "    X = dmatrix(formula, df)\n",
    "    \n",
    "    ps_model = LogisticRegression(penalty=None,\n",
    "                                  max_iter=1000).fit(X, df[T])\n",
    "    ps = ps_model.predict_proba(X)[:, 1]\n",
    "    \n",
    "    m0 = LinearRegression().fit(X[df[T]==0, :], df.query(f\"{T}==0\")[Y])\n",
    "    m1 = LinearRegression().fit(X[df[T]==1, :], df.query(f\"{T}==1\")[Y])\n",
    "    \n",
    "    m0_hat = m0.predict(X)\n",
    "    m1_hat = m1.predict(X)\n",
    "\n",
    "    return (\n",
    "        np.mean(df[T]*(df[Y] - m1_hat)/ps + m1_hat) -\n",
    "        np.mean((1-df[T])*(df[Y] - m0_hat)/(1-ps) + m0_hat)\n",
    "    )"
   ]
  },
  {
   "cell_type": "code",
   "execution_count": null,
   "id": "a961815c",
   "metadata": {
    "ExecuteTime": {
     "end_time": "2023-05-12T11:08:08.867833Z",
     "start_time": "2023-05-12T11:07:59.964742Z"
    }
   },
   "outputs": [],
   "source": [
    "formula = \"\"\"tenure + last_engagement_score + department_score\n",
    "+ C(n_of_reports) + C(gender) + C(role)\"\"\"\n",
    "T = \"intervention\"\n",
    "Y = \"engagement_score\"\n",
    "\n",
    "print(\"DR ATE:\", doubly_robust(df, formula, T, Y))\n",
    "\n",
    "est_fn = partial(doubly_robust, formula=formula, T=T, Y=Y)\n",
    "print(\"95% CI\", bootstrap(df, est_fn))"
   ]
  },
  {
   "cell_type": "markdown",
   "id": "5ff85b13",
   "metadata": {},
   "source": [
    "### Treatment is Easy to Model\n"
   ]
  },
  {
   "cell_type": "code",
   "execution_count": null,
   "id": "2ea602d8",
   "metadata": {
    "ExecuteTime": {
     "end_time": "2023-05-12T11:08:08.877351Z",
     "start_time": "2023-05-12T11:08:08.869159Z"
    }
   },
   "outputs": [],
   "source": [
    "np.random.seed(123)\n",
    "\n",
    "n = 10000\n",
    "x = np.random.beta(1,1, n).round(2)*2\n",
    "e = 1/(1+np.exp(-(1+1.5*x)))\n",
    "t = np.random.binomial(1, e)\n",
    "\n",
    "y1 = 1\n",
    "y0 = 1 - 1*x**3\n",
    "y = t*(y1) + (1-t)*y0 + np.random.normal(0, 1, n)\n",
    "\n",
    "df_easy_t = pd.DataFrame(dict(y=y, x=x, t=t))\n",
    "\n",
    "print(\"True ATE:\", np.mean(y1-y0))"
   ]
  },
  {
   "cell_type": "code",
   "execution_count": null,
   "id": "b677cbea",
   "metadata": {
    "ExecuteTime": {
     "end_time": "2023-05-12T11:08:09.145569Z",
     "start_time": "2023-05-12T11:08:08.879037Z"
    },
    "tags": [
     "hide-input"
    ]
   },
   "outputs": [],
   "source": [
    "fig, (ax1, ax2) = plt.subplots(1, 2, figsize=(12,5))\n",
    "\n",
    "sns.scatterplot(data=(df_easy_t\n",
    "                      .assign(size=1)\n",
    "                      .groupby([\"x\"])\n",
    "                      .agg({\"size\":\"sum\", \"t\":\"mean\"})\n",
    "                      .reset_index()),\n",
    "                x=\"x\", y=\"t\", sizes=(1, 100), size=\"size\", ax=ax1);\n",
    "ax1.set_title(\"P(T|X)\")\n",
    "\n",
    "sns.scatterplot(data=(df_easy_t\n",
    "                      .assign(size=1)\n",
    "                      .groupby([\"x\", \"t\"])\n",
    "                      .agg({\"size\":\"sum\", \"y\":\"mean\"})\n",
    "                      .reset_index()),\n",
    "                x=\"x\", y=\"y\", hue=\"t\", sizes=(1, 100), size=\"size\", ax=ax2)\n",
    "\n",
    "ax2.set_title(\"E[Y|X, T]\")\n",
    "\n",
    "h,l = ax2.get_legend_handles_labels()\n",
    "plt.legend(h[0:3],l[0:3])\n"
   ]
  },
  {
   "cell_type": "code",
   "execution_count": null,
   "id": "1e1ad480",
   "metadata": {
    "ExecuteTime": {
     "end_time": "2023-05-12T11:08:09.163088Z",
     "start_time": "2023-05-12T11:08:09.146740Z"
    }
   },
   "outputs": [],
   "source": [
    "m0 = smf.ols(\"y~x\", data=df_easy_t.query(\"t==0\")).fit()\n",
    "m1 = smf.ols(\"y~x\", data=df_easy_t.query(\"t==1\")).fit()\n",
    "regr_ate = (m1.predict(df_easy_t) - m0.predict(df_easy_t)).mean()\n",
    "\n",
    "print(\"Regression ATE:\", regr_ate)"
   ]
  },
  {
   "cell_type": "code",
   "execution_count": null,
   "id": "11955e4f",
   "metadata": {
    "ExecuteTime": {
     "end_time": "2023-05-12T11:08:09.332598Z",
     "start_time": "2023-05-12T11:08:09.164987Z"
    },
    "tags": [
     "hide-input"
    ]
   },
   "outputs": [],
   "source": [
    "regr = smf.ols(\"y~x*t\", data=df_easy_t).fit()\n",
    "\n",
    "plt.figure(figsize=(10,4))\n",
    "\n",
    "sns.scatterplot(data=(df_easy_t\n",
    "                      .assign(count=1)\n",
    "                      .groupby([\"x\", \"t\"])\n",
    "                      .agg({\"count\":\"sum\", \"y\":\"mean\"})\n",
    "                      .reset_index()),\n",
    "                x=\"x\", y=\"y\", hue=\"t\", sizes=(1, 100), size=\"count\");\n",
    "\n",
    "g = sns.lineplot(data=(df_easy_t\n",
    "                   .assign(pred=regr.fittedvalues)\n",
    "                   .groupby([\"x\", \"t\"])\n",
    "                   .mean()\n",
    "                   .reset_index()),\n",
    "             x=\"x\", y=\"pred\", hue=\"t\", sizes=(1, 100))\n",
    "\n",
    "h,l = g.get_legend_handles_labels()\n",
    "plt.legend(h[0:3],l[0:3])\n",
    "\n"
   ]
  },
  {
   "cell_type": "code",
   "execution_count": null,
   "id": "4431a241",
   "metadata": {
    "ExecuteTime": {
     "end_time": "2023-05-12T11:08:09.355205Z",
     "start_time": "2023-05-12T11:08:09.334214Z"
    }
   },
   "outputs": [],
   "source": [
    "m = smf.ols(\"y~t*(x + np.power(x, 3))\", data=df_easy_t).fit()\n",
    "regr_ate = (m.predict(df_easy_t.assign(t=1))\n",
    "            - m.predict(df_easy_t.assign(t=0))).mean()\n",
    "\n",
    "print(\"Regression ATE:\", regr_ate)"
   ]
  },
  {
   "cell_type": "code",
   "execution_count": null,
   "id": "7fd1672f",
   "metadata": {
    "ExecuteTime": {
     "end_time": "2023-05-12T11:08:09.783895Z",
     "start_time": "2023-05-12T11:08:09.356437Z"
    }
   },
   "outputs": [],
   "source": [
    "est_fn = partial(est_ate_with_ps, ps_formula=\"x\", T=\"t\", Y=\"y\")\n",
    "print(\"Propensity Score ATE:\", est_fn(df_easy_t))\n",
    "print(\"95% CI\", bootstrap(df_easy_t, est_fn))"
   ]
  },
  {
   "cell_type": "code",
   "execution_count": null,
   "id": "1e6e6a01",
   "metadata": {
    "ExecuteTime": {
     "end_time": "2023-05-12T11:08:10.462923Z",
     "start_time": "2023-05-12T11:08:09.785069Z"
    }
   },
   "outputs": [],
   "source": [
    "est_fn = partial(doubly_robust, formula=\"x\", T=\"t\", Y=\"y\")\n",
    "print(\"DR ATE:\", est_fn(df_easy_t))\n",
    "print(\"95% CI\", bootstrap(df_easy_t, est_fn))"
   ]
  },
  {
   "cell_type": "markdown",
   "id": "a0a3f4e7",
   "metadata": {
    "ExecuteTime": {
     "end_time": "2022-11-09T13:33:58.010813Z",
     "start_time": "2022-11-09T13:33:58.004306Z"
    }
   },
   "source": [
    "### Outcome is Easy to Model\n"
   ]
  },
  {
   "cell_type": "code",
   "execution_count": null,
   "id": "6cc53df1",
   "metadata": {
    "ExecuteTime": {
     "end_time": "2023-05-12T11:08:10.470572Z",
     "start_time": "2023-05-12T11:08:10.464219Z"
    }
   },
   "outputs": [],
   "source": [
    "np.random.seed(123)\n",
    "\n",
    "n = 10000\n",
    "x = np.random.beta(1,1, n).round(2)*2\n",
    "e = 1/(1+np.exp(-(2*x - x**3)))\n",
    "t = np.random.binomial(1, e)\n",
    "\n",
    "y1 = x\n",
    "y0 = y1 + 1 # ate of -1\n",
    "y = t*(y1) + (1-t)*y0 + np.random.normal(0, 1, n)\n",
    "\n",
    "df_easy_y = pd.DataFrame(dict(y=y, x=x, t=t))\n",
    "\n",
    "print(\"True ATE:\", np.mean(y1-y0))"
   ]
  },
  {
   "cell_type": "markdown",
   "id": "46061335",
   "metadata": {},
   "source": [
    "The same kind of plot from before can be used to show the complex functional form for $P(T|X)$ and the simplicity of $E[Y_t|X]$."
   ]
  },
  {
   "cell_type": "code",
   "execution_count": null,
   "id": "1ae386b9",
   "metadata": {
    "ExecuteTime": {
     "end_time": "2023-05-12T11:08:10.738933Z",
     "start_time": "2023-05-12T11:08:10.471916Z"
    },
    "tags": [
     "hide-input"
    ]
   },
   "outputs": [],
   "source": [
    "fig, (ax1, ax2) = plt.subplots(1, 2, figsize=(12,5))\n",
    "\n",
    "sns.scatterplot(data=(df_easy_y\n",
    "                      .assign(size=1)\n",
    "                      .groupby([\"x\"])\n",
    "                      .agg({\"size\":\"sum\", \"t\":\"mean\"})\n",
    "                      .reset_index()),\n",
    "                x=\"x\", y=\"t\", sizes=(1, 100), size=\"size\", ax=ax1, legend=None);\n",
    "\n",
    "sns.scatterplot(data=(df_easy_y\n",
    "                      .assign(size=1)\n",
    "                      .groupby([\"x\", \"t\"])\n",
    "                      .agg({\"size\":\"sum\", \"y\":\"mean\"})\n",
    "                      .reset_index()),\n",
    "                x=\"x\", y=\"y\", hue=\"t\", sizes=(1, 100), size=\"size\", ax=ax2);\n",
    "\n",
    "ax1.set_title(\"P(T|X)\")\n",
    "ax2.set_title(\"E[Y|X, T]\")\n",
    "\n",
    "plt.legend(bbox_to_anchor=(1.05, 1), loc=2, borderaxespad=0.)\n"
   ]
  },
  {
   "cell_type": "code",
   "execution_count": null,
   "id": "13cb1eb1",
   "metadata": {
    "ExecuteTime": {
     "end_time": "2023-05-12T11:08:11.154007Z",
     "start_time": "2023-05-12T11:08:10.740189Z"
    }
   },
   "outputs": [],
   "source": [
    "est_fn = partial(est_ate_with_ps, ps_formula=\"x\", T=\"t\", Y=\"y\")\n",
    "print(\"Propensity Score ATE:\", est_fn(df_easy_y))\n",
    "print(\"95% CI\", bootstrap(df_easy_y, est_fn))"
   ]
  },
  {
   "cell_type": "code",
   "execution_count": null,
   "id": "f0f4fe19",
   "metadata": {
    "ExecuteTime": {
     "end_time": "2023-05-12T11:08:11.171898Z",
     "start_time": "2023-05-12T11:08:11.155236Z"
    }
   },
   "outputs": [],
   "source": [
    "m0 = smf.ols(\"y~x\", data=df_easy_y.query(\"t==0\")).fit()\n",
    "m1 = smf.ols(\"y~x\", data=df_easy_y.query(\"t==1\")).fit()\n",
    "regr_ate = (m1.predict(df_easy_y) - m0.predict(df_easy_y)).mean()\n",
    "\n",
    "print(\"Regression ATE:\", regr_ate)"
   ]
  },
  {
   "cell_type": "code",
   "execution_count": null,
   "id": "b36cc37b",
   "metadata": {
    "ExecuteTime": {
     "end_time": "2023-05-12T11:08:11.824440Z",
     "start_time": "2023-05-12T11:08:11.173187Z"
    }
   },
   "outputs": [],
   "source": [
    "est_fn = partial(doubly_robust, formula=\"x\", T=\"t\", Y=\"y\")\n",
    "print(\"DR ATE:\", est_fn(df_easy_y))\n",
    "print(\"95% CI\", bootstrap(df_easy_y, est_fn))"
   ]
  },
  {
   "cell_type": "markdown",
   "id": "3e2f8ac4",
   "metadata": {},
   "source": [
    "## Generalized Propensity Score for Continuous Treatment\n"
   ]
  },
  {
   "cell_type": "code",
   "execution_count": null,
   "id": "e18139f5",
   "metadata": {
    "ExecuteTime": {
     "end_time": "2023-05-12T11:08:11.836718Z",
     "start_time": "2023-05-12T11:08:11.825659Z"
    }
   },
   "outputs": [],
   "source": [
    "df_cont_t = pd.read_csv(\"./data/interest_rate.csv\")\n",
    "\n",
    "df_cont_t.head()"
   ]
  },
  {
   "cell_type": "code",
   "execution_count": null,
   "id": "5ee7df3b",
   "metadata": {
    "ExecuteTime": {
     "end_time": "2023-05-12T11:08:11.849810Z",
     "start_time": "2023-05-12T11:08:11.838019Z"
    }
   },
   "outputs": [],
   "source": [
    "m_naive = smf.ols(\"duration ~ interest\", data=df_cont_t).fit()\n",
    "m_naive.summary().tables[1]"
   ]
  },
  {
   "cell_type": "code",
   "execution_count": null,
   "id": "54aa0530",
   "metadata": {
    "ExecuteTime": {
     "end_time": "2023-05-12T11:08:11.862261Z",
     "start_time": "2023-05-12T11:08:11.851465Z"
    }
   },
   "outputs": [],
   "source": [
    "model_t = smf.ols(\"interest~ml_1+ml_2\", data=df_cont_t).fit()"
   ]
  },
  {
   "cell_type": "code",
   "execution_count": null,
   "id": "2860a138",
   "metadata": {
    "ExecuteTime": {
     "end_time": "2023-05-12T11:08:11.869602Z",
     "start_time": "2023-05-12T11:08:11.863766Z"
    }
   },
   "outputs": [],
   "source": [
    "def conditional_density(x, mean, std):\n",
    "    denom = std*np.sqrt(2*np.pi)\n",
    "    num = np.exp(-((1/2)*((x-mean)/std)**2))\n",
    "    return (num/denom).ravel()\n",
    "    \n",
    "\n",
    "gps = conditional_density(df_cont_t[\"interest\"],\n",
    "                          model_t.fittedvalues,\n",
    "                          np.std(model_t.resid))\n",
    "gps"
   ]
  },
  {
   "cell_type": "code",
   "execution_count": null,
   "id": "a1bd1769",
   "metadata": {
    "ExecuteTime": {
     "end_time": "2023-05-12T11:08:11.876231Z",
     "start_time": "2023-05-12T11:08:11.871167Z"
    }
   },
   "outputs": [],
   "source": [
    "from scipy.stats import norm\n",
    "\n",
    "gps = norm(loc=model_t.fittedvalues,\n",
    "           scale=np.std(model_t.resid)).pdf(df_cont_t[\"interest\"])\n",
    "gps"
   ]
  },
  {
   "cell_type": "markdown",
   "id": "07c6c327",
   "metadata": {},
   "source": [
    ":::{admonition} Beyond the Normal\n",
    "If the treatment follows another distribution other than the normal, you can use generalized linear models (`glm`) to fit it. For example, if $T$ was assigned according to a Poisson distribution, you could build the GPS weights with something like the following code\n",
    " \n",
    "```python\n",
    "import statsmodels.api as sm\n",
    "from scipy.stats import poisson\n",
    " \n",
    "mt = smf.glm(\"t~x1+x2\",\n",
    "             data=df, family=sm.families.Poisson()).fit()\n",
    " \n",
    "gps = poisson(mu=m_pois.fittedvalues).pmf(df[\"t\"])\n",
    " \n",
    "w = 1/gps\n",
    "```\n",
    " \n",
    ":::\n",
    " \n",
    " \n",
    "Using the inverse of the GPS as weights in a regression model can adjust for the bias. You can see that now you'll find a negative effect of interest on duration, which makes more business sense. "
   ]
  },
  {
   "cell_type": "code",
   "execution_count": null,
   "id": "32b6ba82",
   "metadata": {
    "ExecuteTime": {
     "end_time": "2023-05-12T11:08:11.887522Z",
     "start_time": "2023-05-12T11:08:11.877349Z"
    }
   },
   "outputs": [],
   "source": [
    "final_model = smf.wls(\"duration~interest\",\n",
    "                      data=df_cont_t, weights=1/gps).fit()\n",
    "\n",
    "final_model.params[\"interest\"]"
   ]
  },
  {
   "cell_type": "code",
   "execution_count": null,
   "id": "256b26cb",
   "metadata": {
    "ExecuteTime": {
     "end_time": "2023-05-12T11:08:12.437329Z",
     "start_time": "2023-05-12T11:08:11.889087Z"
    },
    "tags": [
     "hide-input"
    ]
   },
   "outputs": [],
   "source": [
    "np.random.seed(1)\n",
    "sample = df_cont_t.sample(2000)\n",
    "\n",
    "\n",
    "\n",
    "model_ex = smf.ols(\"interest~ml_1\", data=sample).fit()\n",
    "gps_ex = norm(loc=model_ex.fittedvalues, scale=np.std(model_ex.resid)).pdf(sample[\"interest\"])\n",
    "\n",
    "w_ex = 1/gps_ex\n",
    "\n",
    "m = smf.ols(\"duration~interest\", data=sample).fit()\n",
    "\n",
    "fig, (ax1, ax2, ax3) = plt.subplots(1, 3, figsize=(16, 6))\n",
    "\n",
    "sns.scatterplot(data=sample, x=\"interest\", y=\"duration\", alpha=1, ax=ax1, hue=\"ml_1\", palette = 'gray')\n",
    "ax1.plot(sample[\"interest\"], m.fittedvalues)\n",
    "\n",
    "ax1.set_ylabel(\"Duration\")\n",
    "ax1.set_xlabel(\"Interest\")\n",
    "ax1.set_title(\"Original Data\");\n",
    "\n",
    "\n",
    "sns.scatterplot(data=sample.assign(w=w_ex), x=\"ml_1\", y=\"interest\",size=\"w\",\n",
    "                sizes=(1,200), alpha=0.5, ax=ax2)\n",
    "ax2.plot(sample[\"ml_1\"], model_ex.fittedvalues)\n",
    "ax2.set_ylabel(\"Interest\")\n",
    "ax2.set_xlabel(\"ML-1\")\n",
    "ax2.set_title(\"Weights\")\n",
    "\n",
    "\n",
    "m = smf.wls(\"duration~interest\", data=sample, weights=w_ex).fit()\n",
    "\n",
    "sns.scatterplot(data=sample.assign(w=w_ex), x=\"interest\", y=\"duration\",size=\"w\",\n",
    "                sizes=(1,200), alpha=1, ax=ax3, hue=\"ml_1\", legend=None, palette = 'gray')\n",
    "ax3.plot(sample[\"interest\"], m.fittedvalues)\n",
    "ax3.set_ylabel(\"Duration\")\n",
    "ax3.set_xlabel(\"Interest\")\n",
    "ax3.set_title(\"Weighted Data\")\n",
    "\n",
    "plt.tight_layout()\n",
    "\n"
   ]
  },
  {
   "cell_type": "code",
   "execution_count": null,
   "id": "9e98d351",
   "metadata": {
    "ExecuteTime": {
     "end_time": "2023-05-12T11:08:12.443714Z",
     "start_time": "2023-05-12T11:08:12.438565Z"
    }
   },
   "outputs": [],
   "source": [
    "stabilizer = norm(\n",
    "    loc=df_cont_t[\"interest\"].mean(),\n",
    "    scale=np.std(df_cont_t[\"interest\"] - df_cont_t[\"interest\"].mean())\n",
    ").pdf(df_cont_t[\"interest\"])\n",
    "\n",
    "gipw =  stabilizer/gps\n",
    "\n",
    "print(\"Original Sample Size:\", len(df_cont_t))\n",
    "print(\"Effective Stable Weights Sample Size:\", sum(gipw))"
   ]
  },
  {
   "cell_type": "code",
   "execution_count": null,
   "id": "6267ea12",
   "metadata": {
    "ExecuteTime": {
     "end_time": "2023-05-12T11:08:12.891099Z",
     "start_time": "2023-05-12T11:08:12.444959Z"
    },
    "tags": [
     "hide-input"
    ]
   },
   "outputs": [],
   "source": [
    "np.random.seed(1)\n",
    "sample = df_cont_t.sample(2000)\n",
    "\n",
    "fig, (ax1, ax2, ax3) = plt.subplots(1, 3, figsize=(16, 6))\n",
    "\n",
    "model_ex = smf.ols(\"interest~ml_1\", data=sample).fit()\n",
    "gps_ex = norm(loc=model_ex.fittedvalues, scale=np.std(model_ex.resid)).pdf(sample[\"interest\"])\n",
    "stabilizer_ex = norm(\n",
    "    loc=sample[\"interest\"].mean(),\n",
    "    scale=np.std(sample[\"interest\"] - sample[\"interest\"].mean())\n",
    ").pdf(sample[\"interest\"])\n",
    "\n",
    "\n",
    "w_ex = stabilizer_ex/gps_ex\n",
    "\n",
    "m = smf.ols(\"duration~interest\", data=sample).fit()\n",
    "\n",
    "sns.scatterplot(data=sample, x=\"interest\", y=\"duration\", alpha=1, ax=ax1, hue=\"ml_1\", palette = 'gray')\n",
    "ax1.plot(sample[\"interest\"], m.fittedvalues, lw=3)\n",
    "ax1.set_ylabel(\"Duration\")\n",
    "ax1.set_xlabel(\"Interest\")\n",
    "ax1.set_title(\"Original Data\");\n",
    "\n",
    "\n",
    "sns.scatterplot(data=sample.assign(w=w_ex), x=\"ml_1\", y=\"interest\",size=\"w\",\n",
    "                sizes=(1,100), alpha=0.5, ax=ax2)\n",
    "\n",
    "ax2.plot(sample[\"ml_1\"], model_ex.fittedvalues, label=\"E[t|x]\", lw=3)\n",
    "\n",
    "ax2.hlines(sample[\"interest\"].mean(), -1, 1, label=\"E[t]\", color=\"C2\", lw=3)\n",
    "ax2.set_ylabel(\"Interest\")\n",
    "ax2.set_xlabel(\"ML-1\")\n",
    "ax2.set_title(\"Weights\")\n",
    "\n",
    "h,l = ax2.get_legend_handles_labels()\n",
    "ax2.legend(h[5:],l[5:],)\n",
    "\n",
    "m = smf.wls(\"duration~interest\", data=sample, weights=w_ex).fit()\n",
    "\n",
    "sns.scatterplot(data=sample.assign(w=w_ex), x=\"interest\", y=\"duration\",size=\"w\",\n",
    "                sizes=(1,100), alpha=1, ax=ax3, hue=\"ml_1\", legend=None, palette = 'gray')\n",
    "ax3.plot(sample[\"interest\"], m.fittedvalues, lw=3)\n",
    "ax3.set_ylabel(\"Duration\")\n",
    "ax3.set_xlabel(\"Interest\")\n",
    "ax3.set_title(\"Weighted Data\")\n",
    "\n"
   ]
  },
  {
   "cell_type": "code",
   "execution_count": null,
   "id": "9ce5ae29",
   "metadata": {
    "ExecuteTime": {
     "end_time": "2023-05-12T11:08:12.901455Z",
     "start_time": "2023-05-12T11:08:12.892243Z"
    }
   },
   "outputs": [],
   "source": [
    "final_model = smf.wls(\"duration ~ interest\",\n",
    "                      data=df_cont_t, weights=gipw).fit()\n",
    "\n",
    "final_model.params[\"interest\"]"
   ]
  },
  {
   "cell_type": "code",
   "execution_count": null,
   "id": "2f703690",
   "metadata": {
    "ExecuteTime": {
     "end_time": "2023-05-12T11:08:14.527085Z",
     "start_time": "2023-05-12T11:08:12.902606Z"
    },
    "tags": [
     "hide-input"
    ]
   },
   "outputs": [],
   "source": [
    "def gps_normal_ate(df, formula, T, Y, stable=True):\n",
    "    mt = smf.ols(f\"{T}~\"+formula, data=df).fit()\n",
    "    gps = norm(loc=mt.fittedvalues, scale=np.std(mt.resid)).pdf(df[T])\n",
    "    stabilizer = norm(\n",
    "        loc=df[T].mean(),\n",
    "        scale=np.std(df[T] - df[T].mean())\n",
    "    ).pdf(df[T])\n",
    "    \n",
    "    if stable:\n",
    "        return smf.wls(f\"{Y}~{T}\", data=df, weights=stabilizer/gps).fit().params[T]\n",
    "    else:\n",
    "        return smf.wls(f\"{Y}~{T}\", data=df, weights=1/gps).fit().params[T]\n",
    "\n",
    "print(\"95% CI, non-stable: \", bootstrap(df_cont_t, partial(gps_normal_ate, formula=\"ml_1 + ml_2\", T=\"interest\", Y=\"duration\", stable=False)))\n",
    "print(\"95% CI, stable: \", bootstrap(df_cont_t, partial(gps_normal_ate, formula=\"ml_1 + ml_2\", T=\"interest\", Y=\"duration\")))"
   ]
  },
  {
   "cell_type": "markdown",
   "id": "e11f696d",
   "metadata": {
    "ExecuteTime": {
     "end_time": "2022-11-12T18:44:15.536635Z",
     "start_time": "2022-11-12T18:44:15.508658Z"
    }
   },
   "source": [
    "## Keys Ideas\n"
   ]
  },
  {
   "cell_type": "code",
   "execution_count": null,
   "id": "e480dd16",
   "metadata": {
    "ExecuteTime": {
     "end_time": "2023-05-12T11:08:14.794244Z",
     "start_time": "2023-05-12T11:08:14.528440Z"
    },
    "tags": [
     "hide-input"
    ]
   },
   "outputs": [],
   "source": [
    "np.random.seed(1)\n",
    "\n",
    "n=100\n",
    "\n",
    "df1 = pd.DataFrame(dict(\n",
    "    x=1,\n",
    "    t=np.random.beta(2.5,1, n),\n",
    ")).assign(y = lambda d: np.random.normal(d[\"x\"]+d[\"t\"], 0.1))\n",
    "\n",
    "df2 = pd.DataFrame(dict(\n",
    "    x=2,\n",
    "    t=np.random.beta(1,1, n),\n",
    ")).assign(y = lambda d: np.random.normal(d[\"x\"]+d[\"t\"], 0.1))\n",
    "\n",
    "df3 = pd.DataFrame(dict(\n",
    "    x=3,\n",
    "    t=np.random.beta(1,2.5, n),\n",
    ")).assign(y = lambda d: np.random.normal(d[\"x\"]+d[\"t\"], 0.1))\n",
    "\n",
    "\n",
    "df_example = pd.concat([df1, df2, df3])\n",
    "\n",
    "fig, (ax1, ax2, ax3) = plt.subplots(1, 3, figsize=(15,6))\n",
    "\n",
    "m = smf.ols(\"y~t\", data=df_example).fit()\n",
    "sns.scatterplot(data=df_example, x=\"t\", y=\"y\",  hue=\"x\", s=50, ax=ax1, palette = 'gray')\n",
    "ax1.plot(df_example[\"t\"], m.fittedvalues)\n",
    "ax1.set_title(\"Biased Data\")\n",
    "\n",
    "## Orthogonalization\n",
    "\n",
    "mt = smf.ols(\"t~x\", data=df_example).fit()\n",
    "my = smf.ols(\"y~x\", data=df_example).fit()\n",
    "\n",
    "df_ex_res = df_example.assign(\n",
    "    t_res = mt.resid + df_example[\"t\"].mean(),\n",
    "    y_res = my.resid + df_example[\"y\"].mean()\n",
    ")\n",
    "\n",
    "m_final = smf.ols(\"y_res~t_res\", data=df_ex_res).fit()\n",
    "sns.scatterplot(data=df_ex_res, x=\"t_res\", y=\"y_res\",  hue=\"x\", s=50, ax=ax2, legend=None, palette = 'gray')\n",
    "ax2.plot(df_ex_res[\"t_res\"], m_final.fittedvalues)\n",
    "\n",
    "ax2.set_ylim(df_example[\"y\"].min(), df_example[\"y\"].max())\n",
    "ax2.set_xlim(df_example[\"t\"].min(), df_example[\"t\"].max())\n",
    "\n",
    "ax2.set_ylabel(\"y - E[y|x] + E[y]\")\n",
    "ax2.set_xlabel(\"t - E[t|x] + E[t]\")\n",
    "ax2.set_title(\"Orthogonalization\")\n",
    "\n",
    "\n",
    "## IPW\n",
    "gps_example = norm(loc=mt.fittedvalues, scale=np.std(mt.resid)).pdf(df_example[\"t\"])\n",
    "stabilizer_example = norm(\n",
    "    loc=df_example[\"t\"].mean(),\n",
    "    scale=np.std(df_example[\"t\"] - df_example[\"t\"].mean())\n",
    ").pdf(df_example[\"t\"])\n",
    "\n",
    "\n",
    "w_example = stabilizer_example/gps_example\n",
    "mw = smf.wls(\"y~t\", data=df_example, weights=w_example).fit()\n",
    "\n",
    "\n",
    "sns.scatterplot(data=df_example.assign(w=w_example), x=\"t\", y=\"y\",  hue=\"x\", ax=ax3, size=\"w\",\n",
    "                legend=None, sizes=(11,100), palette = 'gray')\n",
    "ax3.plot(df_example[\"t\"], mw.fittedvalues)\n",
    "ax3.set_title(\"IPW\")\n",
    "\n",
    "plt.tight_layout()\n"
   ]
  },
  {
   "cell_type": "code",
   "execution_count": null,
   "id": "115c8780",
   "metadata": {},
   "outputs": [],
   "source": []
  }
 ],
 "metadata": {
  "celltoolbar": "Tags",
  "kernelspec": {
   "display_name": ".venv",
   "language": "python",
   "name": "python3"
  },
  "language_info": {
   "codemirror_mode": {
    "name": "ipython",
    "version": 3
   },
   "file_extension": ".py",
   "mimetype": "text/x-python",
   "name": "python",
   "nbconvert_exporter": "python",
   "pygments_lexer": "ipython3",
   "version": "3.12.10"
  },
  "toc": {
   "base_numbering": 1,
   "nav_menu": {},
   "number_sections": true,
   "sideBar": true,
   "skip_h1_title": false,
   "title_cell": "Table of Contents",
   "title_sidebar": "Contents",
   "toc_cell": false,
   "toc_position": {},
   "toc_section_display": true,
   "toc_window_display": false
  },
  "varInspector": {
   "cols": {
    "lenName": 16,
    "lenType": 16,
    "lenVar": 40
   },
   "kernels_config": {
    "python": {
     "delete_cmd_postfix": "",
     "delete_cmd_prefix": "del ",
     "library": "var_list.py",
     "varRefreshCmd": "print(var_dic_list())"
    },
    "r": {
     "delete_cmd_postfix": ") ",
     "delete_cmd_prefix": "rm(",
     "library": "var_list.r",
     "varRefreshCmd": "cat(var_dic_list()) "
    }
   },
   "types_to_exclude": [
    "module",
    "function",
    "builtin_function_or_method",
    "instance",
    "_Feature"
   ],
   "window_display": false
  }
 },
 "nbformat": 4,
 "nbformat_minor": 5
}
