{
 "cells": [
  {
   "cell_type": "markdown",
   "id": "4dc1bf63",
   "metadata": {},
   "source": [
    "# 08-Difference-in-Differences\n",
    "\n",
    "\n",
    "## Panel Data\n"
   ]
  },
  {
   "cell_type": "code",
   "execution_count": null,
   "id": "a6d9bc21",
   "metadata": {
    "ExecuteTime": {
     "end_time": "2024-01-20T14:39:09.552555Z",
     "start_time": "2024-01-20T14:39:06.893550Z"
    },
    "tags": [
     "hide-input"
    ]
   },
   "outputs": [],
   "source": [
    "from toolz import *\n",
    "\n",
    "import pandas as pd\n",
    "import numpy as np\n",
    "\n",
    "import statsmodels.formula.api as smf\n",
    "\n",
    "import seaborn as sns\n",
    "from matplotlib import pyplot as plt\n",
    "import matplotlib\n",
    "\n",
    "from cycler import cycler\n",
    "\n",
    "color=['0.0', '0.4', '0.8']\n",
    "default_cycler = (cycler(color=color))\n",
    "linestyle=['-', '--', ':', '-.']\n",
    "marker=['o', 'v', 'd', 'p']\n",
    "\n",
    "plt.rc('axes', prop_cycle=default_cycler)"
   ]
  },
  {
   "cell_type": "code",
   "execution_count": null,
   "id": "d17c7963",
   "metadata": {
    "ExecuteTime": {
     "end_time": "2024-01-20T14:39:09.589128Z",
     "start_time": "2024-01-20T14:39:09.554340Z"
    }
   },
   "outputs": [],
   "source": [
    "import pandas as pd\n",
    "import numpy as np\n",
    "\n",
    "mkt_data = (pd.read_csv(\"./data/short_offline_mkt_south.csv\")\n",
    "            .astype({\"date\":\"datetime64[ns]\"}))\n",
    "\n",
    "mkt_data.head()"
   ]
  },
  {
   "cell_type": "code",
   "execution_count": null,
   "id": "3d6cdba1",
   "metadata": {
    "ExecuteTime": {
     "end_time": "2024-01-20T14:39:09.608185Z",
     "start_time": "2024-01-20T14:39:09.594150Z"
    }
   },
   "outputs": [],
   "source": [
    "(mkt_data\n",
    " .assign(w = lambda d: d[\"treated\"]*d[\"post\"])\n",
    " .groupby([\"w\"])\n",
    " .agg({\"date\":[min, max]}))"
   ]
  },
  {
   "cell_type": "markdown",
   "id": "43105f6e",
   "metadata": {},
   "source": [
    "## Canonical Difference-in-Differences\n"
   ]
  },
  {
   "cell_type": "code",
   "execution_count": null,
   "id": "355d9c2c",
   "metadata": {
    "ExecuteTime": {
     "end_time": "2024-01-20T14:39:09.622154Z",
     "start_time": "2024-01-20T14:39:09.611867Z"
    }
   },
   "outputs": [],
   "source": [
    "did_data = (mkt_data\n",
    "            .groupby([\"treated\", \"post\"])\n",
    "            .agg({\"downloads\":\"mean\", \"date\": \"min\"}))\n",
    "\n",
    "did_data"
   ]
  },
  {
   "cell_type": "code",
   "execution_count": null,
   "id": "79bcb7fe",
   "metadata": {
    "ExecuteTime": {
     "end_time": "2024-01-20T14:39:09.632122Z",
     "start_time": "2024-01-20T14:39:09.624048Z"
    }
   },
   "outputs": [],
   "source": [
    "y0_est = (did_data.loc[1].loc[0, \"downloads\"] # treated baseline\n",
    "          # control evolution\n",
    "          + did_data.loc[0].diff().loc[1, \"downloads\"]) \n",
    "\n",
    "att = did_data.loc[1].loc[1, \"downloads\"] - y0_est\n",
    "att"
   ]
  },
  {
   "cell_type": "code",
   "execution_count": null,
   "id": "b51d6822",
   "metadata": {
    "ExecuteTime": {
     "end_time": "2024-01-20T14:39:09.640871Z",
     "start_time": "2024-01-20T14:39:09.633597Z"
    }
   },
   "outputs": [],
   "source": [
    "mkt_data.query(\"post==1\").query(\"treated==1\")[\"tau\"].mean()"
   ]
  },
  {
   "cell_type": "markdown",
   "id": "e911d8b1",
   "metadata": {},
   "source": [
    "### Diff-in-Diff with Outcome Growth\n"
   ]
  },
  {
   "cell_type": "code",
   "execution_count": null,
   "id": "10e16d8d",
   "metadata": {
    "ExecuteTime": {
     "end_time": "2024-01-20T14:39:09.656244Z",
     "start_time": "2024-01-20T14:39:09.642523Z"
    }
   },
   "outputs": [],
   "source": [
    "pre = mkt_data.query(\"post==0\").groupby(\"city\")[\"downloads\"].mean()\n",
    "post = mkt_data.query(\"post==1\").groupby(\"city\")[\"downloads\"].mean()\n",
    "\n",
    "delta_y = ((post - pre)\n",
    "           .rename(\"delta_y\")\n",
    "           .to_frame()\n",
    "           # add the treatment dummy\n",
    "           .join(mkt_data.groupby(\"city\")[\"treated\"].max()))\n",
    "\n",
    "delta_y.tail()"
   ]
  },
  {
   "cell_type": "code",
   "execution_count": null,
   "id": "31be6542",
   "metadata": {
    "ExecuteTime": {
     "end_time": "2024-01-20T14:39:09.665299Z",
     "start_time": "2024-01-20T14:39:09.659783Z"
    }
   },
   "outputs": [],
   "source": [
    "(delta_y.query(\"treated==1\")[\"delta_y\"].mean() \n",
    " - delta_y.query(\"treated==0\")[\"delta_y\"].mean())"
   ]
  },
  {
   "cell_type": "code",
   "execution_count": null,
   "id": "ff0261df",
   "metadata": {
    "ExecuteTime": {
     "end_time": "2024-01-20T14:39:09.877683Z",
     "start_time": "2024-01-20T14:39:09.666729Z"
    },
    "tags": [
     "hide-input"
    ]
   },
   "outputs": [],
   "source": [
    "did_plt = did_data.reset_index()\n",
    "\n",
    "\n",
    "plt.figure(figsize=(10,4))\n",
    "\n",
    "sns.scatterplot(data=did_plt.query(\"treated==0\"), x=\"date\", y=\"downloads\", s=100, color=\"C0\", marker=\"s\")\n",
    "sns.lineplot(data=did_plt.query(\"treated==0\"), x=\"date\", y=\"downloads\", label=\"Control\", color=\"C0\")\n",
    "\n",
    "sns.scatterplot(data=did_plt.query(\"treated==1\"), x=\"date\", y=\"downloads\", s=100, color=\"C1\", marker=\"x\")\n",
    "sns.lineplot(data=did_plt.query(\"treated==1\"), x=\"date\", y=\"downloads\", label=\"Treated\", color=\"C1\",)\n",
    "\n",
    "plt.plot(did_data.loc[1, \"date\"], [did_data.loc[1, \"downloads\"][0], y0_est], color=\"C2\", linestyle=\"dashed\", label=\"Y(0)|D=1\")\n",
    "plt.scatter(did_data.loc[1, \"date\"], [did_data.loc[1, \"downloads\"][0], y0_est], color=\"C2\", s=50)\n",
    "\n",
    "plt.xticks(rotation = 45);\n",
    "plt.legend()\n"
   ]
  },
  {
   "cell_type": "markdown",
   "id": "7d388983",
   "metadata": {},
   "source": [
    "### Diff-in-Diff with OLS\n"
   ]
  },
  {
   "cell_type": "code",
   "execution_count": null,
   "id": "bead249f",
   "metadata": {
    "ExecuteTime": {
     "end_time": "2024-01-20T14:39:09.887639Z",
     "start_time": "2024-01-20T14:39:09.879115Z"
    },
    "scrolled": true
   },
   "outputs": [],
   "source": [
    "did_data = (mkt_data\n",
    "            .groupby([\"city\", \"post\"])\n",
    "            .agg({\"downloads\":\"mean\", \"date\": \"min\", \"treated\": \"max\"})\n",
    "            .reset_index())\n",
    "\n",
    "did_data.head()"
   ]
  },
  {
   "cell_type": "code",
   "execution_count": null,
   "id": "54757217",
   "metadata": {
    "ExecuteTime": {
     "end_time": "2024-01-20T14:39:09.896935Z",
     "start_time": "2024-01-20T14:39:09.889021Z"
    }
   },
   "outputs": [],
   "source": [
    "import statsmodels.formula.api as smf\n",
    "\n",
    "smf.ols(\n",
    "    'downloads ~ treated*post', data=did_data\n",
    ").fit().params[\"treated:post\"]"
   ]
  },
  {
   "cell_type": "markdown",
   "id": "6b379c13",
   "metadata": {},
   "source": [
    "### Diff-in-Diff with Fixed Effects\n"
   ]
  },
  {
   "cell_type": "code",
   "execution_count": null,
   "id": "bd379d42",
   "metadata": {
    "ExecuteTime": {
     "end_time": "2024-01-20T14:39:09.913703Z",
     "start_time": "2024-01-20T14:39:09.898238Z"
    }
   },
   "outputs": [],
   "source": [
    "m = smf.ols('downloads ~ treated:post + C(city) + C(post)',\n",
    "            data=did_data).fit()\n",
    "\n",
    "m.params[\"treated:post\"]"
   ]
  },
  {
   "cell_type": "markdown",
   "id": "48ef6933",
   "metadata": {},
   "source": [
    "### Multiple Time Periods\n"
   ]
  },
  {
   "cell_type": "code",
   "execution_count": null,
   "id": "d1eed2c4",
   "metadata": {
    "ExecuteTime": {
     "end_time": "2024-01-20T14:39:11.143922Z",
     "start_time": "2024-01-20T14:39:09.915271Z"
    },
    "tags": [
     "hide-input"
    ]
   },
   "outputs": [],
   "source": [
    "import matplotlib.ticker as plticker\n",
    "\n",
    "\n",
    "fig, (ax1, ax2) = plt.subplots(2,1, figsize=(9, 12), sharex=True)\n",
    "\n",
    "heat_plt = (mkt_data\n",
    "            .assign(treated=lambda d: d.groupby(\"city\")[\"treated\"].transform(max))            \n",
    "            .astype({\"date\":\"str\"})\n",
    "            .assign(treated=mkt_data[\"treated\"]*mkt_data[\"post\"])\n",
    "            .pivot(index=\"city\", columns=\"date\", values=\"treated\")\n",
    "            .reset_index()\n",
    "            .sort_values(max(mkt_data[\"date\"].astype(str)), ascending=False)\n",
    "            .reset_index()\n",
    "            .drop(columns=[\"city\"])\n",
    "            .rename(columns={\"index\":\"city\"})\n",
    "            .set_index(\"city\"))\n",
    "\n",
    "\n",
    "sns.heatmap(heat_plt, cmap=\"gray\", linewidths=0.01, linecolor=\"0.5\", ax=ax1, cbar=False)\n",
    "\n",
    "ax1.set_title(\"Treatment Assignment\")\n",
    "\n",
    "\n",
    "sns.lineplot(data=mkt_data.astype({\"date\":\"str\"}),\n",
    "             x=\"date\", y=\"downloads\", hue=\"treated\", ax=ax2)\n",
    "\n",
    "loc = plticker.MultipleLocator(base=2.0)\n",
    "# ax2.xaxis.set_major_locator(loc)\n",
    "ax2.vlines(\"2021-05-15\", mkt_data[\"downloads\"].min(), mkt_data[\"downloads\"].max(), color=\"black\", ls=\"dashed\", label=\"Interv.\")\n",
    "ax2.set_title(\"Outcome Over Time\")\n",
    "\n",
    "plt.xticks(rotation = 50);"
   ]
  },
  {
   "cell_type": "code",
   "execution_count": null,
   "id": "647b569a",
   "metadata": {
    "ExecuteTime": {
     "end_time": "2024-01-20T14:39:11.154791Z",
     "start_time": "2024-01-20T14:39:11.145888Z"
    }
   },
   "outputs": [],
   "source": [
    "m = smf.ols('downloads ~ treated*post', data=mkt_data).fit()\n",
    "\n",
    "m.params[\"treated:post\"]"
   ]
  },
  {
   "cell_type": "code",
   "execution_count": null,
   "id": "a60e4fdc",
   "metadata": {
    "ExecuteTime": {
     "end_time": "2024-01-20T14:39:11.208103Z",
     "start_time": "2024-01-20T14:39:11.156607Z"
    }
   },
   "outputs": [],
   "source": [
    "m = smf.ols('downloads ~ treated:post + C(city) + C(date)',\n",
    "            data=mkt_data).fit()\n",
    "\n",
    "m.params[\"treated:post\"]"
   ]
  },
  {
   "cell_type": "markdown",
   "id": "55619cf5",
   "metadata": {},
   "source": [
    "### Inference\n"
   ]
  },
  {
   "cell_type": "code",
   "execution_count": null,
   "id": "7d2cd163",
   "metadata": {
    "ExecuteTime": {
     "end_time": "2024-01-20T14:39:11.263156Z",
     "start_time": "2024-01-20T14:39:11.209780Z"
    }
   },
   "outputs": [],
   "source": [
    "m = smf.ols(\n",
    "    'downloads ~ treated:post + C(city) + C(date)', data=mkt_data\n",
    ").fit(cov_type='cluster', cov_kwds={'groups': mkt_data['city']})\n",
    "\n",
    "print(\"ATT:\", m.params[\"treated:post\"])\n",
    "m.conf_int().loc[\"treated:post\"]"
   ]
  },
  {
   "cell_type": "code",
   "execution_count": null,
   "id": "e0d03f38",
   "metadata": {
    "ExecuteTime": {
     "end_time": "2024-01-20T14:39:11.313615Z",
     "start_time": "2024-01-20T14:39:11.265201Z"
    }
   },
   "outputs": [],
   "source": [
    "m = smf.ols('downloads ~ treated:post + C(city) + C(date)',\n",
    "            data=mkt_data).fit()\n",
    "\n",
    "print(\"ATT:\", m.params[\"treated:post\"])\n",
    "m.conf_int().loc[\"treated:post\"]"
   ]
  },
  {
   "cell_type": "code",
   "execution_count": null,
   "id": "05dd249f",
   "metadata": {
    "ExecuteTime": {
     "end_time": "2024-01-20T14:39:11.329426Z",
     "start_time": "2024-01-20T14:39:11.315450Z"
    }
   },
   "outputs": [],
   "source": [
    "m = smf.ols(\n",
    "    'downloads ~ treated:post + C(city) + C(date)', data=did_data\n",
    ").fit(cov_type='cluster', cov_kwds={'groups': did_data['city']})\n",
    "\n",
    "print(\"ATT:\", m.params[\"treated:post\"])\n",
    "m.conf_int().loc[\"treated:post\"]"
   ]
  },
  {
   "cell_type": "code",
   "execution_count": null,
   "id": "b7b5b5bd",
   "metadata": {
    "ExecuteTime": {
     "end_time": "2024-01-20T14:39:11.333852Z",
     "start_time": "2024-01-20T14:39:11.331302Z"
    }
   },
   "outputs": [],
   "source": [
    "def block_sample(df, unit_col):\n",
    "    \n",
    "    units = df[unit_col].unique()\n",
    "    sample = np.random.choice(units, size=len(units), replace=True) \n",
    "    \n",
    "    return (df\n",
    "            .set_index(unit_col)\n",
    "            .loc[sample]\n",
    "            .reset_index(level=[unit_col]))"
   ]
  },
  {
   "cell_type": "code",
   "execution_count": null,
   "id": "b6fb9979",
   "metadata": {
    "ExecuteTime": {
     "end_time": "2024-01-20T14:39:11.387119Z",
     "start_time": "2024-01-20T14:39:11.335017Z"
    }
   },
   "outputs": [],
   "source": [
    "from joblib import Parallel, delayed\n",
    "\n",
    "def block_bootstrap(data, est_fn, unit_col,\n",
    "                    rounds=200, seed=123, pcts=[2.5, 97.5]):\n",
    "    np.random.seed(seed)\n",
    "    \n",
    "    stats = Parallel(n_jobs=4)(\n",
    "        delayed(est_fn)(block_sample(data, unit_col=unit_col))\n",
    "        for _ in range(rounds))\n",
    "    \n",
    "    return np.percentile(stats, pcts)"
   ]
  },
  {
   "cell_type": "code",
   "execution_count": null,
   "id": "95c7a1b3",
   "metadata": {
    "ExecuteTime": {
     "end_time": "2024-01-20T14:39:14.534420Z",
     "start_time": "2024-01-20T14:39:11.388302Z"
    }
   },
   "outputs": [],
   "source": [
    "def est_fn(df):\n",
    "    m = smf.ols('downloads ~ treated:post + C(city) + C(date)',\n",
    "                data=df).fit()\n",
    "    return m.params[\"treated:post\"]\n",
    "\n",
    "block_bootstrap(mkt_data, est_fn, \"city\")"
   ]
  },
  {
   "cell_type": "markdown",
   "id": "9488a76d",
   "metadata": {},
   "source": [
    "## Identification Assumptions\n"
   ]
  },
  {
   "cell_type": "markdown",
   "id": "e3f34a6a",
   "metadata": {},
   "source": [
    "### Parallel Trends\n"
   ]
  },
  {
   "cell_type": "code",
   "execution_count": null,
   "id": "708b214a",
   "metadata": {
    "ExecuteTime": {
     "end_time": "2024-01-20T14:39:14.882883Z",
     "start_time": "2024-01-20T14:39:14.535841Z"
    },
    "tags": [
     "hide-input"
    ]
   },
   "outputs": [],
   "source": [
    "fig, (ax1, ax2, ax3)  = plt.subplots(1, 3, figsize=(20,7))\n",
    "\n",
    "obs_df = pd.DataFrame(dict(\n",
    "    period = [2,3, 2,3],\n",
    "    treated = [0,0, 1,1],\n",
    "    y = [4,6, 10,16],\n",
    "))\n",
    "\n",
    "baseline = 10-4\n",
    "\n",
    "\n",
    "plt_d1 = pd.DataFrame(dict(\n",
    "    period = [1,2,3,4, 1,2,3,4],\n",
    "    treated = [0,0,0,0, 1,1,1,1],\n",
    "    y = [2,4,6,8, 8,10,12,14],\n",
    "))\n",
    "\n",
    "sns.lineplot(data=plt_d1, x=\"period\", y=\"y\", hue=\"treated\", linestyle=\"dashed\", legend=None, ax=ax1)\n",
    "sns.lineplot(data=obs_df, x=\"period\", y=\"y\", hue=\"treated\", legend=None, ax=ax1)\n",
    "sns.lineplot(data=obs_df.assign(y=obs_df[\"y\"] + baseline).query(\"treated==0\"),\n",
    "             x=\"period\", y=\"y\",  legend=None, ax=ax1, color=\"C0\", linestyle=\"dotted\")\n",
    "\n",
    "sns.scatterplot(data=obs_df, x=\"period\", y=\"y\", hue=\"treated\", style=\"treated\", s=100, ax=ax1)\n",
    "ax1.set_title(\"Parallel Trends\")\n",
    "\n",
    "\n",
    "plt_d2 = pd.DataFrame(dict(\n",
    "    period = [1,2,3,4, 1,2,3,4],\n",
    "    treated = [0,0,0,0, 1,1,1,1],\n",
    "    y = [2,4,6,8, 9,10,11,12],\n",
    "))\n",
    "\n",
    "sns.lineplot(data=plt_d2, x=\"period\", y=\"y\", hue=\"treated\", linestyle=\"dashed\", legend=None, ax=ax2)\n",
    "sns.lineplot(data=obs_df, x=\"period\", y=\"y\", hue=\"treated\", legend=None, ax=ax2)\n",
    "sns.scatterplot(data=obs_df, x=\"period\", y=\"y\", hue=\"treated\", style=\"treated\", s=100, ax=ax2)\n",
    "sns.lineplot(data=obs_df.assign(y=obs_df[\"y\"] + baseline).query(\"treated==0\"),\n",
    "             x=\"period\", y=\"y\",  legend=None, ax=ax2, color=\"C0\", linestyle=\"dotted\")\n",
    "\n",
    "ax2.set_title(\"Diverging Trends\")\n",
    "\n",
    "\n",
    "\n",
    "non_lin = np.log\n",
    "non_lin_obs = obs_df.assign(y=non_lin(obs_df[\"y\"]))\n",
    "\n",
    "plt_d3 = pd.DataFrame(dict(\n",
    "    period = [1,2,3,4, 1,2,3,4],\n",
    "    treated = [0,0,0,0, 1,1,1,1],\n",
    "    y = non_lin([2,4,6,8, 8,10,12,14]),\n",
    "))\n",
    "\n",
    "\n",
    "sns.lineplot(data=plt_d3, x=\"period\", y=\"y\", hue=\"treated\", linestyle=\"dashed\", legend=None, ax=ax3)\n",
    "sns.lineplot(data=non_lin_obs, x=\"period\", y=\"y\", hue=\"treated\", legend=None, ax=ax3)\n",
    "sns.scatterplot(data=non_lin_obs, x=\"period\", y=\"y\", hue=\"treated\", style=\"treated\", s=100, ax=ax3)\n",
    "sns.lineplot(x=[2, 3], y=non_lin_obs.query(\"treated==1 & period==2\")[\"y\"].values - non_lin_obs.query(\"treated==0 & period==2\")[\"y\"].values + non_lin_obs.query(\"treated==0\")[\"y\"], color=\"C0\", \n",
    "            linestyle=\"dotted\")\n",
    "\n",
    "\n",
    "ax3.set_title(\"Log Scale\")\n",
    "ax3.set_ylabel(\"Log(y)\")\n"
   ]
  },
  {
   "cell_type": "markdown",
   "id": "6cb74f2b",
   "metadata": {},
   "source": [
    "### No Anticipation Assumption and SUTVA \n"
   ]
  },
  {
   "cell_type": "markdown",
   "id": "4eba4765",
   "metadata": {},
   "source": [
    "### Strict Exogeneity\n"
   ]
  },
  {
   "cell_type": "markdown",
   "id": "6967f77b",
   "metadata": {},
   "source": [
    "### No Time Varying Confounders\n"
   ]
  },
  {
   "cell_type": "markdown",
   "id": "e2ff9a0d",
   "metadata": {},
   "source": [
    "### No Feedback\n",
    "\n",
    "### No Carryover and no Lagged Dependent Variable\n",
    "\n"
   ]
  },
  {
   "cell_type": "markdown",
   "id": "112bc864",
   "metadata": {},
   "source": [
    "## Effect Dynamics Over Time\n"
   ]
  },
  {
   "cell_type": "code",
   "execution_count": null,
   "id": "3671f124",
   "metadata": {
    "ExecuteTime": {
     "end_time": "2024-01-20T14:39:14.887265Z",
     "start_time": "2024-01-20T14:39:14.884119Z"
    }
   },
   "outputs": [],
   "source": [
    "def did_date(df, date):\n",
    "    df_date = (df\n",
    "               .query(\"date==@date | post==0\")\n",
    "               .query(\"date <= @date\")\n",
    "               .assign(post = lambda d: (d[\"date\"]==date).astype(int)))\n",
    "    \n",
    "    m = smf.ols(\n",
    "        'downloads ~ I(treated*post) + C(city) + C(date)', data=df_date\n",
    "    ).fit(cov_type='cluster', cov_kwds={'groups': df_date['city']})\n",
    "    \n",
    "    att = m.params[\"I(treated * post)\"]\n",
    "    ci = m.conf_int().loc[\"I(treated * post)\"]\n",
    "    \n",
    "    return pd.DataFrame({\"att\": att, \"ci_low\": ci[0], \"ci_up\": ci[1]},\n",
    "                        index=[date])"
   ]
  },
  {
   "cell_type": "code",
   "execution_count": null,
   "id": "294464f7",
   "metadata": {
    "ExecuteTime": {
     "end_time": "2024-01-20T14:39:15.544541Z",
     "start_time": "2024-01-20T14:39:14.888459Z"
    }
   },
   "outputs": [],
   "source": [
    "post_dates = sorted(mkt_data[\"date\"].unique())[1:]\n",
    "\n",
    "atts = pd.concat([did_date(mkt_data, date)\n",
    "                  for date in post_dates])\n",
    "\n",
    "atts.head()"
   ]
  },
  {
   "cell_type": "code",
   "execution_count": null,
   "id": "7e79a77d",
   "metadata": {
    "ExecuteTime": {
     "end_time": "2024-01-20T14:39:15.777294Z",
     "start_time": "2024-01-20T14:39:15.546486Z"
    },
    "tags": [
     "hide-input"
    ]
   },
   "outputs": [],
   "source": [
    "\n",
    "plt.figure(figsize=(10,4))\n",
    "plt.plot(atts.index, atts[\"att\"], label=\"Est. ATTs\")\n",
    "\n",
    "plt.fill_between(atts.index, atts[\"ci_low\"], atts[\"ci_up\"], alpha=0.1)\n",
    "\n",
    "plt.vlines(pd.to_datetime(\"2021-05-15\"), -2, 3, linestyle=\"dashed\", label=\"intervention\")\n",
    "plt.hlines(0, atts.index.min(), atts.index.max(), linestyle=\"dotted\")\n",
    "\n",
    "plt.plot(atts.index, mkt_data.query(\"treated==1\").groupby(\"date\")[[\"tau\"]].mean().values[1:], color=\"0.6\", ls=\"-.\", label=\"$\\\\tau$\")\n",
    "\n",
    "plt.xticks(rotation=45)\n",
    "plt.title(\"DID ATTs Over Time\")\n",
    "plt.legend()\n"
   ]
  },
  {
   "cell_type": "markdown",
   "id": "19419472",
   "metadata": {},
   "source": [
    "## Diff-in-Diff with Covariates\n"
   ]
  },
  {
   "cell_type": "code",
   "execution_count": null,
   "id": "772ea9be",
   "metadata": {
    "ExecuteTime": {
     "end_time": "2024-01-20T14:39:15.793664Z",
     "start_time": "2024-01-20T14:39:15.783819Z"
    }
   },
   "outputs": [],
   "source": [
    "mkt_data_all = (pd.read_csv(\"./data/short_offline_mkt_all_regions.csv\")\n",
    "                .astype({\"date\":\"datetime64[ns]\"}))"
   ]
  },
  {
   "cell_type": "code",
   "execution_count": null,
   "id": "0094ac1b",
   "metadata": {
    "ExecuteTime": {
     "end_time": "2024-01-20T14:39:15.977299Z",
     "start_time": "2024-01-20T14:39:15.794801Z"
    },
    "tags": [
     "hide-input"
    ]
   },
   "outputs": [],
   "source": [
    "plt.figure(figsize=(15,6))\n",
    "sns.lineplot(data=mkt_data_all.groupby([\"date\", \"region\", \"treated\"])[[\"downloads\"]].mean().reset_index(),\n",
    "             x=\"date\", y=\"downloads\", hue=\"region\", style=\"treated\", palette=\"gray\")\n",
    "\n",
    "plt.vlines(pd.to_datetime(\"2021-05-15\"), 15, 55, ls=\"dotted\", label=\"Intervention\")\n",
    "plt.legend(fontsize=14)\n",
    "\n",
    "plt.xticks(rotation=25);"
   ]
  },
  {
   "cell_type": "code",
   "execution_count": null,
   "id": "60ec5572",
   "metadata": {
    "ExecuteTime": {
     "end_time": "2024-01-20T14:39:16.361794Z",
     "start_time": "2024-01-20T14:39:15.978681Z"
    }
   },
   "outputs": [],
   "source": [
    "print(\"True ATT: \", mkt_data_all.query(\"treated*post==1\")[\"tau\"].mean())\n",
    "\n",
    "m = smf.ols('downloads ~ treated:post + C(city) + C(date)',\n",
    "            data=mkt_data_all).fit()\n",
    "\n",
    "print(\"Estimated ATT:\", m.params[\"treated:post\"])"
   ]
  },
  {
   "cell_type": "code",
   "execution_count": null,
   "id": "e36e4949",
   "metadata": {
    "ExecuteTime": {
     "end_time": "2024-01-20T14:39:16.809745Z",
     "start_time": "2024-01-20T14:39:16.363503Z"
    }
   },
   "outputs": [],
   "source": [
    "m = smf.ols('downloads ~ treated:post + C(city) + C(date) + C(region)',\n",
    "            data=mkt_data_all).fit()\n",
    "m.params[\"treated:post\"] "
   ]
  },
  {
   "cell_type": "code",
   "execution_count": null,
   "id": "2cd0d7e7",
   "metadata": {
    "ExecuteTime": {
     "end_time": "2024-01-20T14:39:16.855055Z",
     "start_time": "2024-01-20T14:39:16.811240Z"
    }
   },
   "outputs": [],
   "source": [
    "m_saturated = smf.ols('downloads ~ (post*treated)*C(region)',\n",
    "                      data=mkt_data_all).fit()\n",
    "\n",
    "atts = m_saturated.params[m_saturated.params.index.str.contains(\"post:treated\")]\n",
    "atts"
   ]
  },
  {
   "cell_type": "code",
   "execution_count": null,
   "id": "0696dc65",
   "metadata": {
    "ExecuteTime": {
     "end_time": "2024-01-20T14:39:16.862407Z",
     "start_time": "2024-01-20T14:39:16.857052Z"
    }
   },
   "outputs": [],
   "source": [
    "reg_size = (mkt_data_all.groupby(\"region\").size()\n",
    "            /len(mkt_data_all[\"date\"].unique()))\n",
    "\n",
    "base = atts[0]\n",
    "\n",
    "np.array([reg_size[0]*base]+\n",
    "         [(att+base)*size\n",
    "          for att, size in zip(atts[1:], reg_size[1:])]\n",
    "        ).sum()/sum(reg_size)"
   ]
  },
  {
   "cell_type": "code",
   "execution_count": null,
   "id": "babd253f",
   "metadata": {
    "ExecuteTime": {
     "end_time": "2024-01-20T14:39:16.901908Z",
     "start_time": "2024-01-20T14:39:16.864155Z"
    }
   },
   "outputs": [],
   "source": [
    "m = smf.ols('downloads ~ post*(treated + C(region))',\n",
    "            data=mkt_data_all).fit()\n",
    "\n",
    "m.summary().tables[1]"
   ]
  },
  {
   "cell_type": "markdown",
   "id": "2d4f0071",
   "metadata": {},
   "source": [
    "## Doubly Robust Diff-in-Diff\n",
    "\n",
    "### Propensity Score Model\n"
   ]
  },
  {
   "cell_type": "code",
   "execution_count": null,
   "id": "3b36415c",
   "metadata": {
    "ExecuteTime": {
     "end_time": "2024-01-20T14:39:16.905292Z",
     "start_time": "2024-01-20T14:39:16.903355Z"
    },
    "tags": [
     "hide-input"
    ]
   },
   "outputs": [],
   "source": [
    "import warnings\n",
    "warnings.filterwarnings('ignore')"
   ]
  },
  {
   "cell_type": "code",
   "execution_count": null,
   "id": "9597c76f",
   "metadata": {
    "ExecuteTime": {
     "end_time": "2024-01-20T14:39:16.976538Z",
     "start_time": "2024-01-20T14:39:16.906798Z"
    }
   },
   "outputs": [],
   "source": [
    "unit_df = (mkt_data_all\n",
    "           # keep only the first date\n",
    "           .astype({\"date\": str})\n",
    "           .query(f\"date=='{mkt_data_all['date'].astype(str).min()}'\")\n",
    "           .drop(columns=[\"date\"])) # just to avoid confusion\n",
    "\n",
    "ps_model = smf.logit(\"treated~C(region)\", data=unit_df).fit(disp=0)"
   ]
  },
  {
   "cell_type": "markdown",
   "id": "156457a2",
   "metadata": {},
   "source": [
    "### Delta Outcome Model\n"
   ]
  },
  {
   "cell_type": "code",
   "execution_count": null,
   "id": "0461e333",
   "metadata": {
    "ExecuteTime": {
     "end_time": "2024-01-20T14:39:16.983583Z",
     "start_time": "2024-01-20T14:39:16.977717Z"
    }
   },
   "outputs": [],
   "source": [
    "delta_y = (\n",
    "    mkt_data_all.query(\"post==1\").groupby(\"city\")[\"downloads\"].mean()\n",
    "    - mkt_data_all.query(\"post==0\").groupby(\"city\")[\"downloads\"].mean()\n",
    ")"
   ]
  },
  {
   "cell_type": "code",
   "execution_count": null,
   "id": "b8062cbf",
   "metadata": {
    "ExecuteTime": {
     "end_time": "2024-01-20T14:39:16.992595Z",
     "start_time": "2024-01-20T14:39:16.985055Z"
    }
   },
   "outputs": [],
   "source": [
    "df_delta_y = (unit_df\n",
    "              .set_index(\"city\")\n",
    "              .join(delta_y.rename(\"delta_y\")))\n",
    "\n",
    "outcome_model = smf.ols(\"delta_y ~ C(region)\", data=df_delta_y).fit()"
   ]
  },
  {
   "cell_type": "markdown",
   "id": "42240030",
   "metadata": {},
   "source": [
    "### All Together Now\n"
   ]
  },
  {
   "cell_type": "code",
   "execution_count": null,
   "id": "c444c816",
   "metadata": {
    "ExecuteTime": {
     "end_time": "2024-01-20T14:39:17.005940Z",
     "start_time": "2024-01-20T14:39:16.994243Z"
    }
   },
   "outputs": [],
   "source": [
    "df_dr = (df_delta_y\n",
    "         .assign(y_hat = lambda d: outcome_model.predict(d))\n",
    "         .assign(ps = lambda d: ps_model.predict(d)))\n",
    "\n",
    "df_dr.head()"
   ]
  },
  {
   "cell_type": "code",
   "execution_count": null,
   "id": "16ca3217",
   "metadata": {
    "ExecuteTime": {
     "end_time": "2024-01-20T14:39:17.013829Z",
     "start_time": "2024-01-20T14:39:17.007363Z"
    }
   },
   "outputs": [],
   "source": [
    "tr = df_dr.query(\"treated==1\")\n",
    "co = df_dr.query(\"treated==0\")\n",
    "\n",
    "dy1_treat = (tr[\"delta_y\"] - tr[\"y_hat\"]).mean()\n",
    "\n",
    "w_cont = co[\"ps\"]/(1-co[\"ps\"])\n",
    "dy0_treat = np.average(co[\"delta_y\"] - co[\"y_hat\"], weights=w_cont)\n",
    "\n",
    "print(\"ATT:\", dy1_treat - dy0_treat)"
   ]
  },
  {
   "cell_type": "markdown",
   "id": "24548f97",
   "metadata": {},
   "source": [
    "## Staggered Adoption\n"
   ]
  },
  {
   "cell_type": "code",
   "execution_count": null,
   "id": "8cf441b3",
   "metadata": {
    "ExecuteTime": {
     "end_time": "2024-01-20T14:39:17.038353Z",
     "start_time": "2024-01-20T14:39:17.015632Z"
    }
   },
   "outputs": [],
   "source": [
    "mkt_data_cohorts = (pd.read_csv(\"./data/offline_mkt_staggered.csv\")\n",
    "                    .astype({\n",
    "                        \"date\":\"datetime64[ns]\",\n",
    "                        \"cohort\":\"datetime64[ns]\"}))\n",
    "\n",
    "mkt_data_cohorts.head()"
   ]
  },
  {
   "cell_type": "code",
   "execution_count": null,
   "id": "07878605",
   "metadata": {
    "ExecuteTime": {
     "end_time": "2024-01-20T14:39:17.641301Z",
     "start_time": "2024-01-20T14:39:17.040228Z"
    },
    "tags": [
     "hide-input"
    ]
   },
   "outputs": [],
   "source": [
    "plt_data = (mkt_data_cohorts\n",
    "            .astype({\"date\":\"str\"})\n",
    "            .assign(treated_post = lambda d: d[\"treated\"]*(d[\"date\"]>=d[\"cohort\"]))\n",
    "            .pivot(index=\"city\", columns=\"date\", values=\"treated_post\")\n",
    "            .reset_index()\n",
    "            .sort_values(list(sorted(mkt_data_cohorts.query(\"cohort!='2100-01-01'\")[\"cohort\"].astype(\"str\").unique())), ascending=False)\n",
    "            .reset_index()\n",
    "            .drop(columns=[\"city\"])\n",
    "            .rename(columns={\"index\":\"city\"})\n",
    "            .set_index(\"city\"))\n",
    "\n",
    "\n",
    "\n",
    "plt.figure(figsize=(16,8))\n",
    "\n",
    "sns.heatmap(plt_data, cmap=\"gray\",cbar=False)\n",
    "plt.text(18, 18, \"Cohort$=G_{05/15}$\", size=14)\n",
    "plt.text(38, 65, \"Cohort$=G_{06/04}$\", size=14)\n",
    "plt.text(55, 110, \"Cohort$=G_{06/20}$\", size=14)\n",
    "plt.text(35, 170, \"Cohort$=G_{\\\\infty}$\", color=\"white\", size=14, weight=3);"
   ]
  },
  {
   "cell_type": "code",
   "execution_count": null,
   "id": "0bf1dbe1",
   "metadata": {
    "ExecuteTime": {
     "end_time": "2024-01-20T14:39:17.650522Z",
     "start_time": "2024-01-20T14:39:17.642515Z"
    }
   },
   "outputs": [],
   "source": [
    "mkt_data_cohorts_w = mkt_data_cohorts.query(\"region=='W'\")\n",
    "mkt_data_cohorts_w.head()"
   ]
  },
  {
   "cell_type": "code",
   "execution_count": null,
   "id": "45449b0d",
   "metadata": {
    "ExecuteTime": {
     "end_time": "2024-01-20T14:39:17.951595Z",
     "start_time": "2024-01-20T14:39:17.651779Z"
    },
    "tags": [
     "hide-input"
    ]
   },
   "outputs": [],
   "source": [
    "fig, (ax1, ax2) = plt.subplots(2, 1, figsize=(15, 10))\n",
    "\n",
    "plt_data = (mkt_data_cohorts_w\n",
    "            .groupby([\"date\", \"cohort\"])\n",
    "            [[\"downloads\"]]\n",
    "            .mean()\n",
    "            .reset_index()\n",
    ")\n",
    "\n",
    "\n",
    "\n",
    "for color, cohort in zip([\"C0\", \"C1\", \"C2\", \"C3\"], mkt_data_cohorts_w.query(\"cohort!='2100-01-01'\")[\"cohort\"].unique()):\n",
    "    df_cohort = plt_data.query(\"cohort==@cohort\")\n",
    "    sns.lineplot(data=df_cohort, x=\"date\", y=\"downloads\",\n",
    "                 label=pd.to_datetime(cohort).strftime('%Y-%m-%d'), ax=ax1)\n",
    "    ax1.vlines(x=cohort, ymin=25, ymax=50, color=color, ls=\"dotted\", lw=3)\n",
    "    \n",
    "    \n",
    "sns.lineplot(data=plt_data.query(\"cohort=='2100-01-01'\"), x=\"date\", y=\"downloads\", label=\"$\\infty$\", lw=4, ls=\"-.\", ax=ax1)\n",
    "        \n",
    "ax1.legend()\n",
    "ax1.set_title(\"Multiple Cohorts - West Region\");\n",
    "\n",
    "\n",
    "plt_data = (mkt_data_cohorts_w\n",
    "            .assign(days_to_treatment = lambda d: (pd.to_datetime(d[\"date\"])-pd.to_datetime(d[\"cohort\"])).dt.days)\n",
    "            .groupby([\"date\", \"cohort\"])\n",
    "            [[\"downloads\", \"days_to_treatment\"]]\n",
    "            .mean()\n",
    "            .reset_index()\n",
    ")\n",
    "\n",
    "\n",
    "for color, cohort in zip([\"C0\", \"C1\", \"C2\", \"C3\"], mkt_data_cohorts_w.query(\"cohort!='2100-01-01'\")[\"cohort\"].unique()):\n",
    "    df_cohort = plt_data.query(\"cohort==@cohort\")\n",
    "    sns.lineplot(data=df_cohort, x=\"days_to_treatment\", y=\"downloads\",\n",
    "                 label=pd.to_datetime(cohort).strftime('%Y-%m-%d'), ax=ax2)\n",
    "\n",
    "ax2.vlines(x=0, ymin=25, ymax=50, color=\"black\", ls=\"dotted\", lw=3)\n",
    "\n",
    "ax2.set_title(\"Multiple Cohorts (Aligned) - West Region\")\n",
    "ax2.legend();\n",
    "\n",
    "plt.tight_layout()"
   ]
  },
  {
   "cell_type": "code",
   "execution_count": null,
   "id": "2a4daaa8",
   "metadata": {
    "ExecuteTime": {
     "end_time": "2024-01-20T14:39:18.161933Z",
     "start_time": "2024-01-20T14:39:17.953112Z"
    }
   },
   "outputs": [],
   "source": [
    "twfe_model = smf.ols(\n",
    "    \"downloads ~ treated:post + C(date) + C(city)\",\n",
    "    data=mkt_data_cohorts_w\n",
    ").fit()\n",
    "\n",
    "true_tau = mkt_data_cohorts_w.query(\"post==1&treated==1\")[\"tau\"].mean()\n",
    "\n",
    "print(\"True Effect: \", true_tau)\n",
    "print(\"Estimated ATT:\", twfe_model.params[\"treated:post\"])"
   ]
  },
  {
   "cell_type": "code",
   "execution_count": null,
   "id": "39a017b4",
   "metadata": {
    "ExecuteTime": {
     "end_time": "2024-01-20T14:39:18.623416Z",
     "start_time": "2024-01-20T14:39:18.163727Z"
    },
    "tags": [
     "hide-input"
    ]
   },
   "outputs": [],
   "source": [
    "fig, (ax1, ax2) = plt.subplots(2, 1, figsize=(15, 10), sharex=True)\n",
    "\n",
    "# fig, (ax1, ax2) = plt.subplots(2, 1, figsize=(10, 10))\n",
    "\n",
    "cohort_erly='2021-06-04'\n",
    "cohort_late='2021-06-20'\n",
    "\n",
    "## Early vs Late\n",
    "did_df = (mkt_data_cohorts_w\n",
    "            .loc[lambda d: d[\"date\"].astype(str) < cohort_late]\n",
    "            .query(f\"cohort=='{cohort_late}' | cohort=='{cohort_erly}'\")\n",
    "            .assign(treated = lambda d: (d[\"cohort\"] == cohort_erly)*1,\n",
    "                    post = lambda d: (d[\"date\"].astype(str) >= cohort_erly)*1))\n",
    "\n",
    "m = smf.ols(\n",
    "    \"downloads ~ treated:post + C(date) + C(city)\",\n",
    "    data=did_df\n",
    ").fit()\n",
    "\n",
    "\n",
    "# print(\"Estimated\", m.params[\"treated:post\"])\n",
    "# print(\"True\", did_df.query(\"post==1 & treated==1\")[\"tau\"].mean())\n",
    "\n",
    "plt_data = (did_df\n",
    "            .assign(installs_hat_0 = lambda d: m.predict(d.assign(treated=0)))\n",
    "            .groupby([\"date\", \"cohort\"])\n",
    "            [[\"downloads\", \"post\", \"treated\", \"installs_hat_0\"]]\n",
    "            .mean()\n",
    "            .reset_index())\n",
    "\n",
    "\n",
    "sns.lineplot(data=plt_data, x=\"date\", y=\"downloads\", hue=\"cohort\", ax=ax1)\n",
    "sns.lineplot(data=plt_data.query(\"treated==1 & post==1\"),\n",
    "             x=\"date\", y=\"installs_hat_0\", ax=ax1, ls=\"-.\", alpha=0.5, label=\"$\\hat{Y}_0|T=1$\")\n",
    "\n",
    "\n",
    "ax1.vlines(pd.to_datetime(cohort_erly), 26, 38, ls=\"dashed\")\n",
    "ax1.legend()\n",
    "ax1.set_title(\"Early vs Late\")\n",
    "\n",
    "\n",
    "# ## Late vs Early\n",
    "\n",
    "did_df = (mkt_data_cohorts_w\n",
    "            .loc[lambda d: d[\"date\"].astype(str) > cohort_erly]\n",
    "            .query(f\"cohort=='{cohort_late}' | cohort=='{cohort_erly}'\")\n",
    "            .assign(treated = lambda d: (d[\"cohort\"] == cohort_late)*1,\n",
    "                    post = lambda d: (d[\"date\"].astype(str) >= cohort_late)*1))\n",
    "\n",
    "m = smf.ols(\n",
    "    \"downloads ~ treated*post + C(date) + C(city)\",\n",
    "    data=did_df\n",
    ").fit()\n",
    "\n",
    "# print(\"Estimated\", m.params[\"treated:post\"])\n",
    "# print(\"True\", did_df.query(\"post==1 & treated==1\")[\"tau\"].mean())\n",
    "\n",
    "\n",
    "plt_data = (did_df\n",
    "            .assign(installs_hat_0 = lambda d: m.predict(d.assign(treated=0)))\n",
    "            .groupby([\"date\", \"cohort\"])\n",
    "            [[\"downloads\", \"post\", \"treated\", \"installs_hat_0\"]]\n",
    "            .mean()\n",
    "            .reset_index())\n",
    "\n",
    "\n",
    "sns.lineplot(data=plt_data, x=\"date\", y=\"downloads\", hue=\"cohort\", ax=ax2)\n",
    "sns.lineplot(data=plt_data.query(\"treated==1 & post==1\"),\n",
    "             x=\"date\", y=\"installs_hat_0\", ax=ax2, ls=\"-.\", alpha=0.5, label=\"$\\hat{Y}_0|T=1$\")\n",
    "\n",
    "ax2.vlines(pd.to_datetime(\"2021-06-20\"), 32, 45, ls=\"dashed\")\n",
    "ax2.legend()\n",
    "ax2.set_title(\"Late vs Early\")"
   ]
  },
  {
   "cell_type": "markdown",
   "id": "0221c59e",
   "metadata": {},
   "source": [
    "### Heterogeneous Effect over Time\n"
   ]
  },
  {
   "cell_type": "code",
   "execution_count": null,
   "id": "63a48d15",
   "metadata": {
    "ExecuteTime": {
     "end_time": "2024-01-20T14:39:19.558367Z",
     "start_time": "2024-01-20T14:39:18.624891Z"
    }
   },
   "outputs": [],
   "source": [
    "formula = \"downloads ~ treated:post:C(cohort):C(date) + C(city)+C(date)\"\n",
    "\n",
    "twfe_model = smf.ols(formula, data=mkt_data_cohorts_w).fit()"
   ]
  },
  {
   "cell_type": "code",
   "execution_count": null,
   "id": "7a037a3e",
   "metadata": {
    "ExecuteTime": {
     "end_time": "2024-01-20T14:39:19.603935Z",
     "start_time": "2024-01-20T14:39:19.559718Z"
    }
   },
   "outputs": [],
   "source": [
    "df_pred = (\n",
    "    mkt_data_cohorts_w\n",
    "    .query(\"post==1 & treated==1\")\n",
    "    .assign(y_hat_0=lambda d: twfe_model.predict(d.assign(treated=0)))\n",
    "    .assign(effect_hat=lambda d: d[\"downloads\"] - d[\"y_hat_0\"])\n",
    ")\n",
    "\n",
    "print(\"Number of param.:\", len(twfe_model.params))\n",
    "print(\"True Effect: \", df_pred[\"tau\"].mean())\n",
    "print(\"Pred. Effect: \", df_pred[\"effect_hat\"].mean())"
   ]
  },
  {
   "cell_type": "code",
   "execution_count": null,
   "id": "08d5e8fd",
   "metadata": {
    "ExecuteTime": {
     "end_time": "2024-01-20T14:39:20.575551Z",
     "start_time": "2024-01-20T14:39:19.605555Z"
    },
    "tags": [
     "hide-input"
    ]
   },
   "outputs": [],
   "source": [
    "formula = \"downloads ~ treated:post:C(cohort):C(date) + C(city) + C(date)\"\n",
    "\n",
    "twfe_model = smf.ols(formula, data=mkt_data_cohorts_w.astype({\"date\":str, \"cohort\": str})).fit()\n",
    "\n",
    "effects = (twfe_model.params[twfe_model.params.index.str.contains(\"treated\")]\n",
    "           .reset_index()\n",
    "           .rename(columns={0:\"param\"})\n",
    "           .assign(cohort=lambda d: d[\"index\"].str.extract(r'C\\(cohort\\)\\[(.*)\\]:'))\n",
    "           .assign(date=lambda d: d[\"index\"].str.extract(r':C\\(date\\)\\[(.*)\\]'))\n",
    "           .assign(date=lambda d: pd.to_datetime(d[\"date\"]), cohort=lambda d: pd.to_datetime(d[\"cohort\"])))\n",
    "\n",
    "plt.figure(figsize=(10,4))\n",
    "sns.lineplot(data=effects, x=\"date\", y=\"param\", hue=\"cohort\", palette=\"gray\")\n",
    "plt.xticks(rotation=45)\n",
    "plt.ylabel(\"Estimated Effect\")\n",
    "plt.legend(fontsize=12)\n"
   ]
  },
  {
   "cell_type": "code",
   "execution_count": null,
   "id": "f7cb29c6",
   "metadata": {
    "ExecuteTime": {
     "end_time": "2024-01-20T14:39:20.612808Z",
     "start_time": "2024-01-20T14:39:20.576937Z"
    }
   },
   "outputs": [],
   "source": [
    "cohorts = sorted(mkt_data_cohorts_w[\"cohort\"].unique())\n",
    "\n",
    "treated_G = cohorts[:-1]\n",
    "nvr_treated = cohorts[-1]\n",
    "\n",
    "def did_g_vs_nvr_treated(df: pd.DataFrame,\n",
    "                         cohort: str,\n",
    "                         nvr_treated: str,\n",
    "                         cohort_col: str = \"cohort\",\n",
    "                         date_col: str = \"date\",\n",
    "                         y_col: str = \"downloads\"):\n",
    "    did_g = (\n",
    "        df\n",
    "        .loc[lambda d:(d[cohort_col] == cohort)|\n",
    "                      (d[cohort_col] == nvr_treated)]\n",
    "        .assign(treated = lambda d: (d[cohort_col] == cohort)*1)\n",
    "        .assign(post = lambda d:(pd.to_datetime(d[date_col])>=cohort)*1)\n",
    "    )\n",
    "    \n",
    "    att_g = smf.ols(f\"{y_col} ~ treated*post\",\n",
    "                    data=did_g).fit().params[\"treated:post\"]\n",
    "    size = len(did_g.query(\"treated==1 & post==1\"))\n",
    "    return {\"att_g\": att_g, \"size\": size}\n",
    "\n",
    "\n",
    "atts = pd.DataFrame(\n",
    "    [did_g_vs_nvr_treated(mkt_data_cohorts_w, cohort, nvr_treated)\n",
    "     for cohort in treated_G]\n",
    ")\n",
    "    \n",
    "atts"
   ]
  },
  {
   "cell_type": "code",
   "execution_count": null,
   "id": "6be01a88",
   "metadata": {
    "ExecuteTime": {
     "end_time": "2024-01-20T14:39:20.618637Z",
     "start_time": "2024-01-20T14:39:20.614787Z"
    }
   },
   "outputs": [],
   "source": [
    "(atts[\"att_g\"]*atts[\"size\"]).sum()/atts[\"size\"].sum()"
   ]
  },
  {
   "cell_type": "markdown",
   "id": "c39f917a",
   "metadata": {},
   "source": [
    "### Covariates\n"
   ]
  },
  {
   "cell_type": "code",
   "execution_count": null,
   "id": "a0db0197",
   "metadata": {
    "ExecuteTime": {
     "end_time": "2024-01-20T14:39:26.293019Z",
     "start_time": "2024-01-20T14:39:20.620396Z"
    }
   },
   "outputs": [],
   "source": [
    "formula = \"\"\"\n",
    "downloads ~ treated:post:C(cohort):C(date)\n",
    "+ C(date):C(region) + C(city) + C(date)\"\"\"\n",
    "\n",
    "twfe_model = smf.ols(formula, data=mkt_data_cohorts).fit()"
   ]
  },
  {
   "cell_type": "code",
   "execution_count": null,
   "id": "91ba286e",
   "metadata": {
    "ExecuteTime": {
     "end_time": "2024-01-20T14:39:26.472928Z",
     "start_time": "2024-01-20T14:39:26.294479Z"
    }
   },
   "outputs": [],
   "source": [
    "df_pred = (\n",
    "    mkt_data_cohorts\n",
    "    .query(\"post==1 & treated==1\")\n",
    "    .assign(y_hat_0=lambda d: twfe_model.predict(d.assign(treated=0)))\n",
    "    .assign(effect_hat=lambda d: d[\"downloads\"] - d[\"y_hat_0\"])\n",
    ")\n",
    "\n",
    "print(\"Number of param.:\", len(twfe_model.params))\n",
    "print(\"True Effect: \",  df_pred[\"tau\"].mean())\n",
    "print(\"Pred. Effect: \", df_pred[\"effect_hat\"].mean())"
   ]
  },
  {
   "cell_type": "markdown",
   "id": "38a89222",
   "metadata": {},
   "source": [
    "## Key Ideas\n"
   ]
  },
  {
   "cell_type": "code",
   "execution_count": null,
   "id": "32a42086",
   "metadata": {},
   "outputs": [],
   "source": []
  }
 ],
 "metadata": {
  "celltoolbar": "Tags",
  "kernelspec": {
   "display_name": ".venv",
   "language": "python",
   "name": "python3"
  },
  "language_info": {
   "codemirror_mode": {
    "name": "ipython",
    "version": 3
   },
   "file_extension": ".py",
   "mimetype": "text/x-python",
   "name": "python",
   "nbconvert_exporter": "python",
   "pygments_lexer": "ipython3",
   "version": "3.12.10"
  },
  "toc": {
   "base_numbering": 1,
   "nav_menu": {},
   "number_sections": true,
   "sideBar": true,
   "skip_h1_title": false,
   "title_cell": "Table of Contents",
   "title_sidebar": "Contents",
   "toc_cell": false,
   "toc_position": {},
   "toc_section_display": true,
   "toc_window_display": false
  },
  "varInspector": {
   "cols": {
    "lenName": 16,
    "lenType": 16,
    "lenVar": 40
   },
   "kernels_config": {
    "python": {
     "delete_cmd_postfix": "",
     "delete_cmd_prefix": "del ",
     "library": "var_list.py",
     "varRefreshCmd": "print(var_dic_list())"
    },
    "r": {
     "delete_cmd_postfix": ") ",
     "delete_cmd_prefix": "rm(",
     "library": "var_list.r",
     "varRefreshCmd": "cat(var_dic_list()) "
    }
   },
   "types_to_exclude": [
    "module",
    "function",
    "builtin_function_or_method",
    "instance",
    "_Feature"
   ],
   "window_display": false
  }
 },
 "nbformat": 4,
 "nbformat_minor": 5
}
